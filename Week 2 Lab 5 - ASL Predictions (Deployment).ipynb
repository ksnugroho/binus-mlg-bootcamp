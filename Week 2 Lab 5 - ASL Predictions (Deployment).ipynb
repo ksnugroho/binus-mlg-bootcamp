{
  "cells": [
    {
      "cell_type": "markdown",
      "metadata": {
        "id": "EKFbMeI4Csut"
      },
      "source": [
        "<center><a href=\"https://www.nvidia.com/dli\"> <img src=\"https://developer-blogs.nvidia.com/wp-content/uploads/2020/03/DLI_Feature_new.png\" alt=\"Header\" style=\"width: 400px;\"/> </a></center>"
      ]
    },
    {
      "cell_type": "markdown",
      "metadata": {
        "id": "GyRFI0IJCsuu"
      },
      "source": [
        "# 4b. Deploying Your Model\n",
        "Now that we have a well trained model, it's time to use it. In this exercise, we'll expose new images to our model and detect the correct letters of the sign language alphabet. Let's get started!"
      ]
    },
    {
      "cell_type": "markdown",
      "metadata": {
        "id": "wdYYMU1WCsuv"
      },
      "source": [
        "## 4b.1 Objectives"
      ]
    },
    {
      "cell_type": "markdown",
      "metadata": {
        "id": "SeXBHUIjCsuv"
      },
      "source": [
        "* Load an already-trained model from disk\n",
        "* Reformat images for a model trained on images of a different format\n",
        "* Perform inference with new images, never seen by the trained model and evaluate its performance"
      ]
    },
    {
      "cell_type": "code",
      "source": [
        "!pip install -q triton"
      ],
      "metadata": {
        "id": "C7nV1KEf1va2"
      },
      "execution_count": null,
      "outputs": []
    },
    {
      "cell_type": "code",
      "source": [
        "# Download utils.py\n",
        "!gdown 1SseHfqVBRrRNyETVDJkXiDsmsS2HzwkD"
      ],
      "metadata": {
        "id": "CvD3ncZ71xOY"
      },
      "execution_count": null,
      "outputs": []
    },
    {
      "cell_type": "code",
      "source": [
        "# Download trained model\n",
        "!gdown 1rRozKpcChEtN4fHGMfYX-QNYCqRQHXUB"
      ],
      "metadata": {
        "id": "JRNkeDsZ167U"
      },
      "execution_count": null,
      "outputs": []
    },
    {
      "cell_type": "code",
      "source": [
        "!gdown 1UAbN8FBfJsQLeEx8uJcEEeS7SJf_mlab\n",
        "!gdown 1t7-vjrVdgMIxf_ATC5i7kfWHPbPhnaa8"
      ],
      "metadata": {
        "id": "oqa5Ec8h2ecJ"
      },
      "execution_count": null,
      "outputs": []
    },
    {
      "cell_type": "code",
      "source": [
        "!unzip asl_image.zip\n",
        "!unzip asl_data.zip"
      ],
      "metadata": {
        "id": "Ry_A2JG12gJP"
      },
      "execution_count": null,
      "outputs": []
    },
    {
      "cell_type": "code",
      "execution_count": null,
      "metadata": {
        "id": "idwYaoghaqIp"
      },
      "outputs": [],
      "source": [
        "import warnings\n",
        "warnings.filterwarnings('ignore')\n",
        "\n",
        "import pandas as pd\n",
        "import torch\n",
        "import torch.nn as nn\n",
        "from torch.optim import Adam\n",
        "from torch.utils.data import Dataset, DataLoader\n",
        "import torchvision.io as tv_io\n",
        "import torchvision.transforms.v2 as transforms\n",
        "import torchvision.transforms.functional as F\n",
        "import matplotlib.pyplot as plt\n",
        "\n",
        "device = torch.device(\"cuda\" if torch.cuda.is_available() else \"cpu\")\n",
        "torch.cuda.is_available()"
      ]
    },
    {
      "cell_type": "markdown",
      "metadata": {
        "id": "xo-pr5-zCsuv"
      },
      "source": [
        "## 4b.2 Loading the Model\n",
        "Now that we're in a new notebook, let's load the saved model that we trained. Our save from the previous exercise created a folder called \"asl_model\". We can load the model by selecting the same folder."
      ]
    },
    {
      "cell_type": "markdown",
      "metadata": {
        "id": "kV2vgr0a1flb"
      },
      "source": [
        "Since our model uses a [custom module](https://pytorch.org/tutorials/beginner/examples_nn/two_layer_net_module.html), we will need to load the code for that class. We have saved a copy of the code in [utils.py](./uitls.py)."
      ]
    },
    {
      "cell_type": "code",
      "execution_count": null,
      "metadata": {
        "id": "jiI87fNVZdRl"
      },
      "outputs": [],
      "source": [
        "from utils import MyConvBlock"
      ]
    },
    {
      "cell_type": "markdown",
      "metadata": {
        "id": "aFu8rflk1flc"
      },
      "source": [
        "Now that we have a definition for `MyConvBlock`, we can use [torch.load](https://pytorch.org/docs/stable/generated/torch.load.html) to load a model from a path. We can use `map_location to specify the device. When we print the model, does it look the same as in the last notebook?"
      ]
    },
    {
      "cell_type": "code",
      "execution_count": null,
      "metadata": {
        "id": "-Xy1JuL-Csuv"
      },
      "outputs": [],
      "source": [
        "model = torch.load('model.pth', map_location=device)\n",
        "model"
      ]
    },
    {
      "cell_type": "markdown",
      "metadata": {
        "id": "WIjqbFCFCsuv"
      },
      "source": [
        "We can also verify if the model is on our GPU."
      ]
    },
    {
      "cell_type": "code",
      "execution_count": null,
      "metadata": {
        "id": "_ulCst9GCsuw"
      },
      "outputs": [],
      "source": [
        "next(model.parameters()).device"
      ]
    },
    {
      "cell_type": "markdown",
      "metadata": {
        "id": "pBBneFIXCsuw"
      },
      "source": [
        "## 4b.3 Preparing an Image for the Model"
      ]
    },
    {
      "cell_type": "markdown",
      "metadata": {
        "id": "gffCLeacCsuw"
      },
      "source": [
        "It's now time to use the model to make predictions on new images that it's never seen before. This is also called inference. We have a set of images in the `data/asl_images` folder. Try opening it using the left navigation and explore the images.\n",
        "\n",
        "You'll notice that the images we have are much higher resolution than the images in our dataset. They are also in color. Remember that our images in the dataset were 28x28 pixels and grayscale. It's important to keep in mind that whenever we make predictions with a model, the input must match the shape of the data that the model was trained on. For this model, the training dataset was of the shape: (27455, 28, 28, 1). This corresponded to 27455 images of 28 by 28 pixels each with one color channel (grayscale)."
      ]
    },
    {
      "cell_type": "markdown",
      "metadata": {
        "id": "UXeujDRFCsuw"
      },
      "source": [
        "### 4b.3.1 Showing the Images"
      ]
    },
    {
      "cell_type": "markdown",
      "metadata": {
        "id": "8gLvKQ1yCsuw"
      },
      "source": [
        "When we use our model to make predictions on new images, it will be useful to show the image as well. We can use the matplotlib library to do this."
      ]
    },
    {
      "cell_type": "code",
      "execution_count": null,
      "metadata": {
        "id": "qzzai3QZCsuw"
      },
      "outputs": [],
      "source": [
        "import matplotlib.pyplot as plt\n",
        "import matplotlib.image as mpimg\n",
        "\n",
        "def show_image(image_path):\n",
        "    image = mpimg.imread(image_path)\n",
        "    plt.imshow(image, cmap='gray')"
      ]
    },
    {
      "cell_type": "code",
      "execution_count": null,
      "metadata": {
        "id": "ZFzwvkalCsuw"
      },
      "outputs": [],
      "source": [
        "show_image('b.png')"
      ]
    },
    {
      "cell_type": "markdown",
      "metadata": {
        "id": "ORPUII6qCsux"
      },
      "source": [
        "### 4b.3.2 Scaling the Images"
      ]
    },
    {
      "cell_type": "markdown",
      "metadata": {
        "id": "eYcawjxlCsux"
      },
      "source": [
        "The images in our dataset were 28x28 pixels and grayscale. We need to make sure to pass the same size and grayscale images into our method for prediction. There are a few ways to edit images with Python, but TorchVision also has the [read_image](https://pytorch.org/vision/stable/generated/torchvision.io.read_image.html) function. We can let it know what kind of image to read with [ImageReadMode](https://pytorch.org/vision/stable/generated/torchvision.io.ImageReadMode.html#torchvision.io.ImageReadMode)."
      ]
    },
    {
      "cell_type": "code",
      "execution_count": null,
      "metadata": {
        "id": "lDJu6JrEffRP"
      },
      "outputs": [],
      "source": [
        "image = tv_io.read_image('b.png', tv_io.ImageReadMode.GRAY)\n",
        "image"
      ]
    },
    {
      "cell_type": "markdown",
      "metadata": {
        "id": "8zpBTMu_1fle"
      },
      "source": [
        "Let's look at the shape of the image."
      ]
    },
    {
      "cell_type": "code",
      "execution_count": null,
      "metadata": {
        "id": "8iJ4A8YagRvP"
      },
      "outputs": [],
      "source": [
        "image.shape"
      ]
    },
    {
      "cell_type": "markdown",
      "metadata": {
        "id": "ZvpaLz1i1fle"
      },
      "source": [
        "This image is much larger than what we trained on. We can use [TorchVision](https://pytorch.org/vision/stable/index.html)'s [Transforms](https://pytorch.org/vision/0.9/transforms.html) again to get the data in the form our model expects.\n",
        "\n",
        "We will:\n",
        "* Convert the image to float with [ToDtype](https://pytorch.org/vision/stable/generated/torchvision.transforms.v2.ToDtype.html)\n",
        "  * We will set `scale` to `True` in order to convert from [0, 255] to [0, 1]\n",
        "* [Resize](https://pytorch.org/vision/stable/generated/torchvision.transforms.v2.Resize.html#torchvision.transforms.v2.Resize) the image to be 28 x 28 pixels\n",
        "* Convert the images to [Grayscale](https://pytorch.org/vision/stable/generated/torchvision.transforms.v2.Grayscale.html#torchvision.transforms.v2.Grayscale)\n",
        "  * This step doesn't do anything since our models are already grayscale, but we've added it here to show an alternative way to get grayscale images."
      ]
    },
    {
      "cell_type": "code",
      "execution_count": null,
      "metadata": {
        "id": "lNp6Q9cBe8Xw"
      },
      "outputs": [],
      "source": [
        "IMG_WIDTH = 28\n",
        "IMG_HEIGHT = 28\n",
        "\n",
        "preprocess_trans = transforms.Compose([\n",
        "    transforms.ToDtype(torch.float32, scale=True), # Converts [0, 255] to [0, 1]\n",
        "    transforms.Resize((IMG_WIDTH, IMG_HEIGHT)),\n",
        "    transforms.Grayscale()  # From Color to Gray\n",
        "])"
      ]
    },
    {
      "cell_type": "markdown",
      "metadata": {
        "id": "pHTOVHHZ1flf"
      },
      "source": [
        "Let's test `preprocess_trans` on an image to make sure it works correctly:"
      ]
    },
    {
      "cell_type": "code",
      "execution_count": null,
      "metadata": {
        "id": "BBS7SjnBhIe6"
      },
      "outputs": [],
      "source": [
        "processed_image = preprocess_trans(image)\n",
        "processed_image"
      ]
    },
    {
      "cell_type": "markdown",
      "metadata": {
        "id": "1EnV0AUT1flf"
      },
      "source": [
        "The numbers look correct, but how about the shape?"
      ]
    },
    {
      "cell_type": "code",
      "execution_count": null,
      "metadata": {
        "id": "FEPqjgud1flg"
      },
      "outputs": [],
      "source": [
        "processed_image.shape"
      ]
    },
    {
      "cell_type": "markdown",
      "metadata": {
        "id": "eE0hTtuA1flg"
      },
      "source": [
        "Next, let's plot the image to see if it looks like what we trained on."
      ]
    },
    {
      "cell_type": "code",
      "execution_count": null,
      "metadata": {
        "id": "NhbSMAo61flg"
      },
      "outputs": [],
      "source": [
        "plot_image = F.to_pil_image(processed_image)\n",
        "plt.imshow(plot_image, cmap='gray')"
      ]
    },
    {
      "cell_type": "markdown",
      "metadata": {
        "id": "E7i9qXtA1flh"
      },
      "source": [
        "Looking good! Let's pass it to our model."
      ]
    },
    {
      "cell_type": "markdown",
      "metadata": {
        "id": "0JDavxyv1fli"
      },
      "source": [
        "### 4b.4 Making Predictions"
      ]
    },
    {
      "cell_type": "markdown",
      "metadata": {
        "id": "vYl2JcUJCsuy"
      },
      "source": [
        "Okay, now we're ready to predict! Our model still expects a batch of images. If the [squeeze](https://pytorch.org/docs/stable/generated/torch.squeeze.htmlhttps://pytorch.org/docs/stable/generated/torch.squeeze.html) removes dimensions of 1, [unsqueeze](https://pytorch.org/docs/stable/generated/torch.unsqueeze.htmlhttps://pytorch.org/docs/stable/generated/torch.unsqueeze.html) adds a dimension of 1 at the index we specify. The first dimension is usually the batch dimension, so we can say `.unsqueeze(0)`."
      ]
    },
    {
      "cell_type": "code",
      "execution_count": null,
      "metadata": {
        "id": "L-xZGe1SCsux"
      },
      "outputs": [],
      "source": [
        "batched_image = processed_image.unsqueeze(0)\n",
        "batched_image.shape"
      ]
    },
    {
      "cell_type": "markdown",
      "metadata": {
        "id": "cKJw5_LL1fli"
      },
      "source": [
        "Next, we should make sure the input tensor is on the same `device` as the model."
      ]
    },
    {
      "cell_type": "code",
      "execution_count": null,
      "metadata": {
        "id": "LeWH5cki1fli"
      },
      "outputs": [],
      "source": [
        "batched_image_gpu = batched_image.to(device)\n",
        "batched_image_gpu.device"
      ]
    },
    {
      "cell_type": "markdown",
      "metadata": {
        "id": "hAZ_jVzB1flj"
      },
      "source": [
        "Now we're ready to pass it to the model!"
      ]
    },
    {
      "cell_type": "code",
      "execution_count": null,
      "metadata": {
        "id": "WhLIaQIhkE0c"
      },
      "outputs": [],
      "source": [
        "output = model(batched_image_gpu)\n",
        "output"
      ]
    },
    {
      "cell_type": "markdown",
      "metadata": {
        "id": "CCleBaVCCsuz"
      },
      "source": [
        "### 4b.4.1 Understanding the Prediction"
      ]
    },
    {
      "cell_type": "markdown",
      "metadata": {
        "id": "QNIv09wxCsuz"
      },
      "source": [
        "The predictions are in the format of a 24 length array. The larger the value, the more likely the input image belongs to the corresponding class. Let's make it a little more readable. We can start by finding which element of the array represents the highest probability. This can be done easily with the numpy library and the [argmax](https://numpy.org/doc/stable/reference/generated/numpy.argmax.html) function."
      ]
    },
    {
      "cell_type": "code",
      "execution_count": null,
      "metadata": {
        "id": "gm6J4jxcCsuz"
      },
      "outputs": [],
      "source": [
        "prediction = output.argmax(dim=1).item()\n",
        "prediction"
      ]
    },
    {
      "cell_type": "markdown",
      "metadata": {
        "id": "BpZzxObRCsuz"
      },
      "source": [
        "Each element of the prediction array represents a possible letter in the sign language alphabet. Remember that j and z are not options because they involve moving the hand, and we're only dealing with still photos. Let's create a mapping between the index of the predictions array, and the corresponding letter."
      ]
    },
    {
      "cell_type": "code",
      "execution_count": null,
      "metadata": {
        "id": "1ExBb6fMCsuz"
      },
      "outputs": [],
      "source": [
        "# Alphabet does not contain j or z because they require movement\n",
        "alphabet = \"abcdefghiklmnopqrstuvwxy\""
      ]
    },
    {
      "cell_type": "markdown",
      "metadata": {
        "id": "uXy2Ze9kCsuz"
      },
      "source": [
        "We can now pass in our prediction index to find the corresponding letter."
      ]
    },
    {
      "cell_type": "code",
      "execution_count": null,
      "metadata": {
        "id": "VNxyHNZmCsuz"
      },
      "outputs": [],
      "source": [
        "alphabet[prediction]"
      ]
    },
    {
      "cell_type": "markdown",
      "metadata": {
        "id": "KobsgLirCsuz"
      },
      "source": [
        "Let's put everything in a function so that we can make predictions just from the image file. Implement it in the function below using the functions and steps above."
      ]
    },
    {
      "cell_type": "code",
      "execution_count": null,
      "metadata": {
        "id": "wTUx5fWMCsu_",
        "tags": []
      },
      "outputs": [],
      "source": [
        "def predict_letter(file_path):\n",
        "    show_image(file_path)\n",
        "    image = tv_io.read_image(file_path, tv_io.ImageReadMode.GRAY)\n",
        "    image = preprocess_trans(image)\n",
        "    image = image.unsqueeze(0)\n",
        "    image = image.to(device)\n",
        "    output = model(image)\n",
        "    prediction = output.argmax(dim=1).item()\n",
        "    # convert prediction to letter\n",
        "    predicted_letter = alphabet[prediction]\n",
        "    return predicted_letter"
      ]
    },
    {
      "cell_type": "code",
      "execution_count": null,
      "metadata": {
        "id": "MWqiMAhwCsu_"
      },
      "outputs": [],
      "source": [
        "predict_letter(\"b.png\")"
      ]
    },
    {
      "cell_type": "markdown",
      "metadata": {
        "id": "JNZSUoinCsvA"
      },
      "source": [
        "Let's also use the function with the 'a' letter in the asl_images datset:"
      ]
    },
    {
      "cell_type": "code",
      "execution_count": null,
      "metadata": {
        "id": "xk0F5w53CsvA"
      },
      "outputs": [],
      "source": [
        "predict_letter(\"a.png\")"
      ]
    },
    {
      "cell_type": "markdown",
      "metadata": {
        "id": "cFaxufFbCsvA"
      },
      "source": [
        "## 4b.5 Summary"
      ]
    },
    {
      "cell_type": "markdown",
      "metadata": {
        "id": "ZtsAm4TJCsvA"
      },
      "source": [
        "Great work on these exercises! You've gone through the full process of training a highly accurate model from scratch, and then using the model to make new and valuable predictions. If you have some time, we encourage you to take pictures with your webcam, upload them by dropping them into the data/asl_images folder, and test out the model on them. For Mac you can use Photo Booth. For windows you can select the Camera app from your start screen. We hope you try it. It's a good opportunity to learn some sign language! For instance, try out the letters of your name.\n",
        "\n",
        "We can imagine how this model could be used in an application to teach someone sign language, or even help someone who cannot speak interact with a computer."
      ]
    },
    {
      "cell_type": "markdown",
      "metadata": {
        "id": "zyfxj0v0CsvA"
      },
      "source": [
        "### 4b.5.1 Clear the Memory"
      ]
    },
    {
      "cell_type": "markdown",
      "metadata": {
        "id": "JtO6ds0LCsvA"
      },
      "source": [
        "Before moving on, please execute the following cell to clear up the GPU memory."
      ]
    },
    {
      "cell_type": "code",
      "execution_count": null,
      "metadata": {
        "id": "mN85KA47CsvA"
      },
      "outputs": [],
      "source": [
        "import IPython\n",
        "app = IPython.Application.instance()\n",
        "app.kernel.do_shutdown(True)"
      ]
    },
    {
      "cell_type": "markdown",
      "metadata": {
        "id": "jKNrUtH1CsvA"
      },
      "source": [
        "### 4b.5.2 Next"
      ]
    },
    {
      "cell_type": "markdown",
      "metadata": {
        "id": "k1VRSuYLCsvA"
      },
      "source": [
        "We hope you've enjoyed these exercises. In the next sections we will learn how to take advantage of deep learning when we don't have a robust dataset available. See you there!\n",
        "To learn more about inference on the edge, check out [this paper](http://web.eecs.umich.edu/~mosharaf/Readings/FB-ML-Edge.pdf) on the topic."
      ]
    },
    {
      "cell_type": "markdown",
      "metadata": {
        "id": "QnOZX0ClCsvA"
      },
      "source": [
        "Now that we're familiar building your own models and have some understanding of how they work, we will turn our attention to the very powerful technique of using pre-trained models to expedite your work."
      ]
    },
    {
      "cell_type": "markdown",
      "metadata": {
        "id": "4bnILHG8CsvA"
      },
      "source": [
        "<center><a href=\"https://www.nvidia.com/dli\"> <img src=\"https://developer-blogs.nvidia.com/wp-content/uploads/2020/03/DLI_Feature_new.png\" alt=\"Header\" style=\"width: 400px;\"/> </a></center>"
      ]
    }
  ],
  "metadata": {
    "colab": {
      "provenance": [],
      "toc_visible": true
    },
    "kernelspec": {
      "display_name": "Python 3 (ipykernel)",
      "language": "python",
      "name": "python3"
    },
    "language_info": {
      "codemirror_mode": {
        "name": "ipython",
        "version": 3
      },
      "file_extension": ".py",
      "mimetype": "text/x-python",
      "name": "python",
      "nbconvert_exporter": "python",
      "pygments_lexer": "ipython3",
      "version": "3.10.12"
    }
  },
  "nbformat": 4,
  "nbformat_minor": 0
}