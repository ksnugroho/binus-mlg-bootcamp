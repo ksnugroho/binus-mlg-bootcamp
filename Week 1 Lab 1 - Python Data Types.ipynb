{
 "cells": [
  {
   "cell_type": "markdown",
   "metadata": {},
   "source": [
    "# Week 1 Lab 1 - Python Data Types"
   ]
  },
  {
   "cell_type": "markdown",
   "metadata": {},
   "source": [
    "# Numbers, Type Conversion, Math\n",
    "\n",
    "## Numbers\n",
    "Bilangan *integer*, *floating point*, dan *complex* termasuk dalam kategori bilangan Python yang didefinisikan sebagai kelas `int`, `float` dan `complex`. *Integer* dan *floating point* dipisahkan oleh ada atau tidaknya titik desimal. Misalnya, 5 adalah *integer* sedangkan 5.0 adalah *floating-point*. Bilangan *complex* ditulis dalam bentuk, `x + yj`, di mana `x` adalah bagian real dan `y` adalah bagian imajiner.\n",
    "\n",
    "Kita dapat menggunakan fungsi `type()` untuk mengetahui tipe data suatu variabel. Demikian pula, fungsi `isinstance()` digunakan untuk memeriksa apakah suatu objek milik kelas tertentu."
   ]
  },
  {
   "cell_type": "code",
   "execution_count": null,
   "metadata": {},
   "outputs": [],
   "source": [
    "a = 5               # type integer\n",
    "b = 5.0             # type float\n",
    "c = 6 + 3j          # type complex\n",
    "\n",
    "print(type(a))      \n",
    "print(type(b))    \n",
    "print(type(c))  "
   ]
  },
  {
   "cell_type": "code",
   "execution_count": null,
   "metadata": {},
   "outputs": [],
   "source": [
    "print(c + 3)\n",
    "print(isinstance(c, complex))"
   ]
  },
  {
   "cell_type": "markdown",
   "metadata": {},
   "source": [
    "Bilangan *integer* dapat memiliki panjang berapa pun, tetapi dibatasi oleh memori yang tersedia.\n",
    "\n",
    "Angka-angka yang kita tangani setiap hari adalah sistem angka desimal (basis 10). Tetapi pemrograman komputer (umumnya *embedded programming*) perlu bekerja dengan sistem bilangan biner (basis 2), heksadesimal (basis 16) dan oktal (basis 8).\n",
    "\n",
    "Dalam Python, kita dapat merepresentasikan angka-angka ini dengan menempatkan awalan yang tepat sebelum angka itu. Perhatikan Tabel berikut ini.\n",
    "\n",
    "| Number System | Prefix |\n",
    "|:----| :--- |\n",
    "| **`Binary`** |   '0b' or '0B' | \n",
    "| **`Octal`** |   '0o' or '0O' | \n",
    "| **`Hexadecimal`** |   '0x' or '0X' | "
   ]
  },
  {
   "cell_type": "code",
   "execution_count": null,
   "metadata": {},
   "outputs": [],
   "source": [
    "# Output: 1\n",
    "print(0b0001)  # 0001 in binary is 1 in decimal and i have use prefix '0b'\n",
    "\n",
    "# Output: 10  \n",
    "print(0o12)    # 12 in octadecimal is 10 in decimal and i have use prefix '0o'\n",
    "\n",
    "# Output: 10\n",
    "print(0x000A)  # 000A in hexadecimal is 10 in decimal and i have use prefix '0x'"
   ]
  },
  {
   "cell_type": "markdown",
   "metadata": {},
   "source": [
    "## Type Conversion\n",
    "Kita dapat mengubah satu jenis angka menjadi yang lain. Operasi seperti penambahan, pengurangan memaksa *integer* untuk menjadi *floating point* secara implisit (otomatis), jika salah satu operan adalah *float*."
   ]
  },
  {
   "cell_type": "code",
   "execution_count": null,
   "metadata": {},
   "outputs": [],
   "source": [
    "1 + 3.0  # Menambahkan integer dan float menghasilkan float"
   ]
  },
  {
   "cell_type": "markdown",
   "metadata": {},
   "source": [
    "Kita bisa lihat di atas bahwa 1 (integer) dipaksa menjadi 1.0 (float) untuk penjumlahan dan hasilnya juga bilangan *floating point*. Kita juga dapat menggunakan fungsi bawaan seperti `int()`, `float()` dan `complex()` untuk mengonversi tipe data secara eksplisit. Fungsi-fungsi ini bahkan dapat mengkonversi dari string."
   ]
  },
  {
   "cell_type": "code",
   "execution_count": null,
   "metadata": {},
   "outputs": [],
   "source": [
    "a = 6.5\n",
    "print(type(a))"
   ]
  },
  {
   "cell_type": "code",
   "execution_count": null,
   "metadata": {},
   "outputs": [],
   "source": [
    "a_int = int(a)          # panggil fungsi int() untuk mengubah tipe data float menjadi int\n",
    "print(type(a_int))"
   ]
  },
  {
   "cell_type": "code",
   "execution_count": null,
   "metadata": {},
   "outputs": [],
   "source": [
    "a = 1 + 3.0\n",
    "print(int(a))"
   ]
  },
  {
   "cell_type": "code",
   "execution_count": null,
   "metadata": {},
   "outputs": [],
   "source": [
    "int(-2.7)"
   ]
  },
  {
   "cell_type": "code",
   "execution_count": null,
   "metadata": {},
   "outputs": [],
   "source": [
    "float(5)"
   ]
  },
  {
   "cell_type": "code",
   "execution_count": null,
   "metadata": {},
   "outputs": [],
   "source": [
    "a = 1234567890123456789\n",
    "print(a)\n",
    "\n",
    "b = 0.1234567890123456789     # Hanya 17 angka setelah desimal yang dapat dicetak\n",
    "print(b)\n",
    "\n",
    "c = 1+2j\n",
    "print(c)"
   ]
  },
  {
   "cell_type": "markdown",
   "metadata": {},
   "source": [
    "Saat mengonversi dari *float* ke *integer*, nomor akan terpotong (bagian desimal dihapus)."
   ]
  },
  {
   "cell_type": "code",
   "execution_count": null,
   "metadata": {},
   "outputs": [],
   "source": [
    "complex('3+6j')"
   ]
  },
  {
   "cell_type": "markdown",
   "metadata": {},
   "source": [
    "## Python Decimal\n",
    "*Float* pada Python melakukan beberapa perhitungan yang mungkin membuat kita takjub. Kita semua tahu bahwa penjumlahan 1.1 dan 2.2 adalah 3.3, tetapi Python tampaknya tidak setuju."
   ]
  },
  {
   "cell_type": "code",
   "execution_count": null,
   "metadata": {},
   "outputs": [],
   "source": [
    "(1.1 + 2.2) == 3.3  # Jawabannya seharusnya True"
   ]
  },
  {
   "cell_type": "markdown",
   "metadata": {},
   "source": [
    "**Apa yang terjadi?**\n",
    "\n",
    "Bilangan *floating-point* diimplementasikan pada perangkat keras komputer sebagai pecahan biner karena komputer hanya memahami biner (0 dan 1). Karena alasan ini, sebagian besar pecahan desimal yang kita ketahui, tidak dapat disimpan secara akurat di komputer kita.\n",
    "\n",
    "Mari kita ambil contoh. Kita tidak dapat menyatakan pecahan 1/3 sebagai bilangan desimal. Ini akan memberikan 0.33333333 yang panjangnya tak terhingga, dan kita hanya dapat memperkirakannya.\n",
    "\n",
    "Ternyata, pecahan desimal 0.1 akan menghasilkan pecahan biner yang panjangnya tak terhingga dari 0.000110011001100110011 dan komputer kita hanya menyimpannya dalam jumlah terbatas. Ini hanya akan mendekati 0.1 tetapi tidak pernah sama. Oleh karena itu, ini adalah keterbatasan perangkat keras komputer kita dan bukan kesalahan dalam Python."
   ]
  },
  {
   "cell_type": "code",
   "execution_count": null,
   "metadata": {},
   "outputs": [],
   "source": [
    "1.1 + 2.2"
   ]
  },
  {
   "cell_type": "markdown",
   "metadata": {},
   "source": [
    "Untuk mengatasi masalah ini, kita dapat menggunakan modul desimal yang disertakan Python. Sementara *floating-point* memiliki presisi hingga 15 tempat desimal, modul `desimal` memiliki presisi yang dapat diatur pengguna. Mari kita lihat perbedaannya."
   ]
  },
  {
   "cell_type": "code",
   "execution_count": null,
   "metadata": {},
   "outputs": [],
   "source": [
    "import decimal\n",
    "\n",
    "print(0.1)                     # float standart\n",
    "print(decimal.Decimal(0.1))    # desimal"
   ]
  },
  {
   "cell_type": "markdown",
   "metadata": {},
   "source": [
    "Modul ini digunakan ketika kita ingin melakukan perhitungan desimal seperti yang kita pelajari di sekolah. Ini juga mempertahankan signifikansi. Kita tahu 25.50 kg lebih akurat daripada 25.5 kg karena memiliki dua tempat desimal yang signifikan dibandingkan dengan satu desimal."
   ]
  },
  {
   "cell_type": "code",
   "execution_count": null,
   "metadata": {},
   "outputs": [],
   "source": [
    "from decimal import Decimal\n",
    "\n",
    "print(Decimal('1.1') + Decimal('2.2'))\n",
    "print(Decimal('1.2') * Decimal('2.50'))"
   ]
  },
  {
   "cell_type": "code",
   "execution_count": null,
   "metadata": {},
   "outputs": [],
   "source": [
    "%%time\n",
    "1.145654 + 2.234353"
   ]
  },
  {
   "cell_type": "code",
   "execution_count": null,
   "metadata": {},
   "outputs": [],
   "source": [
    "%%time\n",
    "Decimal('1.145654') + Decimal('2.234353')"
   ]
  },
  {
   "cell_type": "markdown",
   "metadata": {},
   "source": [
    "Perhatikan angka nol pada contoh di atas. Kita mungkin bertanya, mengapa tidak mengimplementasikan `Decimal` setiap saat, bukan *float*? Alasan utamanya adalah efisiensi. Operasi *floating point* yang dilakukan harus lebih cepat dari operasi `Decimal`.\n",
    "\n",
    "**Kapan menggunakan Decimal daripada float?** Kita biasanya menggunakan dalam kasus berikut:\n",
    "1. Saat kita membuat aplikasi keuangan yang membutuhkan representasi desimal yang tepat.\n",
    "2. Saat kita ingin mengontrol tingkat presisi yang dibutuhkan.\n",
    "3. Ketika kita ingin menerapkan gagasan tempat desimal yang signifikan."
   ]
  },
  {
   "cell_type": "markdown",
   "metadata": {},
   "source": [
    "## Python Fractions\n",
    "Python menyediakan operasi yang melibatkan bilangan pecahan melalui modul `fractions`. Pecahan memiliki pembilang dan penyebut, keduanya bilangan bulat. Modul ini memiliki dukungan untuk aritmatika bilangan rasional. Kita dapat membuat objek Pecahan dengan berbagai cara."
   ]
  },
  {
   "cell_type": "code",
   "execution_count": null,
   "metadata": {},
   "outputs": [],
   "source": [
    "import fractions\n",
    "\n",
    "print(fractions.Fraction(1.5))\n",
    "print(fractions.Fraction(9))\n",
    "print(fractions.Fraction(1,6))"
   ]
  },
  {
   "cell_type": "markdown",
   "metadata": {},
   "source": [
    "Saat membuat `Fraction` dari *float*, kita mungkin mendapatkan beberapa hasil yang tidak biasa. Hal ini disebabkan oleh representasi bilangan *floating point* biner yang tidak sempurna seperti yang telah dibahas pada bagian sebelumnya.\n",
    "\n",
    "Untungnya, `Fraction` memungkinkan kita untuk membuat *instance* dengan string juga. Ini adalah pilihan yang lebih disukai saat menggunakan angka desimal."
   ]
  },
  {
   "cell_type": "code",
   "execution_count": null,
   "metadata": {},
   "outputs": [],
   "source": [
    "import fractions\n",
    "\n",
    "# As float\n",
    "# Output: 2476979795053773/2251799813685248\n",
    "print(fractions.Fraction(1.1))      # 1.1 is a number\n",
    "\n",
    "# As string\n",
    "# Output: 11/10\n",
    "print(fractions.Fraction('1.1'))    #'1.1' is a string and not a number"
   ]
  },
  {
   "cell_type": "markdown",
   "metadata": {},
   "source": [
    "Tipe data ini juga mendukung semua operasi dasar. Berikut adalah beberapa contohnya."
   ]
  },
  {
   "cell_type": "code",
   "execution_count": null,
   "metadata": {},
   "outputs": [],
   "source": [
    "from fractions import Fraction as F\n",
    "\n",
    "print(F(1.3) + F(1.3))\n",
    "print(F(1, 3) + F(1, 3))\n",
    "print(1 / F(5, 6))\n",
    "print(F(-3, 10) > 0)\n",
    "print(F(-3, 10) < 0)"
   ]
  },
  {
   "cell_type": "markdown",
   "metadata": {},
   "source": [
    "## Python Mathematics\n",
    "Python menawarkan modul seperti `math` dan `random` untuk melakukan berbagai operasi matematika seperti trigonometri, logaritma, probabilitas dan statistik, dll."
   ]
  },
  {
   "cell_type": "code",
   "execution_count": null,
   "metadata": {},
   "outputs": [],
   "source": [
    "import math\n",
    "\n",
    "print(math.pi)\n",
    "print(math.cos(math.pi))    # cos(pi) = -1\n",
    "print(math.exp(10))\n",
    "print(math.log10(1000))     # log10(1000) = 3\n",
    "print(math.sinh(1))\n",
    "print(math.factorial(6))"
   ]
  },
  {
   "cell_type": "code",
   "execution_count": null,
   "metadata": {},
   "outputs": [],
   "source": [
    "import random\n",
    "\n",
    "print(random.randrange(10, 20))\n",
    "\n",
    "x = ['a', 'b', 'c', 'd', 'e']       # x is a list class of variable and it has 5 elements.\n",
    "\n",
    "# Get random choice\n",
    "print(random.choice(x))\n",
    "\n",
    "# Shuffle x\n",
    "random.shuffle(x)\n",
    "\n",
    "# Print the shuffled x\n",
    "print(x)\n",
    "\n",
    "# Print random element\n",
    "print(random.random())"
   ]
  },
  {
   "cell_type": "markdown",
   "metadata": {},
   "source": [
    "# Strings\n",
    "Sebuah string adalah urutan karakter. String digunakan untuk menangani data tekstual pada python.\n",
    "\n",
    "Komputer tidak berurusan dengan karakter, tetapi berurusan dengan angka (biner). Meskipun kita melihat karakter di layar, secara internal itu disimpan dan dimanipulasi sebagai kombinasi angka 0 dan 1. Konversi karakter ke angka disebut encoding dan proses sebaliknya adalah decoding. ASCII dan Unicode adalah beberapa pengkodean populer yang digunakan.\n",
    "\n",
    "Dalam Python, string adalah urutan karakter Unicode. Unicode diperkenalkan untuk memasukkan setiap karakter dalam semua bahasa dan membawa keseragaman dalam pengkodean. Unicode ini berkisar dari **$0_{hex}$** hingga **$10FFFF_{hex}$**. Biasanya, sebuah Unicode dirujuk dengan menulis **\"`U+`\"** diikuti dengan angka **heksadesimal**-nya. Jadi string dalam Python adalah urutan nilai Unicode. \n",
    "\n",
    "https://docs.python.org/3.3/howto/unicode.html\n",
    "\n",
    "<img src='https://raw.githubusercontent.com/milaan9/02_Python_Datatypes/f7bc7d7caed16f357cc712630b562182355e072b/img/s0.png' width=800></img>\n",
    "\n",
    "String dapat dibuat dengan melampirkan karakter di dalam tanda kutip tunggal atau tanda kutip ganda. Bahkan tanda kutip tiga dapat digunakan dalam Python tetapi umumnya digunakan untuk mewakili string multiline dan docstring."
   ]
  },
  {
   "cell_type": "code",
   "execution_count": null,
   "metadata": {},
   "outputs": [],
   "source": [
    "print(999)          \n",
    "print(type(999))    \n",
    "\n",
    "print('999')        \n",
    "print(type('999'))"
   ]
  },
  {
   "cell_type": "code",
   "execution_count": null,
   "metadata": {},
   "outputs": [],
   "source": [
    "my_string = 'Hello'\n",
    "print(my_string)    \n",
    "\n",
    "my_string = \"Hello\"\n",
    "print(my_string) \n",
    "\n",
    "my_string = '''Hello'''\n",
    "print(my_string)\n",
    "\n",
    "# triple quotes string can extend multiple lines\n",
    "my_string = \"\"\"Hello, welcome to\n",
    "           the world of Python\"\"\"\n",
    "print(my_string)     "
   ]
  },
  {
   "cell_type": "code",
   "execution_count": null,
   "metadata": {},
   "outputs": [],
   "source": [
    "# Multiline String\n",
    "\n",
    "multiline_string = '''I am a resarcher, teacher and I enjoy teaching.\n",
    "I didn't find anything as rewarding as empowering people.\n",
    "That's why I created this repository.'''\n",
    "\n",
    "print(multiline_string)"
   ]
  },
  {
   "cell_type": "code",
   "execution_count": null,
   "metadata": {},
   "outputs": [],
   "source": [
    "# Another way of doing the same thing\n",
    "\n",
    "multiline_string = \"\"\"I am a researcher cum teacher and I enjoy teaching.\n",
    "I didn't find anything as rewarding as empowering people.\n",
    "That's why I created this repository.\"\"\"\n",
    "\n",
    "print(multiline_string)"
   ]
  },
  {
   "cell_type": "code",
   "execution_count": null,
   "metadata": {},
   "outputs": [],
   "source": [
    "# Unpacking characters \n",
    "\n",
    "language = 'Python'\n",
    "\n",
    "a,b,c,d,e,f = language # unpacking sequence characters into variables\n",
    "\n",
    "print(a) # ▶ P\n",
    "print(b) # ▶ y\n",
    "print(c) # ▶ t \n",
    "print(d) # ▶ h\n",
    "print(e) # ▶ o\n",
    "print(f) # ▶ n\n",
    "\n",
    "print(h) # ▶ NameError: name 'h' is not defined"
   ]
  },
  {
   "cell_type": "markdown",
   "metadata": {},
   "source": [
    "### Mengakses karakter pada String\n",
    "- Dalam Python, String disimpan sebagai karakter individual di lokasi memori yang berdekatan.\n",
    "- Manfaat menggunakan String adalah dapat diakses menggunakan dua arah (Forward indexing dan backward indexing).\n",
    "- Forward indexing dimulai dengan `0,1,2,3,.... `.\n",
    "- Backward indexing dimulai dengan `-1,-2,-3,-4,.... `.\n",
    "- Mengakses karakter di luar rentang indeks akan memunculkan `IndexError`. Indeks harus berupa bilangan bulat. Kita tidak bisa menggunakan float atau tipe lainnya, ini akan menghasilkan `IndexError`.\n",
    "- String dapat diindeks dengan tanda kurung siku. Pengindeksan dimulai dari 0.\n",
    "- Kita dapat mengakses berbagai item dalam string dengan menggunakan operator `:` (titik dua).\n",
    "- Fungsi `len()` mengembalikan nilai panjang string.\n",
    "\n",
    "<img src='https://raw.githubusercontent.com/milaan9/02_Python_Datatypes/main/img/s3.png' width=500></img>"
   ]
  },
  {
   "cell_type": "code",
   "execution_count": null,
   "metadata": {},
   "outputs": [],
   "source": [
    "language = 'Python'\n",
    "\n",
    "first_letter = language[0]\n",
    "print(first_letter)   \n",
    "\n",
    "second_letter = language[1]\n",
    "print(second_letter)  \n",
    "\n",
    "last_index = len(language) - 1 \n",
    "last_letter = language[last_index]\n",
    "print(last_letter)"
   ]
  },
  {
   "cell_type": "code",
   "execution_count": null,
   "metadata": {},
   "outputs": [],
   "source": [
    "# Jika kita ingin memulai dari ujung kanan (backward indexing) kita dapat menggunakan negatif indexing dimana -1 adalah indeks terakhir\n",
    "\n",
    "language = 'Python'\n",
    "\n",
    "last_letter = language[-1]\n",
    "print(last_letter)\n",
    "\n",
    "second_last = language[-2]\n",
    "print(second_last)"
   ]
  },
  {
   "cell_type": "code",
   "execution_count": null,
   "metadata": {},
   "outputs": [],
   "source": [
    "# Jika kita mencoba mengakses indeks di luar rentang atau menggunakan angka selain bilangan bulat akan mendapatkan Error.\n",
    "\n",
    "str = 'Python'\n",
    "\n",
    "print('str = ', str)\n",
    "\n",
    "# index must be an integer\n",
    "print('str[1.50] = ', str[1.5]) "
   ]
  },
  {
   "cell_type": "code",
   "execution_count": null,
   "metadata": {},
   "outputs": [],
   "source": [
    "# index must be in range\n",
    "print('str[15] = ', str[15])"
   ]
  },
  {
   "cell_type": "code",
   "execution_count": null,
   "metadata": {},
   "outputs": [],
   "source": [
    "name = 'Lidya'\n",
    "length=len(name)\n",
    "\n",
    "i=0\n",
    "\n",
    "for n in range(-1,(-length-1),-1):\n",
    "    print(name[i],\"\\t\",name[n])\n",
    "    i+=1"
   ]
  },
  {
   "cell_type": "markdown",
   "metadata": {},
   "source": [
    "### Memotong String\n",
    "String slicing dapat didefinisikan sebagai substring yang merupakan bagian dari string. Oleh karena itu substring dapat diperoleh dari sebuah string. Ada banyak cara untuk string slicing. Karena string dapat diakses atau diindeks dari kedua arah dan karenanya string juga dapat diiris dari kedua arah.\n",
    "\n",
    "Jika kita ingin mengakses suatu range, kita memerlukan indeks yang akan memotong bagian dari string.\n",
    "\n",
    "```\n",
    "str[start : stop : step ]\n",
    "str[start : stop]  \n",
    "str[start : ]      \n",
    "str[ : stop]       \n",
    "str[ : ]           \n",
    "```"
   ]
  },
  {
   "cell_type": "code",
   "execution_count": null,
   "metadata": {},
   "outputs": [],
   "source": [
    "s = '123456789'\n",
    "\n",
    "print(\"The string '%s' string is %d characters long\" %(s, len(s)))  \n",
    "print('First character of',s,'is',s[0]) \n",
    "print('Last character of',s,'is',s[8])\n",
    "print('Last character of',s,'is',s[len(s)-1])"
   ]
  },
  {
   "cell_type": "code",
   "execution_count": null,
   "metadata": {},
   "outputs": [],
   "source": [
    "# Negative slicing (Backward Slicing)\n",
    "\n",
    "# print('First character of',s,'is',s[-len(s)])\n",
    "print('First character of',s,'is',s[(-9)])\n",
    "print('Second character of',s,'is',s[(-8)])\n",
    "print('Last character of',s,'is',s[-1])"
   ]
  },
  {
   "cell_type": "markdown",
   "metadata": {},
   "source": [
    "Substring (rentang karakter) yang ditentukan menggunakan $a:b$ untuk menentukan karakter pada indeks $a, a+1,\\ldots,b-1$. Perhatikan bahwa karakter terakhir *tidak* disertakan."
   ]
  },
  {
   "cell_type": "code",
   "execution_count": null,
   "metadata": {},
   "outputs": [],
   "source": [
    "s = 'Layangan'\n",
    "\n",
    "print(\"First three characters\", s[0:3])\n",
    "print(\"Next three characters\", s[3:6])"
   ]
  },
  {
   "cell_type": "markdown",
   "metadata": {},
   "source": [
    "Awal dan akhir rentang yang kosong menunjukkan awal/akhir string"
   ]
  },
  {
   "cell_type": "code",
   "execution_count": null,
   "metadata": {},
   "outputs": [],
   "source": [
    "print(\"First three characters\", s[:3])\n",
    "print(\"Last three characters\", s[-3:])"
   ]
  },
  {
   "cell_type": "code",
   "execution_count": null,
   "metadata": {},
   "outputs": [],
   "source": [
    "str = 'PYTHON'\n",
    "\n",
    "print('str = ', str)\n",
    "print('str[0] = ', str[0])          # first character\n",
    "print('str[-1] = ', str[-1])        # last character\n",
    "print('str[1:5] = ', str[1:5])      # slicing 2nd to 5th character\n",
    "print('str[5:-2] = ', str[3:-1])    # slicing 6th to 2nd last character"
   ]
  },
  {
   "cell_type": "code",
   "execution_count": null,
   "metadata": {},
   "outputs": [],
   "source": [
    "str = \"Python Language\"\n",
    "\n",
    "print(str[6:10])\n",
    "print(str[-12:-7])\n",
    "print(str[-1: :-1])       # reversed all string\n",
    "print(str[2: 10: 2])      # step = 2\n",
    "print(str[ : : -1])       # reversed all string\n",
    "print(str[ : 5])          # from 0 to 4\n",
    "print(str[3 : ])          # from 3 to end of the string\n",
    "print(str[ : ])           # copy all string"
   ]
  },
  {
   "cell_type": "markdown",
   "metadata": {},
   "source": [
    "### Memisahkan dan Menggabungkan String\n",
    "\n",
    "Saat memproses teks, kemampuan untuk memisahkan string sangat berguna.\n",
    "- `partition(separator)`: memecah string berdasarkan pemisah.\n",
    "- `split()`: memecah string menjadi kata-kata yang dipisahkan oleh spasi (opsional mengambil pemisah sebagai argumen).\n",
    "- `join()`: menggabungkan hasil split menggunakan string sebagai pemisah."
   ]
  },
  {
   "cell_type": "code",
   "execution_count": null,
   "metadata": {},
   "outputs": [],
   "source": [
    "s = \"one > two > three\"\n",
    "print( s.partition(\">\") )\n",
    "print( s.split() )\n",
    "print( s.split(\" > \") )\n",
    "print( \";\".join( s.split(\" > \") ) )"
   ]
  },
  {
   "cell_type": "code",
   "execution_count": null,
   "metadata": {},
   "outputs": [],
   "source": [
    "str = \"This will split all words into a list\"\n",
    "\n",
    "str.split()"
   ]
  },
  {
   "cell_type": "code",
   "execution_count": null,
   "metadata": {},
   "outputs": [],
   "source": [
    "lst= ['This', 'will', 'join', 'all', 'words', 'into', 'a', 'string']\n",
    "\n",
    "' '.join(lst)"
   ]
  },
  {
   "cell_type": "code",
   "execution_count": null,
   "metadata": {},
   "outputs": [],
   "source": [
    "'Happy New Year'.find('ew')"
   ]
  },
  {
   "cell_type": "code",
   "execution_count": null,
   "metadata": {},
   "outputs": [],
   "source": [
    "'Happy New Year'.replace('Happy','Brilliant')"
   ]
  },
  {
   "cell_type": "markdown",
   "metadata": {},
   "source": [
    "### Mengganti dan Menghapus String\n",
    "String adalah tipe data *immutable*. Ini berarti bahwa elemen string tidak dapat diubah setelah ditetapkan atau diinisiasi. Kita hanya dapat menetapkan kembali string yang berbeda dengan nama yang sama."
   ]
  },
  {
   "cell_type": "code",
   "execution_count": null,
   "metadata": {},
   "outputs": [],
   "source": [
    "my_string = 'python'\n",
    "my_string[5] = 'a'"
   ]
  },
  {
   "cell_type": "code",
   "execution_count": null,
   "metadata": {},
   "outputs": [],
   "source": [
    "my_string = 'python'\n",
    "del my_string[1]"
   ]
  },
  {
   "cell_type": "markdown",
   "metadata": {},
   "source": [
    "### Operasi String\n",
    "Ada banyak operasi yang dapat dilakukan dengan string sehingga menjadikannya salah satu tipe data yang paling banyak digunakan di Python. Untuk melakukan operasi pada string, Python pada dasarnya menyediakan 3 jenis Operator yang diberikan di bawah ini.\n",
    "- Operator Dasar/Penggabungan Dua atau Lebih String\n",
    "- Operator Keanggotaan\n",
    "- Operator Relasional"
   ]
  },
  {
   "cell_type": "markdown",
   "metadata": {},
   "source": [
    "**Operator untuk penggabungan dua atau lebih string**\n",
    "\n",
    "Operator `+` (penggabungan) dapat digunakan untuk menggabungkan dua string atau lebih, atau disebut concatenation. Operator `*` (replikasi) dapat digunakan untuk mengulang string beberapa kali."
   ]
  },
  {
   "cell_type": "code",
   "execution_count": null,
   "metadata": {},
   "outputs": [],
   "source": [
    "a = \"Hello,\"\n",
    "b = 'World!'\n",
    "\n",
    "print(a+b)\n",
    "print(a+\" \"+b)"
   ]
  },
  {
   "cell_type": "code",
   "execution_count": null,
   "metadata": {},
   "outputs": [],
   "source": [
    "string1 = 'World'\n",
    "string2 = '!'\n",
    "\n",
    "print('Hello,' + \" \" + string1 + string2)"
   ]
  },
  {
   "cell_type": "markdown",
   "metadata": {},
   "source": [
    "Catatan: Kedua operan yang diteruskan untuk rangkaian harus bertipe data sama, jika tidak maka akan muncul error."
   ]
  },
  {
   "cell_type": "code",
   "execution_count": null,
   "metadata": {},
   "outputs": [],
   "source": [
    "print(\"HelloWorld\"+99)"
   ]
  },
  {
   "cell_type": "code",
   "execution_count": null,
   "metadata": {},
   "outputs": [],
   "source": [
    "print(\"HelloWorld \" * 5)\n",
    "print(3 * \"Python \")"
   ]
  },
  {
   "cell_type": "code",
   "execution_count": null,
   "metadata": {},
   "outputs": [],
   "source": [
    "str1 = 'Hello'\n",
    "str2 = 'World!'\n",
    "\n",
    "print('str1 + str2 = ', str1 + str2)\n",
    "\n",
    "print('str1 * 3 =', str1 * 3)"
   ]
  },
  {
   "cell_type": "markdown",
   "metadata": {},
   "source": [
    "Jika kita ingin menggabungkan string dalam baris yang berbeda, kita dapat menggunakan tanda kurung `()`."
   ]
  },
  {
   "cell_type": "code",
   "execution_count": null,
   "metadata": {},
   "outputs": [],
   "source": [
    "'Hello ''World!'"
   ]
  },
  {
   "cell_type": "code",
   "execution_count": null,
   "metadata": {},
   "outputs": [],
   "source": [
    "s = ('Hello '\n",
    "     'World')\n",
    "s"
   ]
  },
  {
   "cell_type": "markdown",
   "metadata": {},
   "source": [
    "# List\n",
    "\n",
    "List adalah struktur data yang digunakan untuk menyimpan berbagai jenis data. Dalam Python, list bersifat **mutable**. Python tidak akan membuat list baru jika kita memodifikasi elemen list tersebut. List berfungsi sebagai wadah yang menampung objek lain dalam urutan tertentu. Kita dapat melakukan berbagai operasi seperti penyisipan dan penghapusan pada list. List dapat disusun dengan menyimpan urutan  berbagai jenis nilai yang dipisahkan dengan koma.\n",
    "\n",
    "| Data types     | Type          |\n",
    "| :------------: | :-----------: |\n",
    "| **String**     | **immutable** |\n",
    "| **List**       | **mutable**   |"
   ]
  },
  {
   "cell_type": "markdown",
   "metadata": {},
   "source": [
    "## Membuat List\n",
    "Dalam pemrograman Python, list dibuat dengan menempatkan semua item (elemen) di dalam **tanda kurung siku `[]`**, dipisahkan dengan **koma** **`,`**. Semua elemen dalam list disimpan dalam basis indeks dengan indeks awal **0**. List dapat memiliki sejumlah item dan memiliki tipe yang berbeda (integer, float, string, dll.).\n",
    "\n",
    "**Syantax:** \n",
    "\n",
    "```\n",
    "<list_name>=[value1,value2,value3,...,value n] \n",
    "```\n",
    "\n",
    "<img src='https://raw.githubusercontent.com/milaan9/02_Python_Datatypes/main/img/l0.png' width=700></img>"
   ]
  },
  {
   "cell_type": "code",
   "execution_count": null,
   "metadata": {},
   "outputs": [],
   "source": [
    "# empty list, no item in the list\n",
    "my_list = []  \n",
    "print(my_list)      \n",
    "print(len(my_list))\n",
    "\n",
    "# list of integers\n",
    "my_list1 = [1, 2, 3]  \n",
    "print(my_list1)\n",
    "\n",
    "# list with mixed data types\n",
    "my_list2 = [1, \"Hello\", 3.4]\n",
    "print(my_list2)\n",
    "\n",
    "# nested list\n",
    "my_list3 = [\"mouse\", [9, 3, 6], ['a']]\n",
    "print(my_list3)\n",
    "\n",
    "my_list4 = ['foo','bar','baz','quz','quux','corge']\n",
    "print(my_list4)\n",
    "\n",
    "my_list5 = [1,2,3,4,4.5,'helloworld','X']\n",
    "print(my_list5)"
   ]
  },
  {
   "cell_type": "markdown",
   "metadata": {},
   "source": [
    "## Mengakses Elemen List\n",
    "Ada berbagai cara di mana kita dapat mengakses elemen lis."
   ]
  },
  {
   "cell_type": "markdown",
   "metadata": {},
   "source": [
    "### List Indexing\n",
    "Kita dapat menggunakan operator indeks **`[]`** untuk mengakses item dalam list. Dalam Python, indeks dimulai dari 0. Jadi, daftar yang memiliki 5 elemen akan memiliki indeks dari 0 hingga 4.\n",
    "\n",
    "Mencoba mengakses indeks selain ini akan memunculkan **`IndexError`**. Indeks harus berupa bilangan bulat. Kita tidak bisa menggunakan float atau tipe lainnya, ini akan menghasilkan **`TypeError`**. Sama seperti cara mengakses string\n",
    "\n",
    "List bersarang diakses menggunakan pengindeksan bersarang.\n",
    "\n",
    "<img src='https://raw.githubusercontent.com/milaan9/02_Python_Datatypes/main/img/l6_1.png' width=700></img>"
   ]
  },
  {
   "cell_type": "code",
   "execution_count": null,
   "metadata": {},
   "outputs": [],
   "source": [
    "my_list = ['p', 'r', 'o', 'b', 'e']\n",
    "\n",
    "print(my_list[0])\n",
    "print(my_list[2])\n",
    "print(my_list[4])\n",
    "\n",
    "# Nested List\n",
    "n_list = [\"Happy\", [2, 0, 1, 5]]\n",
    "\n",
    "# Nested indexing\n",
    "print(n_list[0][1])\n",
    "print(n_list[1][3])\n",
    "\n",
    "print(my_list[4.0]) # TypeError: list indices must be integers or slices, not float"
   ]
  },
  {
   "cell_type": "markdown",
   "metadata": {},
   "source": [
    "### List Negative Indexing\n",
    "Python memungkinkan pengindeksan negatif untuk mengakses list. Indeks -1 mengacu pada item terakhir, -2 untuk item terakhir kedua dan seterusnya."
   ]
  },
  {
   "cell_type": "code",
   "execution_count": null,
   "metadata": {},
   "outputs": [],
   "source": [
    "my_list = ['p','r','o','b','e']\n",
    "\n",
    "print(my_list[-1])\n",
    "print(my_list[-5])"
   ]
  },
  {
   "cell_type": "markdown",
   "metadata": {},
   "source": [
    "### Memotong List\n",
    "Kita dapat mengakses berbagai item dalam list dengan menggunakan operator pengiris **`:`** (titik dua).\n",
    "\n",
    "```\n",
    "<list_name>[start : stop : step]\n",
    "```"
   ]
  },
  {
   "cell_type": "code",
   "execution_count": null,
   "metadata": {},
   "outputs": [],
   "source": [
    "my_list = ['p','r','o','g','r','a','m','i','n','g']\n",
    "\n",
    "\n",
    "print(my_list[2:5])   # elements 3rd to 4th\n",
    "print(my_list[:-5])   # elements beginning to 4th\n",
    "print(my_list[5:])    # elements 5th to end\n",
    "\n",
    "# elements beginning to end\n",
    "print(my_list[:])"
   ]
  },
  {
   "cell_type": "markdown",
   "metadata": {},
   "source": [
    "Memotong dapat divisualisasikan dengan baik dengan mempertimbangkan indeks berada di antara elemen-elemen seperti yang ditunjukkan di bawah ini. Jadi jika kita ingin mengakses suatu range, kita membutuhkan dua indeks yang akan mengiris bagian itu dari list.\n",
    "\n",
    "<img src='https://raw.githubusercontent.com/milaan9/02_Python_Datatypes/main/img/l6_2.png' width=600></img>\n",
    "\n",
    "**CATATAN:** Memori Internal:\n",
    "List tidak menyimpan elemen langsung di indeks. Sebenarnya referensi disimpan di setiap indeks yang selanjutnya merujuk ke objek yang disimpan di suatu tempat di memori. Hal ini disebabkan fakta bahwa beberapa objek mungkin cukup besar daripada objek lain dan karenanya mereka disimpan di beberapa lokasi memori lain."
   ]
  },
  {
   "cell_type": "code",
   "execution_count": null,
   "metadata": {},
   "outputs": [],
   "source": [
    "list=['foo','bar','baz','quz','quux','corge']\n",
    "\n",
    "print(list[2])         \n",
    "print(list[0:])\n",
    "print(list[4:6])\n",
    "print(list[-4:-1])\n",
    "print(list[1:5:2])\n",
    "print(list[-1: :-1])\n",
    "print(list[-1])\n",
    "print(list[-2])\n",
    "print(len(list)-1)"
   ]
  },
  {
   "cell_type": "code",
   "execution_count": null,
   "metadata": {},
   "outputs": [],
   "source": [
    "does_exist = 'bar' in list\n",
    "print(does_exist)"
   ]
  },
  {
   "cell_type": "markdown",
   "metadata": {},
   "source": [
    "## Operasi List\n",
    "Selain membuat dan mengakses elemen dari list, Python memungkinkan kita untuk melakukan berbagai operasi lain dalam list. Beberapa operasi umum diberikan di bawah ini:"
   ]
  },
  {
   "cell_type": "markdown",
   "metadata": {},
   "source": [
    "### Menambahkan atau Mengubah Elemen List\n",
    "\n",
    "List dapat berubah, artinya elemennya dapat diubah tidak seperti string atau tuple. Kita dapat menggunakan assignment operator (**`=`**) untuk mengubah item atau rentang item."
   ]
  },
  {
   "cell_type": "code",
   "execution_count": null,
   "metadata": {},
   "outputs": [],
   "source": [
    "odd = [2, 4, 6, 8]\n",
    "  \n",
    "odd[0] = 1                  \n",
    "print(odd)\n",
    "\n",
    "odd[1:4] = [3, 5, 7]  # [1, 3, 5, 7] update 2nd to 4th elements\n",
    "print(odd)  "
   ]
  },
  {
   "cell_type": "code",
   "execution_count": null,
   "metadata": {},
   "outputs": [],
   "source": [
    "data1 = [5, 10, 15, 20, 25]\n",
    "print(data1) # [5, 10, 15, 20, 25]\n",
    "\n",
    "data1[2] = \"Multiple of 5\"  # we are modifying the 3rd element using its index [2] \n",
    "print(data1) # [5, 10, 'Multiple of 5', 20, 25]"
   ]
  },
  {
   "cell_type": "markdown",
   "metadata": {},
   "source": [
    "Kita dapat menambahkan satu item ke list menggunakan metode **`append()`** atau menambahkan beberapa item menggunakan metode **`extend()`**."
   ]
  },
  {
   "cell_type": "code",
   "execution_count": null,
   "metadata": {},
   "outputs": [],
   "source": [
    "# Appending and Extending Lists\n",
    "\n",
    "odd = [1, 3, 5]\n",
    "\n",
    "odd.append(7)\n",
    "print(odd)  # [1, 3, 5, 7]\n",
    "\n",
    "odd.extend([9, 11, 13])\n",
    "print(odd)  # [1, 3, 5, 7, 9, 11, 13]"
   ]
  },
  {
   "cell_type": "markdown",
   "metadata": {},
   "source": [
    "Kita juga dapat menggunakan operator **`+`** (concatenation) untuk menggabungkan dua list."
   ]
  },
  {
   "cell_type": "code",
   "execution_count": null,
   "metadata": {},
   "outputs": [],
   "source": [
    "# Concatenating Lists\n",
    "\n",
    "odd = [1, 3, 5]\n",
    "print(odd + [9, 7, 5]) # [1, 3, 5, 9, 7, 5] "
   ]
  },
  {
   "cell_type": "code",
   "execution_count": null,
   "metadata": {},
   "outputs": [],
   "source": [
    "list1 = ['a','b','c']\n",
    "list2 = ['x','y','z']\n",
    "list3 = list1 + list2\n",
    "print(list3)  # ['a', 'b', 'c', 'x', 'y', 'z']"
   ]
  },
  {
   "cell_type": "code",
   "execution_count": null,
   "metadata": {},
   "outputs": [],
   "source": [
    "list1 = ['a','b','c']\n",
    "a = 'x'\n",
    "print(list1 + a)  # TypeError: can only concatenate list (not \"str\") to list"
   ]
  },
  {
   "cell_type": "markdown",
   "metadata": {},
   "source": [
    "**CATATAN:** Operator **`+`** menyiratkan bahwa kedua operan yang diteruskan harus berupa list, jika tidak, error akan ditampilkan.\n",
    "\n",
    "Operator **`'*'`** mengulang list untuk beberapa kali."
   ]
  },
  {
   "cell_type": "code",
   "execution_count": null,
   "metadata": {},
   "outputs": [],
   "source": [
    "# Repeating lists\n",
    "\n",
    "print([\"re\"] * 3)   # ['re', 're', 're']"
   ]
  },
  {
   "cell_type": "markdown",
   "metadata": {},
   "source": [
    "Selanjutnya, kita dapat menyisipkan satu item di lokasi yang diinginkan dengan menggunakan metode **`insert()`** atau menyisipkan beberapa item dengan memasukkannya ke dalam irisan list kosong."
   ]
  },
  {
   "cell_type": "code",
   "execution_count": null,
   "metadata": {},
   "outputs": [],
   "source": [
    "# List insert() Method\n",
    "\n",
    "odd = [1, 9]\n",
    "odd.insert(1,3)\n",
    "print(odd)  # [1, 3, 9] \n",
    "\n",
    "odd[2:2] = [5, 7]\n",
    "print(odd)  # [1, 3, 5, 7, 9]"
   ]
  },
  {
   "cell_type": "markdown",
   "metadata": {},
   "source": [
    "### Menghapus Item List\n",
    "Kita dapat menghapus satu atau lebih item dari list menggunakan **`del`**. Ini juga dapat menghapus list sepenuhnya."
   ]
  },
  {
   "cell_type": "code",
   "execution_count": null,
   "metadata": {},
   "outputs": [],
   "source": [
    "# Deleting list items\n",
    "\n",
    "my_list = ['p', 'r', 'o', 'b', 'l', 'e', 'm']\n",
    "\n",
    "del my_list[2]      # delete one item\n",
    "print(my_list)      # ['p', 'r', 'b', 'l', 'e', 'm'] \n",
    "\n",
    "del my_list[1:5]    # delete multiple items\n",
    "print(my_list)      # ['p', 'm']\n",
    "\n",
    "del my_list         # delete entire list\n",
    "print(my_list)      # NameError: name 'my_list' is not defined"
   ]
  },
  {
   "cell_type": "code",
   "execution_count": null,
   "metadata": {},
   "outputs": [],
   "source": [
    "list1=['a','b','c']\n",
    "print(\"data in list : \",list1)      # data in list :  ['a', 'b', 'c']\n",
    "\n",
    "del(list1[2])\n",
    "print(\"new data in list : \",list1)  # new data in list :  ['a', 'b']"
   ]
  },
  {
   "cell_type": "markdown",
   "metadata": {},
   "source": [
    "Kita dapat menggunakan **`remove()`** untuk menghapus item yang diberikan atau **`pop()`** untuk menghapus item pada indeks yang diberikan. Metode **`pop()`** menghapus dan mengembalikan item terakhir jika indeks tidak disediakan. Ini sangat membantu kita mengimplementasikan list sebagai stacks. Kita juga bisa menggunakan metode **`clear()`** untuk mengosongkan list."
   ]
  },
  {
   "cell_type": "code",
   "execution_count": null,
   "metadata": {},
   "outputs": [],
   "source": [
    "my_list = ['p','r','o','b','l','e','m']\n",
    "my_list.remove('p')\n",
    "\n",
    "print(my_list)        # ['r', 'o', 'b', 'l', 'e', 'm']\n",
    "print(my_list.pop(1)) # 'o'\n",
    "print(my_list)        # ['r', 'b', 'l', 'e', 'm']\n",
    "print(my_list.pop())  # 'm'\n",
    "print(my_list)        # ['r', 'b', 'l', 'e']\n",
    "\n",
    "my_list.clear()\n",
    "print(my_list)        # []"
   ]
  },
  {
   "cell_type": "markdown",
   "metadata": {},
   "source": [
    "Terakhir, kita juga dapat menghapus item dalam list dengan menetapkan list kosong ke sepotong elemen."
   ]
  },
  {
   "cell_type": "code",
   "execution_count": null,
   "metadata": {},
   "outputs": [],
   "source": [
    "my_list = ['p','r','o','b','l','e','m']\n",
    "\n",
    "my_list[2:3] = []\n",
    "print(my_list)  # ['p', 'r', 'b', 'l', 'e', 'm']\n",
    "\n",
    "my_list[2:-2] = []\n",
    "print(my_list)  # ['p', 'r', 'e', 'm']"
   ]
  },
  {
   "cell_type": "markdown",
   "metadata": {},
   "source": [
    "## Built-in List Functions\n",
    "\n",
    "| Functions | Description |\n",
    "|:----| :--- |\n",
    "| **`all()`** |   Returns **`True`** if all keys of the list are True. | \n",
    "| **`any()`** |   Returns **`True`** if any key of the list is true. If the list is empty, return **`False`**. | \n",
    "| **`sorted()`** |   Returns a new sorted list of elements in the list. | \n",
    "| **`min()`** |   Returns the minimum value from the list given. | \n",
    "| **`max()`** |   Returns the maximum value from the list given. | \n",
    "| **`len()`** |   Returns number of elements in a list. | \n",
    "| **`cmp()`** |   Compares items of two lists. (TIdak tersedia pada Python versi 3). | \n",
    "| **`list()`** |   Takes sequence types and converts them to lists. | "
   ]
  },
  {
   "cell_type": "markdown",
   "metadata": {},
   "source": [
    "**`all(list)`**\n",
    "Fungsi ini mengembalikan True ketika semua elemen dalam list yang diberikan bernilai true. Jika tidak, akan mengembalikan False."
   ]
  },
  {
   "cell_type": "code",
   "execution_count": null,
   "metadata": {},
   "outputs": [],
   "source": [
    "# all()\n",
    "\n",
    "l = [1, 3, 4, 5]\n",
    "print(all(l))  # True, all values true\n",
    "\n",
    "l = [0, False]\n",
    "print(all(l))  # False, all values false\n",
    "\n",
    "l = [1, 3, 4, 0]\n",
    "print(all(l))  # False, one false value\n",
    "\n",
    "l = [0, False, 5]\n",
    "print(all(l))  # False, one true value\n",
    "\n",
    "l = []\n",
    "print(all(l))  # True, empty iterable"
   ]
  },
  {
   "cell_type": "markdown",
   "metadata": {},
   "source": [
    "**`any(list)`** \n",
    "Fungsi ini mengembalikan True jika ada elemen dari iterable yang True. Jika tidak, akan mengembalikan False."
   ]
  },
  {
   "cell_type": "code",
   "execution_count": null,
   "metadata": {},
   "outputs": [],
   "source": [
    "# any()\n",
    "\n",
    "l = [1, 3, 4, 0]\n",
    "print(any(l))  # True \n",
    "\n",
    "l = [0, False]\n",
    "print(any(l))  # False, both are False\n",
    "\n",
    "l = [0, False, 5]\n",
    "print(any(l))  # True, 5 is true\n",
    "\n",
    "l = []\n",
    "print(any(l))  # False, iterable is empty"
   ]
  },
  {
   "cell_type": "markdown",
   "metadata": {},
   "source": [
    "**`sorted(list)`**\n",
    "Fungsi ini mengurutkan elemen dari list tertentu dalam urutan tertentu (**ascending** atau **descending**) dan mengembalikan list yang diurutkan."
   ]
  },
  {
   "cell_type": "code",
   "execution_count": null,
   "metadata": {},
   "outputs": [],
   "source": [
    "# sorted()\n",
    "\n",
    "py_list = ['e', 'a', 'u', 'o', 'i']\n",
    "print(sorted(py_list))                # ['a', 'e', 'i', 'o', 'u']\n",
    "print(sorted(py_list, reverse=True))  # ['u', 'o', 'i', 'e', 'a']"
   ]
  },
  {
   "cell_type": "markdown",
   "metadata": {},
   "source": [
    "**`min(list)`**\n",
    "Fungsi ini digunakan untuk mendapatkan nilai mininmal dari list."
   ]
  },
  {
   "cell_type": "code",
   "execution_count": null,
   "metadata": {},
   "outputs": [],
   "source": [
    "# min()\n",
    "\n",
    "list1 = ['a','b','c']\n",
    "list2 = [1,2,3]\n",
    "list3 = ['a','b','c',1,2,3]\n",
    "\n",
    "print(min(list1))  # a \n",
    "print(min(list2))  # 1\n",
    "print(min(list3))  # TypeError: '<' not supported between instances of 'int' and 'str'"
   ]
  },
  {
   "cell_type": "markdown",
   "metadata": {},
   "source": [
    "**`max(list)`**\n",
    "Fungsi ini digunakan untuk mendapatkan nilai maksimal dari list."
   ]
  },
  {
   "cell_type": "code",
   "execution_count": null,
   "metadata": {},
   "outputs": [],
   "source": [
    "# max()\n",
    "\n",
    "list1 = ['a','b','c']\n",
    "list2 = [1,2,3]\n",
    "list3 = ['a','b','c',1,2,3]\n",
    "\n",
    "print(max(list1))  # c\n",
    "print(max(list2))  # 3\n",
    "print(max(list3))  # TypeError: '>' not supported between instances of 'int' and 'str'"
   ]
  },
  {
   "cell_type": "markdown",
   "metadata": {},
   "source": [
    "**`len(list)`** \n",
    "Fungsi ini mengembalikan jumlah elemen dalam list."
   ]
  },
  {
   "cell_type": "code",
   "execution_count": null,
   "metadata": {},
   "outputs": [],
   "source": [
    "# len()\n",
    "\n",
    "list1 = ['a','b','c']\n",
    "list2 = []\n",
    "list3 = ['a','b','c',1,2,3]\n",
    "\n",
    "print(len(list1))  # 3\n",
    "print(len(list2))  # 0\n",
    "print(len(list3))  # 6"
   ]
  },
  {
   "cell_type": "markdown",
   "metadata": {},
   "source": [
    "## List Comprehension"
   ]
  },
  {
   "cell_type": "code",
   "execution_count": null,
   "metadata": {},
   "outputs": [],
   "source": [
    "pow2 = [2 ** x for x in range(10)]\n",
    "\n",
    "print(pow2)  # [1, 2, 4, 8, 16, 32, 64, 128, 256, 512]"
   ]
  },
  {
   "cell_type": "markdown",
   "metadata": {},
   "source": [
    "Kode diatas sama dengan kita menuliskan dengan:"
   ]
  },
  {
   "cell_type": "code",
   "execution_count": null,
   "metadata": {},
   "outputs": [],
   "source": [
    "pow2 = []\n",
    "\n",
    "for x in range(10):\n",
    "    pow2.append(2 ** x)\n",
    "    \n",
    "print(pow2)  # [1, 2, 4, 8, 16, 32, 64, 128, 256, 512]"
   ]
  },
  {
   "cell_type": "code",
   "execution_count": null,
   "metadata": {},
   "outputs": [],
   "source": [
    "pow2 = [2 ** x for x in range(10) if x > 5]\n",
    "pow2  # [64, 128, 256, 512]"
   ]
  },
  {
   "cell_type": "code",
   "execution_count": null,
   "metadata": {},
   "outputs": [],
   "source": [
    "odd = [x for x in range(20) if x % 2 == 1]\n",
    "odd  # [1, 3, 5, 7, 9, 11, 13, 15, 17, 19]"
   ]
  },
  {
   "cell_type": "code",
   "execution_count": null,
   "metadata": {},
   "outputs": [],
   "source": [
    "[x+y for x in ['Python ','C '] for y in ['Language','Programming']]"
   ]
  },
  {
   "cell_type": "markdown",
   "metadata": {},
   "source": [
    "## List Loop"
   ]
  },
  {
   "cell_type": "code",
   "execution_count": null,
   "metadata": {},
   "outputs": [],
   "source": [
    "for fruit in ['apple','banana','mango']:\n",
    "    print(\"I like\", fruit)"
   ]
  },
  {
   "cell_type": "code",
   "execution_count": null,
   "metadata": {},
   "outputs": [],
   "source": [
    "list1=['a','b','c',1,2,3]\n",
    "\n",
    "for x in list1 :\n",
    "    print(x)"
   ]
  },
  {
   "cell_type": "markdown",
   "metadata": {},
   "source": [
    "# Tuple\n",
    "Tuple dalam Python mirip dengan list. Perbedaannya adalah list diapit di antara **kurung siku** **`[]`**, sedangkan tuple di antara **tanda kurung** **`()`** dan kita tidak dapat mengubah elemen tuple setelah didefinisikan.\n",
    "\n",
    "| Data types     | Type          |\n",
    "| :------------: | :-----------: |\n",
    "| **String**     | **immutable** |\n",
    "| **List**       | **mutable**   |\n",
    "| **Tuple**      | **immutable** |"
   ]
  },
  {
   "cell_type": "markdown",
   "metadata": {},
   "source": [
    "## Membuat Tuple\n",
    "Tuple dibuat dengan menempatkan semua item (elemen) di dalam **tanda kurung `()`**, dipisahkan oleh **koma `,`**. Tanda kurung adalah opsional, namun merupakan praktik yang baik untuk menggunakannya.\n",
    "\n",
    "Sebuah tuple dapat memiliki sejumlah item dan mungkin memiliki tipe data yang berbeda (integer, float, list, string, dll).\n",
    "\n",
    "<img src=\"https://raw.githubusercontent.com/milaan9/02_Python_Datatypes/main/img/t0.png\" width=\"500\"/>"
   ]
  },
  {
   "cell_type": "code",
   "execution_count": null,
   "metadata": {},
   "outputs": [],
   "source": [
    "# Different types of tuples\n",
    "\n",
    "# Empty tuple\n",
    "my_tuple1 = ()\n",
    "print(my_tuple1)  # ()\n",
    "\n",
    "# Tuple having integers\n",
    "my_tuple2 = (1, 2, 3)\n",
    "print(my_tuple2)  # (1, 2, 3)\n",
    "\n",
    "# tuple with mixed datatypes\n",
    "my_tuple3 = (1, \"Hello\", 3.4)\n",
    "print(my_tuple3)  # (1, \"Hello\", 3.4)\n",
    "\n",
    "# nested tuple\n",
    "my_tuple4 = (\"mouse\", [8, 4, 6], (1, 2, 3))\n",
    "print(my_tuple4)  # (\"mouse\", [8, 4, 6], (1, 2, 3))\n",
    "len(my_tuple4)    # 3"
   ]
  },
  {
   "cell_type": "markdown",
   "metadata": {},
   "source": [
    "Tuple juga dapat dibuat tanpa menggunakan tanda kurung. Ini dikenal sebagai 'tuple packing'."
   ]
  },
  {
   "cell_type": "code",
   "execution_count": null,
   "metadata": {},
   "outputs": [],
   "source": [
    "# Example\n",
    "\n",
    "my_tuple = 3, 4.6, \"dog\"   # paranthesis () is not mandatory\n",
    "print(my_tuple)  # (3, 4.6, 'dog')\n",
    "\n",
    "# tuple unpacking is also possible\n",
    "a, b, c = my_tuple\n",
    "\n",
    "print(a)        # 3\n",
    "print(b)        # 4.6\n",
    "print(c)        # dog"
   ]
  },
  {
   "cell_type": "code",
   "execution_count": null,
   "metadata": {},
   "outputs": [],
   "source": [
    "# Example\n",
    "\n",
    "t1 = ('a b', 1, 2, 3.14, \"HelloWorld\")\n",
    "t2 = \"a\", \"b\", \"c\", \"d\"\n",
    "\n",
    "# tuple contain other list and tuple\n",
    "t3 =(1, 2, 3, ['a','b','c'], ('z', 26))\n",
    "\n",
    "print(t1)  # ('a b', 1, 2, 3.14, 'HelloWorld')\n",
    "print(t2)  # ('a', 'b', 'c', 'd')\n",
    "print(t3)  # (1, 2, 3, ['a', 'b', 'c'], ('z', 26))"
   ]
  },
  {
   "cell_type": "markdown",
   "metadata": {},
   "source": [
    "Membuat Tuple dengan satu elemen agak rumit. Memiliki satu elemen di dalam tanda kurung **`()`** tidaklah cukup. Kita harus membutuhkan tanda koma **`,`** untuk menunjukkan bahwa itu sebenarnya adalah tuple."
   ]
  },
  {
   "cell_type": "code",
   "execution_count": null,
   "metadata": {},
   "outputs": [],
   "source": [
    "# Example\n",
    "\n",
    "t1 = 5  # without () and comma \",\"\n",
    "print(t1)       # 5  \n",
    "print(type(t1)) # <class 'int'>\n",
    "\n",
    "t2 = 5, # with \",\"\n",
    "print(t2)       # (5,)\n",
    "print(type(t2)) # <class 'tuple'>\n",
    "\n",
    "t3 = (5) # without \",\"  That means () is not important, ',' is important\n",
    "print(t3)       # 5\n",
    "print(type(t3)) # <class 'int'>\n",
    "\n",
    "t4 = (5,)       \n",
    "print(t4)       # 5\n",
    "print(type(t4)) # <class 'tuple'>"
   ]
  },
  {
   "cell_type": "markdown",
   "metadata": {},
   "source": [
    "## Mengakses Elemen Tuple"
   ]
  },
  {
   "cell_type": "markdown",
   "metadata": {},
   "source": [
    "### Tuple Indexing\n",
    "Kita dapat menggunakan **operator indeks** **`[]`** untuk mengakses item dalam tuple, di mana indeks dimulai dari 0. Jadi, tuple yang memiliki 6 elemen akan memiliki indeks dari 0 hingga 5. Mencoba mengakses indeks di luar rentang indeks tuple (6,7,... dalam contoh ini) akan memunculkan **`IndexError`**. Indeks harus bilangan bulat, jadi kita tidak bisa menggunakan float atau tipe lainnya. Ini akan menghasilkan **`TypeError`**."
   ]
  },
  {
   "cell_type": "code",
   "execution_count": null,
   "metadata": {},
   "outputs": [],
   "source": [
    "# Accessing tuple elements using indexing\n",
    "\n",
    "my_tuple = ('p','e','r','m','i','t')\n",
    "\n",
    "print(my_tuple[0])   # 'p' \n",
    "print(my_tuple[5])   # 't'\n",
    "\n",
    "print(\"Last index:\", len(my_tuple) - 1)             # Last index: 5\n",
    "print(\"Last element:\", my_tuple[len(my_tuple) - 1]) # Last element: t\n",
    "\n",
    "# Index must be within range\n",
    "# print(my_tuple[6]) # IndexError: list index out of range\n",
    "\n",
    "# Index must be an integer\n",
    "# my_tuple[2.0] # TypeError: tuple indices must be integers or slices, not float"
   ]
  },
  {
   "cell_type": "code",
   "execution_count": null,
   "metadata": {},
   "outputs": [],
   "source": [
    "# Example\n",
    "\n",
    "n_tuple = (\"mouse\", [8, 4, 6], (1, 2, 3))\n",
    "\n",
    "# nested index\n",
    "print(n_tuple[2][0])  # 1 element with index 2 and within sub-element with index 0\n",
    "print(n_tuple[0][3])  # s element with index 0 and within sub-element with index 3"
   ]
  },
  {
   "cell_type": "code",
   "execution_count": null,
   "metadata": {},
   "outputs": [],
   "source": [
    "# Example\n",
    "\n",
    "t = (\"helloworld\", 'xyz', 1,-2,3.6)\n",
    "\n",
    "for x in t:\n",
    "    print(x)"
   ]
  },
  {
   "cell_type": "markdown",
   "metadata": {},
   "source": [
    "### Tuple Negative Indexing"
   ]
  },
  {
   "cell_type": "code",
   "execution_count": null,
   "metadata": {},
   "outputs": [],
   "source": [
    "# Example: Negative indexing for accessing tuple elements\n",
    "\n",
    "my_tuple = ('p', 'e', 'r', 'm', 'i', 't')\n",
    "\n",
    "print(my_tuple[-1])   # t\n",
    "print(my_tuple[-6])   # p"
   ]
  },
  {
   "cell_type": "code",
   "execution_count": null,
   "metadata": {},
   "outputs": [],
   "source": [
    "# Example\n",
    "\n",
    "t=(3,7,4,2)\n",
    "\n",
    "print(t[2])           # 4\n",
    "print(t[1:3])         # (7, 4)\n",
    "print(t[-3])          # 7\n",
    "print(t[-4:-2])       # (3, 7)\n",
    "print(t[-1 :  : -1])  # (2, 4, 7, 3) start from -1 and step =-1 so its basicly return reverse tuple"
   ]
  },
  {
   "cell_type": "markdown",
   "metadata": {},
   "source": [
    "### Memotong Tuple\n",
    "Kita dapat mengakses berbagai item dalam sebuah tupel dengan menggunakan operator pengiris **`:`**(titik dua).\n",
    "\n",
    "```\n",
    "tuple[start : stop : step]\n",
    "```\n",
    "secara default langkahnya adalah +1"
   ]
  },
  {
   "cell_type": "code",
   "execution_count": null,
   "metadata": {},
   "outputs": [],
   "source": [
    "# Example: Accessing tuple elements using slicing\n",
    "\n",
    "my_tuple = ('p','r','o','g','r','a','m','i','n','g')\n",
    "\n",
    "# elements 2nd to 4th\n",
    "print(my_tuple[1:4])   # ('r', 'o', 'g')\n",
    "\n",
    "# elements beginning to 2nd\n",
    "print(my_tuple[:-7])   # ('p', 'r')\n",
    "\n",
    "# elements 8th to end\n",
    "print(my_tuple[7:])    # ('i', 'z')\n",
    "\n",
    "# elements beginning to end\n",
    "print(my_tuple[:])     # ('p', 'r', 'o', 'g', 'r', 'a', 'm', 'i', 'n','g')"
   ]
  },
  {
   "cell_type": "markdown",
   "metadata": {},
   "source": [
    "## Operasi Tuple"
   ]
  },
  {
   "cell_type": "markdown",
   "metadata": {},
   "source": [
    "### Mengubah Elemen Tuple\n",
    "Tidak seperti list, **tupel tidak dapat diubah**. Ini berarti bahwa elemen tupel tidak dapat diubah setelah mereka didefinisikan. Namun, jika elemen itu sendiri adalah tipe data yang dapat diubah seperti ;ist, item bersarangnya dapat diubah. Kita juga dapat menetapkan tuple ke nilai yang berbeda."
   ]
  },
  {
   "cell_type": "code",
   "execution_count": null,
   "metadata": {},
   "outputs": [],
   "source": [
    "# Changing tuple values\n",
    "my_tuple = (4, 2, 3, [6, 5])\n",
    "\n",
    "# my_tuple[1] = 9     # TypeError: 'tuple' object does not support item assignment\n",
    "\n",
    "# However, item of mutable element can be changed\n",
    "my_tuple[3][0] = 9    \n",
    "print(my_tuple)  # (4, 2, 3, [9, 5])\n",
    "\n",
    "# Tuples can be reassigned\n",
    "my_tuple = ('p', 'r', 'o', 'g', 'r', 'a', 'm', 'i', 'n', 'g')\n",
    "print(my_tuple)  # ('p', 'r', 'o', 'g', 'r', 'a', 'm', 'i', ''n', 'g')"
   ]
  },
  {
   "cell_type": "markdown",
   "metadata": {},
   "source": [
    "Kita dapat menggunakan operator **`+`** untuk menggabungkan dua tuple. Kita juga bisa mengulang elemen dalam sebuah tuple untuk beberapa kali dengan menggunakan operator **`*`**. Operasi **`+`** dan **`*`** menghasilkan tuple baru."
   ]
  },
  {
   "cell_type": "code",
   "execution_count": null,
   "metadata": {},
   "outputs": [],
   "source": [
    "# Example 1:\n",
    "\n",
    "# Concatenation\n",
    "print((1, 2, 3) + (4, 5, 6)) # (1, 2, 3, 4, 5, 6)\n",
    "\n",
    "# Repeat\n",
    "print((\"Repeat\",) * 3)       # ('Repeat', 'Repeat', 'Repeat')"
   ]
  },
  {
   "cell_type": "code",
   "execution_count": null,
   "metadata": {},
   "outputs": [],
   "source": [
    "# Example 2:\n",
    "\n",
    "t1 = (1,2,3)\n",
    "t2 = ('x','y','z')\n",
    "t3 = t1 + t2\n",
    "print(t3)   # (1, 2, 3, 'x', 'y', 'z')\n",
    "print(t1*2) # (1, 2, 3, 1, 2, 3)\n",
    "print(t2*3) # ('x', 'y', 'z', 'x', 'y', 'z', 'x', 'y', 'z')"
   ]
  },
  {
   "cell_type": "markdown",
   "metadata": {},
   "source": [
    "Seperti dibahas di atas, kita tidak dapat mengubah elemen dalam sebuah tuple. Ini berarti bahwa kita tidak dapat menghapus atau menghapus item dari tuple. Menghapus tuple seluruhnya, bagaimanapun, dimungkinkan menggunakan kata kunci."
   ]
  },
  {
   "cell_type": "code",
   "execution_count": null,
   "metadata": {},
   "outputs": [],
   "source": [
    "# Example\n",
    "\n",
    "my_tuple = ('p', 'r', 'o', 'g', 'r', 'a', 'm', 'i', 'n', 'g')\n",
    "\n",
    "del my_tuple[3]  # TypeError: 'tuple' object doesn't support item deletion"
   ]
  },
  {
   "cell_type": "code",
   "execution_count": null,
   "metadata": {},
   "outputs": [],
   "source": [
    "my_tuple = ('p', 'r', 'o', 'g', 'r', 'a', 'm', 'i', 'n', 'g')\n",
    "\n",
    "del my_tuple\n",
    "print(my_tuple)   # NameError: name 'my_tuple' is not defined"
   ]
  },
  {
   "cell_type": "markdown",
   "metadata": {},
   "source": [
    "## Built-in Tuple Functions\n",
    "| Function | Description |\n",
    "|:----| :--- |\n",
    "| **`len()`** |  Returns number of elements in a tuple. | \n",
    "| **`max()`** |  Returns item from the tuple with max value. | \n",
    "| **`min()`** |  Returns item from the tuple with min value.  | \n",
    "| **`sorted()`** |  Returns a new sorted list of sequence in the tuple. | \n",
    "| **`tuple()`** |  Converts a sequence into tuple.  | \n",
    "| **`cmp()`** |  Compares items of two tuples. (Not available in Python 3).  | "
   ]
  },
  {
   "cell_type": "code",
   "execution_count": null,
   "metadata": {},
   "outputs": [],
   "source": [
    "# The `len()` method returns the number of elements in the tuple.\n",
    "# Example\n",
    "\n",
    "t1= (1,2,3,4,5)\n",
    "t2 = ('x','y','z',[1,2],3)\n",
    "print(len(t1))  # 5\n",
    "print(len(t2))  # 5"
   ]
  },
  {
   "cell_type": "code",
   "execution_count": null,
   "metadata": {},
   "outputs": [],
   "source": [
    "# The max() method returns the elements from the tuple with maximum value.\n",
    "# The min() method returns the elements from the tuple with minimum value. \n",
    "# Type of element should be same otherwise complier throw `TypeError`.\n",
    "# Example\n",
    "\n",
    "t1= (1,2,3,4,5)\n",
    "t2 = ('x','y','z')\n",
    "print(max(t1))  # 5\n",
    "print(min(t2))  # x"
   ]
  },
  {
   "cell_type": "markdown",
   "metadata": {},
   "source": [
    "## Tuple Methods\n",
    "Metode yang menambahkan item atau menghapus item tidak tersedia pada Tuple. Hanya dua metode berikut yang tersedia."
   ]
  },
  {
   "cell_type": "code",
   "execution_count": null,
   "metadata": {},
   "outputs": [],
   "source": [
    "# Example\n",
    "\n",
    "my_tuple = ('a', 'p', 'p', 'l', 'e',)\n",
    "\n",
    "print(my_tuple.count('p'))   # 2\n",
    "print(my_tuple.index('l'))   # 3"
   ]
  },
  {
   "cell_type": "code",
   "execution_count": null,
   "metadata": {},
   "outputs": [],
   "source": [
    "# Example: Membership test in tuple\n",
    "\n",
    "my_tuple = ('a', 'p', 'p', 'l', 'e',)\n",
    "\n",
    "# In operation\n",
    "print('a' in my_tuple)      # True\n",
    "print('b' in my_tuple)      # False\n",
    "\n",
    "# Not in operation\n",
    "print('g' not in my_tuple)  # True"
   ]
  },
  {
   "cell_type": "markdown",
   "metadata": {},
   "source": [
    "## Kapan menggunakan Tuple?\n",
    "* Pemrosesan Tuple **lebih cepat** daripada List.\n",
    "* Membuat data lebih **aman** karena elemen pada Tuple **tidak dapat diubah**.\n",
    "* Tuple digunakan untuk **pemformatan string**.\n",
    "\n",
    "**Keuntungan Tuple dibandingkan List**\n",
    "Karena tuple sangat mirip dengan list, keduanya digunakan dalam situasi yang sama. Namun, ada keuntungan tertentu dari penerapan tuple dibandingkan list. Di bawah ini tercantum beberapa keuntungan utama:\n",
    "* Kita biasanya menggunakan tuple untuk tipe data yang heterogen (berbeda) dan list untuk tipe data yang homogen (serupa).\n",
    "* Karena tuple tidak dapat diubah, iterasi melalui tuple lebih cepat daripada list. Jadi ada sedikit peningkatan kinerja.\n",
    "* Tuple yang berisi elemen yang tidak dapat diubah dapat digunakan sebagai kunci untuk kamus. Dengan list, ini tidak mungkin.\n",
    "* Jika kita memiliki data yang tidak berubah, mengimplementasikannya sebagai Tuple akan menjamin bahwa data tersebut tetap aman dari kesalahan penulisan."
   ]
  },
  {
   "cell_type": "markdown",
   "metadata": {},
   "source": [
    "# Dictionary\n",
    "Dictionary adalah kumpulan item yang tidak berurutan. Setiap item dictionary memiliki pasangan **`key/value`**. Dictionary dioptimalkan untuk mengambil value ketika key diketahui.\n",
    "\n",
    "<img src=\"https://raw.githubusercontent.com/milaan9/02_Python_Datatypes/main/img/d0.png\" width=\"600\"/>\n",
    "\n",
    "\n",
    "```\n",
    ">>> dict = { }  #empty dictionary\n",
    ">>> dict = {1:'Python',2:'Java',3:'C++'}\n",
    "```\n",
    "\n",
    "* **Dictionary adalah mutable** yaitu, value dapat diperbarui.\n",
    "* Key harus unik dan tidak dapat diubah. Value diakses dengan key. Value dapat diperbarui sementara key tidak dapat diubah.\n",
    "* Dictionary dikenal sebagai array Asosiatif karena key berfungsi sebagai Indeks dan ditentukan oleh pengguna.\n",
    "\n",
    "| Data types     | Type          |\n",
    "| :------------: | :-----------: |\n",
    "| **String**     | **immutable** |\n",
    "| **List**       | **mutable**   |\n",
    "| **Tuple**      | **immutable** |\n",
    "| **Dictionary** | **mutable**   |"
   ]
  },
  {
   "cell_type": "markdown",
   "metadata": {},
   "source": [
    "## Membuat Dictionary\n",
    "Membuat dictionary semudah menempatkan item di dalam kurung kurawal **`{}`** dipisahkan dengan koma. Sebuah item memiliki **`key`** dan **`value`** terkait yang dinyatakan sebagai pasangan {**key: value**}. **`key`** dan **`value`** dipisahkan oleh titik dua **`:`**. Item dipisahkan satu sama lain dengan koma **`,`**. Meskipun value dapat berupa tipe data apa pun dan dapat diulang, key harus dari tipe yang tidak dapat diubah (string, number, atau tuple) dengan elemen yang tidak dapat diubah) dan harus unik."
   ]
  },
  {
   "cell_type": "code",
   "execution_count": null,
   "metadata": {},
   "outputs": [],
   "source": [
    "# Example:\n",
    "\n",
    "d = {}; l = []; t = (); s = set(); st = \"\"\n",
    "print(d,l,t,s,st)     # ▶ {} [] () set() \n",
    "print(type(d),type(l),type(t), type(s), type(st)) "
   ]
  },
  {
   "cell_type": "code",
   "execution_count": null,
   "metadata": {},
   "outputs": [],
   "source": [
    "# dictionary with integer keys\n",
    "my_dict1 = {1: 'apple', 2: 'ball'}\n",
    "print(my_dict1)        # {1: 'apple', 2: 'ball'}\n",
    "\n",
    "# dictionary with mixed keys\n",
    "my_dict2 = {1:\"hi\", \"name\":666, 1.5:(\"yes\",\"very much\"), 9: [3, 6, 9]}\n",
    "print(my_dict2)        # {1: 'hi', 'name': 666, 1.5: ('yes', 'very much'), 9: [3, 6, 9]}\n",
    "\n",
    "# from sequence having each item as a pair\n",
    "my_dict3 = dict([(1,'apple'), (2,'ball')])\n",
    "print(type([(1,'apple'), (2,'ball')])) # nested list\n",
    "print(my_dict3)        # {1: 'apple', 2: 'ball'}\n",
    "print(len(my_dict3))   # 2\n"
   ]
  },
  {
   "cell_type": "code",
   "execution_count": null,
   "metadata": {},
   "outputs": [],
   "source": [
    "dict([(1, 100), ('bar', 200)]), dict(foo=100, bar=200)"
   ]
  },
  {
   "cell_type": "markdown",
   "metadata": {},
   "source": [
    "## Mengakses Elemen Dictionary\n",
    "Sementara index slicing digunakan dengan tipe data lain untuk mengakses value, dictionary menggunakan **`keys`**. Key dapat digunakan di dalam tanda kurung siku **`[]`** atau dengan metode **`get()`**. Jika kita menggunakan tanda kurung siku **`[]`**, **`KeyError`** dimunculkan jika key tidak ditemukan dalam dictionary. Di sisi lain, metode **`get()`** mengembalikan **`None`** jika key tidak ditemukan."
   ]
  },
  {
   "cell_type": "code",
   "execution_count": null,
   "metadata": {},
   "outputs": [],
   "source": [
    "# Example: get vs [] for retrieving elements\n",
    "\n",
    "my_dict = {1:'Python', 2:'Java', 3:'C++', 'c': 'Gods language'}\n",
    "\n",
    "# method: 1\n",
    "print(my_dict[1])         # Python\n",
    "\n",
    "# method: 2\n",
    "print(my_dict.get('c'))   # Gods language"
   ]
  },
  {
   "cell_type": "code",
   "execution_count": null,
   "metadata": {},
   "outputs": [],
   "source": [
    "# Trying to access keys which doesn't exist in dictionary:\n",
    "print(my_dict.get(4))     # None\n",
    "\n",
    "print(my_dict[4])         # KeyError!"
   ]
  },
  {
   "cell_type": "markdown",
   "metadata": {},
   "source": [
    "Perulangan semua elemen menggunakan for loop untuk metode **`keys()`**. Metode **`keys()`** mengembalikan daftar semua key dalam kamus."
   ]
  },
  {
   "cell_type": "code",
   "execution_count": null,
   "metadata": {},
   "outputs": [],
   "source": [
    "# Example\n",
    "\n",
    "dict = {1:'Python', 2:'Java', 3:'C++', 'c': 'Gods language'}\n",
    "\n",
    "print(dict.keys())\n",
    "for x in dict.keys():\n",
    "    print(dict[x])"
   ]
  },
  {
   "cell_type": "markdown",
   "metadata": {},
   "source": [
    "## Mengubah Elemen Dictionary"
   ]
  },
  {
   "cell_type": "code",
   "execution_count": null,
   "metadata": {},
   "outputs": [],
   "source": [
    "# Example: Changing and adding Dictionary Elements\n",
    "\n",
    "my_dict = {'name':'Arthur', 'age':24}\n",
    "\n",
    "my_dict['age'] = 25   # update value\n",
    "print(my_dict)        # {'age': 25, 'name': 'Arthur'}\n",
    "\n",
    "my_dict['address'] = 'Downtown'  # add item\n",
    "print(my_dict)        # {'name': 'Arthur', 'age': 25, 'address': 'Downtown'}"
   ]
  },
  {
   "cell_type": "code",
   "execution_count": null,
   "metadata": {},
   "outputs": [],
   "source": [
    "# Example: Changing and adding Dictionary Elements\n",
    "\n",
    "my_dict = {1:'Python', 2:'Java', 3:'C++'}\n",
    "my_dict[3]=\"R\"     # update value\n",
    "my_dict[4]=\"PHP\"   # insert new value\n",
    "print(my_dict)     # {1: 'Python', 2: 'Java', 3: 'R', 4: 'PHP'}"
   ]
  },
  {
   "cell_type": "code",
   "execution_count": null,
   "metadata": {},
   "outputs": [],
   "source": [
    "# Example: Removing elements from a dictionary\n",
    "\n",
    "squares = {1:1, 2:4, 3:9, 4:16, 5:25}   # create a dictionary\n",
    "\n",
    "# remove a particular item, returns its value\n",
    "print(squares.pop(4))    # 16\n",
    "print(squares)           # {1: 1, 2: 4, 3: 9, 5: 25}\n",
    "\n",
    "# remove an arbitrary item, return (key,value)\n",
    "print(squares.popitem()) # (5, 25)\n",
    "print(squares)           # {1: 1, 2: 4, 3: 9}\n",
    "\n",
    "squares.clear()          # remove all items\n",
    "print(squares)           # {}\n",
    "\n",
    "del squares              # delete the dictionary itself\n",
    "print(squares)           # NameError!!!"
   ]
  },
  {
   "cell_type": "code",
   "execution_count": null,
   "metadata": {},
   "outputs": [],
   "source": [
    "# Example: Removing elements from a dictionary\n",
    "\n",
    "my_dict = {1:'Python', 2:'Java', 3:'C++', 4:'PHP'}\n",
    "del my_dict[3]    # {1: 'Python', 2: 'Java', 4: 'PHP'} ∵ remove entry with key '3'\n",
    "print(my_dict)    # {}\n",
    "\n",
    "my_dict.clear()   # remove all entries in dict\n",
    "print(\"my_dict : \",my_dict)  # my_dict :  {}\n",
    "\n",
    "del my_dict       # delete entire dictionary\n",
    "print(my_dict[2]) # NameError!!!"
   ]
  },
  {
   "cell_type": "markdown",
   "metadata": {},
   "source": [
    "## Built-in Dictionary Functions\n",
    "\n",
    "| Function | Description |\n",
    "|:----| :--- |\n",
    "| **`all()`** | Returns **`True`** if all keys of the dictionary are true (or if the dictionary is empty). | \n",
    "| **`any()`** | Returns **`True`** if any key of the dictionary is true. If the dictionary is empty, return **`False`**. | \n",
    "| **`len()`** | Returns the length (the number of items) in the dictionary. | \n",
    "| **`cmp()`** | Compares items of two dictionaries. (Not available in Python 3). | \n",
    "| **`sorted()`** | Returns a new sorted list of keys in the dictionary. | \n",
    "| **`str()`** | Produces a printable string representation of a dictionary. | \n",
    "| **`type()`** | Returns the type of the passed variable. If passed variable is dictionary,then it would return a dictionary type. |"
   ]
  },
  {
   "cell_type": "code",
   "execution_count": null,
   "metadata": {},
   "outputs": [],
   "source": [
    "# Example: Dictionary Built-in Functions\n",
    "\n",
    "squares = {0:0, 1:1, 3:9, 5:25, 7:49, 9:81}\n",
    "\n",
    "print(all(squares))     # False\n",
    "print(any(squares))     # True\n",
    "print(len(squares))     # 6\n",
    "print(sorted(squares))  # [0, 1, 3, 5, 7, 9]"
   ]
  },
  {
   "cell_type": "code",
   "execution_count": null,
   "metadata": {},
   "outputs": [],
   "source": [
    "# Example : How all() works with Python dictionaries?\n",
    "# In case of dictionaries, if all keys (not values) are true or the dictionary is empty, \n",
    "# all() returns True. Else, it returns false for all other cases.\n",
    "\n",
    "my_dict = {0:'False', 1:'False'}\n",
    "print(all(my_dict))   # False\n",
    "\n",
    "my_dict = {1:'True', 2:'True'}\n",
    "print(all(my_dict))   # True\n",
    "\n",
    "my_dict = {1:'True', False:0}\n",
    "print(all(my_dict))   # False\n",
    "\n",
    "my_dict = {}\n",
    "print(all(my_dict))   # True\n",
    "\n",
    "# 0 is False\n",
    "# '0' is True\n",
    "my_dict = {'0':'True'}\n",
    "print(all(my_dict))   # True"
   ]
  },
  {
   "cell_type": "code",
   "execution_count": null,
   "metadata": {},
   "outputs": [],
   "source": [
    "# Example : How any() works with Python dictionaries?\n",
    "\n",
    "my_dict = {0:'False'}             \n",
    "print(any(my_dict))                # False, 0 is False\n",
    "\n",
    "my_dict = {0:'False', 1:'True'}  \n",
    "print(any(my_dict))                # True, 1 is True\n",
    "\n",
    "my_dict = {0:'False', False:0}   \n",
    "print(any(my_dict))                # False, both 0 and False are False\n",
    "\n",
    "my_dict = {}                       \n",
    "print(any(my_dict))                # False, iterable is empty\n",
    "\n",
    "# 0 is False\n",
    "# '0' is True\n",
    "my_dict = {'0':'False'}           \n",
    "print(any(my_dict))                # True"
   ]
  },
  {
   "cell_type": "code",
   "execution_count": null,
   "metadata": {},
   "outputs": [],
   "source": [
    "# Example\n",
    "\n",
    "my_dict = {1:'Python', 2:'Java', 3:'C++', 4:'PHP'}\n",
    "print(len(my_dict))  # 4"
   ]
  },
  {
   "cell_type": "code",
   "execution_count": null,
   "metadata": {},
   "outputs": [],
   "source": [
    "# Example\n",
    "\n",
    "my_dict = {'e':1, 'a':2, 'u':3, 'o':4, 'i':5}\n",
    "print(sorted(my_dict))               # ['a', 'e', 'i', 'o', 'u']\n",
    "print(sorted(my_dict, reverse=True)) # ['u', 'o', 'i', 'e', 'a']"
   ]
  },
  {
   "cell_type": "code",
   "execution_count": null,
   "metadata": {},
   "outputs": [],
   "source": [
    "# Example\n",
    "\n",
    "my_dict = {1:'Python', 2:'Java', 3:'C++', 4:'PHP'}\n",
    "print(str(my_dict)) # {1: 'Python', 2: 'Java', 3: 'C++', 4: 'PHP'}"
   ]
  },
  {
   "cell_type": "code",
   "execution_count": null,
   "metadata": {},
   "outputs": [],
   "source": [
    "# Example\n",
    "\n",
    "my_dict = {1:'Python', 2:'Java', 3:'C++', 4:'PHP'}\n",
    "print(type(my_dict))  # <class 'dict'>"
   ]
  },
  {
   "cell_type": "markdown",
   "metadata": {},
   "source": [
    "## Dictionary Methods\n",
    "\n",
    "| Method | Description |\n",
    "|:----| :--- |\n",
    "| **`clear()`** | Removes all items from the dictionary. | \n",
    "| **`copy()`** | Returns a shallow copy of the dictionary. | \n",
    "| **`fromkeys(seq[, v])`** | Returns a new dictionary with keys from **`seq`** and value equal to **`v`** (defaults to **`None`**). | \n",
    "| **`get(key[,d])`** | Returns the value of the **`key`**. If the **`key`** does not exist, returns **`d`** (defaults to **`None`**). | \n",
    "| **`items()`** | Return a new object of the dictionary's items in **`(key, value)`** format. | \n",
    "| **`keys()`** | Returns a new object of the dictionary's keys. | \n",
    "| **`pop(key[,d])`** | Removes the item with the **`key`** and returns its value or **`d`** if **`key`** is not found. If **`d`** is not provided and the **`key`** is not found, it raises **`KeyError`**. | \n",
    "| **`popitem()`** | Removes and returns an arbitrary item **`(key, value)`**. Raises **`KeyError`** if the dictionary is empty. | \n",
    "| **`setdefault(key[,d])`** | Returns the corresponding value if the **`key`** is in the dictionary. If not, inserts the **`key`** with a value of **`d`** and returns **`d`** (defaults to **`None`**). | \n",
    "| **`update([other])`** | Updates the dictionary with the key/value pairs from **`other`**, overwriting existing keys. |  \n",
    "| **`values()`** | Returns a new object of the dictionary's values. | "
   ]
  },
  {
   "cell_type": "code",
   "execution_count": null,
   "metadata": {},
   "outputs": [],
   "source": [
    "# Example: Dictionary Methods\n",
    "\n",
    "marks = {}.fromkeys(['Math', 'English', 'Science'], 0)\n",
    "print(marks)                        # {'English': 0, 'Math': 0, 'Science': 0}\n",
    "\n",
    "for item in marks.items():\n",
    "    print(item)\n",
    "\n",
    "print(list(sorted(marks.keys())))   # ['English', 'Math', 'Science']"
   ]
  },
  {
   "cell_type": "code",
   "execution_count": null,
   "metadata": {},
   "outputs": [],
   "source": [
    "# The method `clear()` removes all items from the dictionary.\n",
    "# Example:\n",
    "\n",
    "my_dict = {1:'Python', 2:'Java', 3:'C++', 4:'PHP'}\n",
    "\n",
    "print(str(my_dict))  # {1: 'Python', 2: 'Java', 3: 'C++', 4: 'PHP'}\n",
    "dict.clear()\n",
    "print(str(my_dict))  # {}"
   ]
  },
  {
   "cell_type": "code",
   "execution_count": null,
   "metadata": {},
   "outputs": [],
   "source": [
    "# The method `copy()` returns a shallow copy of the dictionary.\n",
    "# Example:\n",
    "\n",
    "dict1 = {1:'Python', 2:'Java', 3:'C++', 4:'PHP'}\n",
    "dict2 = dict1.copy()\n",
    "print(dict2)  # {1: 'Python', 2: 'Java', 3: 'C++', 4: 'PHP'}"
   ]
  },
  {
   "cell_type": "code",
   "execution_count": null,
   "metadata": {},
   "outputs": [],
   "source": [
    "# The method `items()` returns a list of dict's (key, value) tuple pairs.\n",
    "# Example:\n",
    "\n",
    "my_dict = {1:'Python', 2:'Java', 3:'C++', 4:'PHP'}\n",
    "print(my_dict.items()) # dict_items([(1, 'Python'), (2, 'Java'), (3, 'C++'), (4, 'PHP')])"
   ]
  },
  {
   "cell_type": "code",
   "execution_count": null,
   "metadata": {},
   "outputs": [],
   "source": [
    "# The method `keys()` returns a list of all the available keys in the dictionary.\n",
    "# Example:\n",
    "\n",
    "my_dict = {1:'Python', 2:'Java', 3:'C++', 4:'PHP'}\n",
    "all_keys=my_dict.keys()\n",
    "print(all_keys)  # dict_keys([1, 2, 3, 4])"
   ]
  },
  {
   "cell_type": "code",
   "execution_count": null,
   "metadata": {},
   "outputs": [],
   "source": [
    "# The method `fromkeys()` creates a new dictionary with keys from seq and values set to value.\n",
    "# Example:\n",
    "\n",
    "seq = ('Python', 'Java', 'C++')\n",
    "my_dict = my_dict.fromkeys(seq)\n",
    "\n",
    "print (\"new_dict : %s\" % str(my_dict)) # new_dict : {'python': None, 'java': None, 'c++': None}\n",
    "my_dict = my_dict.fromkeys(seq, 50)\n",
    "print (\"new_dict : %s\" % str(my_dict)) # new_dict : {'python': 50, 'java': 50, 'c++': 50}"
   ]
  },
  {
   "cell_type": "code",
   "execution_count": null,
   "metadata": {},
   "outputs": [],
   "source": [
    "# The method `setdefault()` is similar to `get` but will set `dict[key]` = default if key is not already in dict.\n",
    "# Example:\n",
    "\n",
    "my_dict = {'emp_name':'Milaan', 'age':96, 'emp_id':999}\n",
    "my_dict.setdefault('company','JLUFE')\n",
    "print(my_dict['emp_name'])   # Milaan\n",
    "print(my_dict['company'])    # JLUFE"
   ]
  },
  {
   "cell_type": "code",
   "execution_count": null,
   "metadata": {},
   "outputs": [],
   "source": [
    "# The method `update()` adds dictionary dict2's key-values pairs in to dict. This function does not return anything.\n",
    "# Example:\n",
    "\n",
    "dict1 = {1:'Python', 2:'Java', 3:'C++', 4:'PHP'}\n",
    "dict2 = {1:'Python3',5:'C'}  # update Python to Python3\n",
    "dict1.update(dict2)\n",
    "print(dict1)   # {1: 'Python3', 2: 'Java', 3: 'C++', 4: 'PHP', 5: 'C'}\n"
   ]
  },
  {
   "cell_type": "code",
   "execution_count": null,
   "metadata": {},
   "outputs": [],
   "source": [
    "# The method `values()` returns a list of all the values available in a given dictionary.\n",
    "# Example:\n",
    "\n",
    "dict1 = {1:'Python', 2:'Java', 3:'C++', 4:'PHP'}\n",
    "values = dict1.values()\n",
    "print(values)  # dict_values(['Python', 'Java', 'C++', 'PHP'])"
   ]
  },
  {
   "cell_type": "markdown",
   "metadata": {},
   "source": [
    "## Dictionary Comprehension\n",
    "Dictionary comprehension adalah cara yang elegan dan ringkas untuk membuat kamus baru dari iterable pada Python. Dictionary comprehension terdiri dari pasangan ekspresi **`(key: value)`** diikuti oleh pernyataan **`for`** di dalam kurung kurawal **`{}`**."
   ]
  },
  {
   "cell_type": "code",
   "execution_count": null,
   "metadata": {},
   "outputs": [],
   "source": [
    "# Example: Dictionary Comprehension\n",
    "\n",
    "squares = {x: x*x for x in range(6)}\n",
    "print(squares)  # {0: 0, 1: 1, 2: 4, 3: 9, 4: 16, 5: 25}"
   ]
  },
  {
   "cell_type": "markdown",
   "metadata": {},
   "source": [
    "Kode diatas sama jiak dituliskan dengan:"
   ]
  },
  {
   "cell_type": "code",
   "execution_count": null,
   "metadata": {},
   "outputs": [],
   "source": [
    "squares = {}\n",
    "for x in range(6):\n",
    "    squares[x] = x*x\n",
    "print(squares)  # {0: 0, 1: 1, 2: 4, 3: 9, 4: 16, 5: 25}"
   ]
  },
  {
   "cell_type": "markdown",
   "metadata": {},
   "source": [
    "Dictionary comprehension secara opsional dapat berisi lebih banyak **for** atau **if**. Pernyataan **`if`** opsional dapat memfilter item untuk membentuk dictionary baru."
   ]
  },
  {
   "cell_type": "code",
   "execution_count": null,
   "metadata": {},
   "outputs": [],
   "source": [
    "# Example: Dictionary Comprehension with if conditional\n",
    "\n",
    "odd_squares = {x: x*x for x in range(11) if x % 2 == 1}\n",
    "print(odd_squares)  # {1: 1, 3: 9, 5: 25, 7: 49, 9: 81}"
   ]
  },
  {
   "cell_type": "markdown",
   "metadata": {},
   "source": [
    "# Set\n",
    "Set adalah **kumpulan item yang tidak diurutkan**. Setiap elemen yang ditetapkan adalah unik (tidak boleh sama ) dan harus tidak dapat diubah (immutable ). Namun, set itu sendiri bisa berubah. Kita dapat menambahkan atau menghapus item darinya. Set juga dapat digunakan untuk melakukan operasi himpunan matematika seperti **union**, **intersection**, **symmetric difference**, dll.\n",
    "\n",
    "| Data types     | Type          |\n",
    "| :------------: | :-----------: |\n",
    "| **String**     | **immutable** |\n",
    "| **List**       | **mutable**   |\n",
    "| **Tuple**      | **immutable** |\n",
    "| **Dictionary** | **mutable**   |\n",
    "| **Set**        | **immutable** |\n",
    "\n",
    "**Bagaimana set dapat lebih baik dari tipe data lainnya?**\n",
    "\n",
    "Set **tidak akan berisi beberapa kemunculan elemen yang sama**, sangat berguna dalam menghapus elemen duplikat dari list atau tuple. Set juga berguna dalam menghitung notasi matematika seperti union, intersection, dll."
   ]
  },
  {
   "cell_type": "markdown",
   "metadata": {},
   "source": [
    "## Membuat Set\n",
    "Set dibuat dengan menempatkan semua item (elemen) di dalam kurung kurawal **`{}`**, dipisahkan dengan koma, atau dengan menggunakan fungsi **`set()`**. Set dapat memiliki sejumlah item dan memiliki tipe yang berbeda (integer, float, tuple, string, dll.). Tetapi satu set tidak dapat memiliki elemen yang bisa berubah seperti list atau dictionary."
   ]
  },
  {
   "cell_type": "code",
   "execution_count": null,
   "metadata": {},
   "outputs": [],
   "source": [
    "# Example : Different types of sets in Python\n",
    "\n",
    "# Set of integers\n",
    "my_set = {5, 7, 1, 2, 3}            \n",
    "print(my_set)           # {1, 2, 3, 5, 7}\n",
    " \n",
    "# Set of mixed datatypes\n",
    "my_set = {1.0, \"Hello\", (1, 2, 3)}  \n",
    "print(my_set)           # {1.0, 'Hello', (1, 2, 3)}"
   ]
  },
  {
   "cell_type": "code",
   "execution_count": null,
   "metadata": {},
   "outputs": [],
   "source": [
    "# Example : Different types of sets in Python\n",
    "\n",
    "# set cannot have duplicates\n",
    "my_set = {1, 2, 3, 4, 3, 2}\n",
    "print(my_set)             # {1, 2, 3, 4}\n",
    "\n",
    "# we can make set from a list\n",
    "my_set = set([1, 2, 3, 2])\n",
    "print(my_set)             # {1, 2, 3}\n",
    "\n",
    "# set can have immutable items\n",
    "# here (3, 4) is a immutable list\n",
    "\n",
    "my_set = {1, 2, (3, 4)}   \n",
    "print(my_set)            # {1, 2, (3, 4)}, tuple is immutable\n",
    "\n",
    "# set cannot have mutable items\n",
    "# here [3, 4] is a mutable list\n",
    "my_set = {1, 2, [3, 4]}  # this will cause an error, list is mutable"
   ]
  },
  {
   "cell_type": "code",
   "execution_count": null,
   "metadata": {},
   "outputs": [],
   "source": [
    "# Example : Distinguish set and dictionary while creating empty set\n",
    "\n",
    "# initialize a with {}\n",
    "a = {}\n",
    "\n",
    "# check data type of a\n",
    "print(type(a))  # <class 'dict'> ∵ dict also use {}\n",
    "\n",
    "# initialize a with set()\n",
    "a = set()\n",
    "\n",
    "# check data type of a\n",
    "print(type(a))  # <class 'set'>"
   ]
  },
  {
   "cell_type": "markdown",
   "metadata": {},
   "source": [
    "## Mengubah Elemen Set\n",
    "Set adalah mutable. Namun, karena tidak berurutan, pengindeksan tidak memiliki arti. Kita tidak dapat mengakses atau mengubah elemen set menggunakan index slicing."
   ]
  },
  {
   "cell_type": "code",
   "execution_count": null,
   "metadata": {},
   "outputs": [],
   "source": [
    "# Example\n",
    "\n",
    "# initialize my_set\n",
    "my_set = {1, 3}\n",
    "print(my_set)      # {1, 3}\n",
    "\n",
    "# my_set[0]\n",
    "# if you uncomment above line, you will get an error\n",
    "# TypeError: 'set' object does not support indexing\n",
    "\n",
    "# add an element\n",
    "my_set.add(2)\n",
    "print(my_set)     # {1, 2, 3}\n",
    "\n",
    "# add multiple elements\n",
    "my_set.update([2, 3, 4])\n",
    "print(my_set)     # {1, 2, 3, 4}\n",
    "\n",
    "# add list and set\n",
    "my_set.update([1,7],(8,9,10),{1,5,9,10})\n",
    "print(my_set)     # {1, 2, 3, 4, 5, 7, 8, 9, 10}"
   ]
  },
  {
   "cell_type": "markdown",
   "metadata": {},
   "source": [
    "Item dapat dihapus dari set menggunakan metode **`discard()`** dan **`remove()`**. Satu-satunya perbedaan antara kedua metode tersebut adalah bahwa **`discard()`** membiarkan set tidak berubah jika elemen tidak ada dalam set. Di sisi lain, **`remove()`** akan memunculkan error dalam kondisi seperti itu (jika elemen tidak ada dalam set)."
   ]
  },
  {
   "cell_type": "code",
   "execution_count": null,
   "metadata": {},
   "outputs": [],
   "source": [
    "# Example: Difference between discard() and remove() for removing element from a set\n",
    "\n",
    "# initialize my_set\n",
    "my_set = {1, 3, 4, 5, 6}\n",
    "print(my_set)     # {1, 3, 4, 5, 6}\n",
    "\n",
    "# discard an element\n",
    "my_set.discard(4)\n",
    "print(my_set)     # {1, 3, 5, 6}\n",
    "\n",
    "# remove an element\n",
    "my_set.remove(6)\n",
    "print(my_set)     # {1, 3, 5}\n",
    "\n",
    "# discard an element not present in my_set\n",
    "my_set.discard(2)\n",
    "print(my_set)     # {1, 3, 5} NO ERROR!\n",
    "\n",
    "# remove an element not present in my_set you will get an error.\n",
    "my_set.remove(2)  # KeyError!!!"
   ]
  },
  {
   "cell_type": "markdown",
   "metadata": {},
   "source": [
    "Kita dapat menghapus dan mengembalikan item menggunakan metode **`pop()`**. Karena set adalah tipe data yang tidak berurutan, tidak ada cara untuk menentukan item mana yang akan muncul. Kita juga dapat menghapus semua item dari set menggunakan metode **`clear()`**."
   ]
  },
  {
   "cell_type": "code",
   "execution_count": null,
   "metadata": {},
   "outputs": [],
   "source": [
    "# Example:\n",
    "\n",
    "# initialize my_set\n",
    "my_set = set(\"HelloWorld\")\n",
    "print(my_set)        # unorderd set of unique elements\n",
    "\n",
    "# pop an element\n",
    "print(my_set.pop())  # removes a random element\n",
    "\n",
    "# pop another element\n",
    "my_set.pop()\n",
    "print(my_set)\n",
    "\n",
    "# clear my_set\n",
    "my_set.clear()\n",
    "print(my_set)        # set()"
   ]
  },
  {
   "cell_type": "markdown",
   "metadata": {},
   "source": [
    "## Set Operations\n",
    "Set dapat digunakan melakukan operasi himpunan matematika seperti union, intersection, difference dan symmetric difference. Kita dapat melakukan ini dengan operator atau metode. Perhatikan dua himpunan berikut untuk operasi set.\n",
    "\n",
    "```\n",
    ">>> A = {1, 2, 3, 4, 5}\n",
    ">>> B = {4, 5, 6, 7, 8}\n",
    "```"
   ]
  },
  {
   "cell_type": "markdown",
   "metadata": {},
   "source": [
    "### Set Union\n",
    "<img src=\"https://github.com/milaan9/02_Python_Datatypes/blob/main/img/set1.png?raw=1\" width=\"300\"/>\n",
    "\n",
    "Union **`A`** dan **`B`** adalah himpunan semua elemen dari kedua himpunan. Union dilakukan menggunakan operator **`|`**. Hal yang sama dapat dilakukan dengan menggunakan metode **`union()`**."
   ]
  },
  {
   "cell_type": "code",
   "execution_count": null,
   "metadata": {},
   "outputs": [],
   "source": [
    "# Example\n",
    "\n",
    "# Set union method\n",
    "# initialize A and B\n",
    "A = {1, 2, 3, 4, 5}\n",
    "B = {4, 5, 6, 7, 8}\n",
    "\n",
    "# use | operator\n",
    "print(A | B)      # {1, 2, 3, 4, 5, 6, 7, 8}"
   ]
  },
  {
   "cell_type": "code",
   "execution_count": null,
   "metadata": {},
   "outputs": [],
   "source": [
    "# Example\n",
    "\n",
    "# use union function\n",
    "A.union(B)\n",
    "{1, 2, 3, 4, 5, 6, 7, 8}\n",
    "\n",
    "# use union function on B\n",
    "B.union(A)\n",
    "{1, 2, 3, 4, 5, 6, 7, 8}"
   ]
  },
  {
   "cell_type": "markdown",
   "metadata": {},
   "source": [
    "### Set Intersection\n",
    "<img src=\"https://github.com/milaan9/02_Python_Datatypes/blob/main/img/set2.png?raw=1\" width=\"300\"/>\n",
    "\n",
    "Intersection **`A`** dan **`B`** adalah himpunan elemen yang beririsan di kedua himpunan.\n",
    "\n",
    "Intersection dilakukan menggunakan operator **`&`**. Hal yang sama dapat dilakukan dengan menggunakan metode **`intersection()`**."
   ]
  },
  {
   "cell_type": "code",
   "execution_count": null,
   "metadata": {},
   "outputs": [],
   "source": [
    "# Example\n",
    "\n",
    "# Intersection of sets\n",
    "# initialize A and B\n",
    "A = {1, 2, 3, 4, 5}\n",
    "B = {4, 5, 6, 7, 8}\n",
    "\n",
    "# use & operator\n",
    "print(A & B)     # {4, 5}"
   ]
  },
  {
   "cell_type": "code",
   "execution_count": null,
   "metadata": {},
   "outputs": [],
   "source": [
    "# Example\n",
    "\n",
    "# use intersection function on A\n",
    "A.intersection(B) # {4, 5}\n",
    "\n",
    "# use intersection function on B\n",
    "B.intersection(A) # {4, 5}"
   ]
  },
  {
   "cell_type": "markdown",
   "metadata": {},
   "source": [
    "### Set Difference\n",
    "<img src=\"https://github.com/milaan9/02_Python_Datatypes/blob/main/img/set3.png?raw=1\" width=\"300\"/>\n",
    "\n",
    "Selisih himpunan **`B`** dari himpunan **`A`**, **`(A - B)`** adalah himpunan elemen yang hanya ada di A tetapi tidak di `B`. Demikian pula, **`B - A`** adalah kumpulan elemen dalam **`B`** tetapi tidak dalam **`A`**.\n",
    "\n",
    "Set difference dapat dilakukan dengan menggunakan operator **`-`**. Hal yang sama dapat dilakukan dengan menggunakan metode **`difference()`**."
   ]
  },
  {
   "cell_type": "code",
   "execution_count": null,
   "metadata": {},
   "outputs": [],
   "source": [
    "# Example\n",
    "\n",
    "# Difference of two sets\n",
    "# initialize A and B\n",
    "A = {1, 2, 3, 4, 5}\n",
    "B = {4, 5, 6, 7, 8}\n",
    "\n",
    "# use - operator on A\n",
    "print(A - B)    # {1, 2, 3}\n",
    "print(B - A)    # {8, 6, 7}"
   ]
  },
  {
   "cell_type": "code",
   "execution_count": null,
   "metadata": {},
   "outputs": [],
   "source": [
    "# Example\n",
    "\n",
    "# use difference function on A\n",
    "A.difference(B) # {1, 2, 3}\n",
    "\n",
    "# use difference function on B\n",
    "B.difference(A) # {6, 7, 8}"
   ]
  },
  {
   "cell_type": "markdown",
   "metadata": {},
   "source": [
    "### Set Symmetric Difference\n",
    "<img src=\"https://github.com/milaan9/02_Python_Datatypes/blob/main/img/set4.png?raw=1\" width=\"300\"/>\n",
    "\n",
    "Selisih simetris dari **`A`** dan **`B`** adalah kumpulan elemen di **`A`** dan **`B`** tetapi tidak di keduanya (tidak termasuk perpotongan).\n",
    "\n",
    "Perbedaan simetris dilakukan dengan menggunakan operator **`^`**. Hal yang sama dapat dilakukan dengan menggunakan metode **`symmetric_difference()`**."
   ]
  },
  {
   "cell_type": "code",
   "execution_count": null,
   "metadata": {},
   "outputs": [],
   "source": [
    "# Example\n",
    "\n",
    "# Symmetric difference of two sets\n",
    "# initialize A and B\n",
    "A = {1, 2, 3, 4, 5}\n",
    "B = {4, 5, 6, 7, 8}\n",
    "\n",
    "# use ^ operator\n",
    "print(A ^ B)    # {1, 2, 3, 6, 7, 8}"
   ]
  },
  {
   "cell_type": "code",
   "execution_count": null,
   "metadata": {},
   "outputs": [],
   "source": [
    "# Example\n",
    "\n",
    "# use symmetric_difference function on A\n",
    "A.symmetric_difference(B)  # {1, 2, 3, 6, 7, 8}\n",
    "\n",
    "# use symmetric_difference function on B\n",
    "B.symmetric_difference(A)  # {1, 2, 3, 6, 7, 8}"
   ]
  },
  {
   "cell_type": "markdown",
   "metadata": {},
   "source": [
    "## Frozenset\n",
    "Frozenset adalah kelas baru yang memiliki karakteristik himpunan, tetapi elemennya tidak dapat diubah setelah ditetapkan. Sementara tuple adalah daftar yang tidak dapat diubah, Frozenset adalah set yang tidak dapat diubah.\n",
    "\n",
    "Set yang dapat diubah tidak dapat di-hash, sehingga tidak dapat digunakan sebagai key pada dictionary. Di sisi lain, frozenset dapat di-hash dan dapat digunakan sebagai key pada dictionary. Frozenset dapat dibuat menggunakan fungsi **`frozenset()`**.\n",
    "\n",
    "Fungsi **`frozenset()`** mengembalikan objek frozenset yang tidak dapat diubah yang diinisialisasi dengan elemen dari iterable yang diberikan."
   ]
  },
  {
   "cell_type": "code",
   "execution_count": 76,
   "metadata": {},
   "outputs": [],
   "source": [
    "# Example\n",
    "\n",
    "# Frozensets\n",
    "# initialize A and B\n",
    "A = frozenset([1, 2, 3, 4])\n",
    "B = frozenset([3, 4, 5, 6])"
   ]
  },
  {
   "cell_type": "code",
   "execution_count": null,
   "metadata": {},
   "outputs": [],
   "source": [
    "A.isdisjoint(B) # False, they have common intersection points"
   ]
  },
  {
   "cell_type": "code",
   "execution_count": null,
   "metadata": {},
   "outputs": [],
   "source": [
    "# Example\n",
    "\n",
    "# initialize A and B\n",
    "A = frozenset([1, 2, 3, 4])\n",
    "B = frozenset([3, 4, 5, 6])\n",
    "\n",
    "# copying a frozenset\n",
    "C = A.copy()                     # frozenset({1, 2, 3, 4})\n",
    "print(C)\n",
    "\n",
    "# union\n",
    "print(A.union(B))                # frozenset({1, 2, 3, 4, 5, 6})\n",
    "\n",
    "# intersection\n",
    "print(A.intersection(B))         # frozenset({3, 4})\n",
    "\n",
    "# difference\n",
    "print(A.difference(B))           # frozenset({1, 2})\n",
    "\n",
    "# symmetric_difference\n",
    "print(A.symmetric_difference(B)) # frozenset({1, 2, 5, 6})"
   ]
  }
 ],
 "metadata": {
  "interpreter": {
   "hash": "b3ba2566441a7c06988d0923437866b63cedc61552a5af99d1f4fb67d367b25f"
  },
  "kernelspec": {
   "display_name": "Python 3.8.8 ('base')",
   "language": "python",
   "name": "python3"
  },
  "language_info": {
   "codemirror_mode": {
    "name": "ipython",
    "version": 3
   },
   "file_extension": ".py",
   "mimetype": "text/x-python",
   "name": "python",
   "nbconvert_exporter": "python",
   "pygments_lexer": "ipython3",
   "version": "3.8.8"
  },
  "orig_nbformat": 4
 },
 "nbformat": 4,
 "nbformat_minor": 2
}
