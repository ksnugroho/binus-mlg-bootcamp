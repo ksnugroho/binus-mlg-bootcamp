{
 "cells": [
  {
   "cell_type": "markdown",
   "id": "bfacea6d",
   "metadata": {},
   "source": [
    "# Week 1 Lab 4 - Essential Python Libraries for AI (NumPy & Pandas)"
   ]
  },
  {
   "cell_type": "markdown",
   "id": "539c43d4",
   "metadata": {},
   "source": [
    "# Numpy\n",
    "\n",
    "NumPy is the most foundational package for numerical computing in Python.\n",
    "\n",
    "If you are going to work on data analysis or machine learning projects, then having a solid understanding of NumPy is nearly mandatory.\n",
    "\n",
    "Indeed, many other libraries, such as pandas and scikit-learn, use NumPy’s array objects as the lingua franca for data exchange.\n",
    "\n",
    "One of the reasons as to why NumPy is so important for numerical computations is because it is designed to work efficiently with large arrays of data in a number of ways, including:\n",
    "\n",
    "1. Storing data internally in a continuous block of memory, independent of other in-built Python objects.\n",
    "2. Performing complex computations on entire arrays without the need for for loops.\n",
    "\n",
    "### What you’ll find in NumPy\n",
    "\n",
    "- **ndarray**: an efficient multidimensional array providing fast array-orientated arithmetic operations and flexible broadcasting capabilities.\n",
    "\n",
    "- Mathematical functions for fast operations on entire arrays of data without having to write loops.\n",
    "\n",
    "- Tools for reading/writing array data to disk and working with memory-mapped files.\n",
    "\n",
    "- Linear algebra, random number generation, and Fourier transform capabilities.\n",
    "\n",
    "- A C API for connecting NumPy with libraries written in C, C++, and FORTRAN. This is why Python is the language of choice for wrapping legacy codebases.\n",
    "\n",
    "### Importing NumPy\n",
    "\n",
    "We first need to import NumPy into our working environment, which we do using the import funtion.\n",
    "\n",
    "You'll also notice that we add \"as np\" afterwards. This \"as np\" allows us to type \"np\" when we call a NumPy function instead of \"numpy\"; i.e. **np.array** instead of **numpy.array**.  In principle, you could use anything as the shorthand, i.e. \"import numpy as nump\", but \"np\" is the standard convention."
   ]
  },
  {
   "cell_type": "code",
   "execution_count": null,
   "id": "a9927a2e",
   "metadata": {},
   "outputs": [],
   "source": [
    "import numpy as np"
   ]
  },
  {
   "cell_type": "markdown",
   "id": "4ca3c4b5",
   "metadata": {},
   "source": [
    "### The NumPy ndarray: A multi-dimensional array object\n",
    "\n",
    "The NumPy ndarray object is a fast and flexible container for large data sets in Python. They are a bit like Python lists, but are still a very different beast at the same time. \n",
    "\n",
    "### Ndarray vs. lists\n",
    "\n",
    "By now, you are familiar with Python lists and how incredibly useful they are.\n",
    "\n",
    "So, you may be asking yourself:\n",
    "\n",
    "> \"I can store numbers and other objects in a Python list and do all sorts of computations and manipulations through list comprehensions, for-loops etc. What do I need a NumPy array for?\"\n",
    "\n",
    "There are some very significant advantages of using NumPy arrays overs lists when working with numerical data.\n",
    "\n",
    "### Creating a NumPy array\n",
    "\n",
    "To understand these advantages, lets create an array.\n",
    "\n",
    "One of the most common, of the many, ways to create a NumPy array is to create one from a list by passing it to the np.array() function."
   ]
  },
  {
   "cell_type": "code",
   "execution_count": null,
   "id": "812be440",
   "metadata": {},
   "outputs": [],
   "source": [
    "list1 = [0,1,2,3,4]\n",
    "arr = np.array(list1)\n",
    "print(type(arr))\n",
    "print(arr)"
   ]
  },
  {
   "cell_type": "markdown",
   "id": "c1039ae3",
   "metadata": {},
   "source": [
    "### Differences between lists and ndarrays\n",
    "\n",
    "The key difference between an array and a list is that arrays are designed to handle vectorised operations while a python lists are not.\n",
    "\n",
    "It should be noted here that, once a Numpy array is created, you cannot increase its size. To do so, you will have to create a new array. \n",
    "\n",
    "That means, if you apply a function, it is performed on every item in the array, rather than on the whole array object.\n",
    "\n",
    "For example:"
   ]
  },
  {
   "cell_type": "code",
   "execution_count": null,
   "id": "ba5ecf73",
   "metadata": {},
   "outputs": [],
   "source": [
    "list1 = [0,1,2,3,4]\n",
    "arr = np.array(list1)\n",
    "print(\"The array: \", arr)\n",
    "arr = arr+2\n",
    "print(\"The array again: \", arr)"
   ]
  },
  {
   "cell_type": "markdown",
   "id": "7e9e05cc",
   "metadata": {},
   "source": [
    "### Create a 2D array from a list of list\n",
    "\n",
    "You can convert a list of lists into a 2D array through the use of the np.array() function. When doing so, NumPy treats each of the sub-lists as a row in the output array, meaning that the first elements in each sub-list, for example, will form the first column."
   ]
  },
  {
   "cell_type": "code",
   "execution_count": null,
   "id": "c3891be1",
   "metadata": {},
   "outputs": [],
   "source": [
    "list2 = [[0,1,2], [3,4,5,], [6,7,8]]\n",
    "print(\"List2: \", list2)\n",
    "arr2 = np.array(list2)\n",
    "print(\"Array2: \", arr2)"
   ]
  },
  {
   "cell_type": "markdown",
   "id": "5fc5536c",
   "metadata": {},
   "source": [
    "### The dtype argument\n",
    "\n",
    "You can specify the data type of an array, whether the elements in the array are integers, floats, etc, by using the dtype()."
   ]
  },
  {
   "cell_type": "code",
   "execution_count": null,
   "id": "8e5a0aa6",
   "metadata": {},
   "outputs": [],
   "source": [
    "list2 = [[0,1,2], [3,4,5,], [6,7,8]]\n",
    "print(\"List2: \", list2)\n",
    "arr3 = np.array(list2, dtype=\"float\")\n",
    "print(\"Array3: \", arr3)"
   ]
  },
  {
   "cell_type": "markdown",
   "id": "b52b6960",
   "metadata": {},
   "source": [
    "### The astype argument\n",
    "\n",
    "You can also convert a pre-existing array with elements of one particular type to an array with elements of a different type using the .astype() argument."
   ]
  },
  {
   "cell_type": "code",
   "execution_count": null,
   "id": "16811b2a",
   "metadata": {},
   "outputs": [],
   "source": [
    "print(\"Array3: \", arr3)\n",
    "arr3_int = arr3.astype('int')\n",
    "print(arr3_int)"
   ]
  },
  {
   "cell_type": "markdown",
   "id": "f1d95a30",
   "metadata": {},
   "source": [
    "### dtype='object'\n",
    "\n",
    "You can force NumPy to create an array with elements of different types by creating a list that contains your elements then feeding that into the np.array() function using the dtype='object' argument."
   ]
  },
  {
   "cell_type": "code",
   "execution_count": null,
   "id": "b1cb9683",
   "metadata": {},
   "outputs": [],
   "source": [
    "arr_obj = np.array([1, 'a'], dtype='object')\n",
    "print(arr_obj)"
   ]
  },
  {
   "cell_type": "markdown",
   "id": "63d33743",
   "metadata": {},
   "source": [
    "However, it is strongly advised that you do NOT do this. Hence, this technically being a \"work around\". You should not have an array of different types because doing so will eventually cause you issues in your programme when it comes to carrying out calculations.\n",
    "\n",
    "### The tolist() function\n",
    "\n",
    "Alternatively, you could convert your array into a list with the .tolist() argument."
   ]
  },
  {
   "cell_type": "code",
   "execution_count": null,
   "id": "dc373aba",
   "metadata": {},
   "outputs": [],
   "source": [
    "arr_list = arr_obj.tolist()\n",
    "print(arr_list)"
   ]
  },
  {
   "cell_type": "markdown",
   "id": "12c31d0c",
   "metadata": {},
   "source": [
    "### Inspecting a NumPy array\n",
    "\n",
    "There are a range of functions built into NumPy that allow you to inspect different aspects of an array."
   ]
  },
  {
   "cell_type": "code",
   "execution_count": null,
   "id": "1f9ea239",
   "metadata": {},
   "outputs": [],
   "source": [
    "list2 = [[0,1,2], [3,4,5], [6,7,8]]\n",
    "arr3 = np.array(list2, dtype='float')\n",
    "#We can view the shape of the array with .shape. Here, we see it has 3 rows and 3 columns.\n",
    "print(\"Shape: \", arr3.shape)\n",
    "#We can use .dtype to tell us the type of the elements.\n",
    "print(\"Type of elements: \", arr3.dtype)\n",
    "#We can get the size with .size. Here is is 9 (3 rows * 3 colums)\n",
    "print(\"Size: \", arr3.size)\n",
    "#We get the number of dimensions of an array with ndim.\n",
    "print(\"Dimensions: \", arr3.ndim)"
   ]
  },
  {
   "cell_type": "markdown",
   "id": "e927db20",
   "metadata": {},
   "source": [
    "### Extracting specific items from an array\n",
    "\n",
    "You can extract certain elements of an array using indices, much like when you’re working with lists. Unlike lists, however, arrays can optionally accept as many parameters in the square brackets as there are number of dimensions."
   ]
  },
  {
   "cell_type": "code",
   "execution_count": null,
   "id": "98cf4c97",
   "metadata": {},
   "outputs": [],
   "source": [
    "print(\"Whole array: \", arr3)\n",
    "print(\"First two elements of the first two rows: \", arr3[:2, :2])"
   ]
  },
  {
   "cell_type": "markdown",
   "id": "be64914d",
   "metadata": {},
   "source": [
    "### Boolean indexing\n",
    "\n",
    "A boolean index array is of the same shape as the filtered array, but it only contains TRUE and FALSE values; where these True or False values are dependent upon the corresponding element fulfilling a certain criteria."
   ]
  },
  {
   "cell_type": "code",
   "execution_count": null,
   "id": "ffb4b7a8",
   "metadata": {},
   "outputs": [],
   "source": [
    "arr_bool = arr3>2\n",
    "print(arr_bool)"
   ]
  },
  {
   "cell_type": "markdown",
   "id": "f2706e0b",
   "metadata": {},
   "source": [
    "# Pandas\n",
    "\n",
    "- Pandas, like NumPy, is one of the most popular Python libraries for data analysis.\n",
    "- It is a high-level abstraction over low-level NumPy, which is written in pure C.\n",
    "- The main benefit of Pandas is that it provides high-performance, easy-to-use, data structures and data analysis tools.\n",
    "- There are two main data structures in Pandas: dataframes and series.\n",
    "\n",
    "When importing pandas, its conventional to import it \"as pd\", much like the \"as np\" when we import NumPy."
   ]
  },
  {
   "cell_type": "code",
   "execution_count": null,
   "id": "6cb2e43e",
   "metadata": {},
   "outputs": [],
   "source": [
    "import pandas as pd"
   ]
  },
  {
   "cell_type": "markdown",
   "id": "acb89f97",
   "metadata": {},
   "source": [
    "#### Pandas Series\n",
    "\n",
    "A pandas series is similar to a list, but differs in the fact that a series associates a label with each element, forming an index. If an index is not explicitly provided by the user, pandas creates a RangeIndex ranging from 0 to N-1; where N is the number of elements in your series."
   ]
  },
  {
   "cell_type": "code",
   "execution_count": null,
   "id": "6aca0dff",
   "metadata": {},
   "outputs": [],
   "source": [
    "#First, let's convert a list of integers into a Series.\n",
    "list1 = [5, 6, 7, 8, 9, 10]\n",
    "new_series = pd.Series(list1)\n",
    "#We'll see here that Pandas has auto-created an index of 0-5 for the Series.\n",
    "print(new_series)"
   ]
  },
  {
   "cell_type": "markdown",
   "id": "43f9d14a",
   "metadata": {},
   "source": [
    "### Indices in Series\n",
    "\n",
    "As you may suspect by this point, a series has ways to extract all of the values in the series, as well as individual elements by index. If you didn't specify an index, and instead allowed Pandas to autocreate one, then you can use indexing in exactly the same way as you would with a list:"
   ]
  },
  {
   "cell_type": "code",
   "execution_count": null,
   "id": "f9efd8a6",
   "metadata": {},
   "outputs": [],
   "source": [
    "print(new_series[4])"
   ]
  },
  {
   "cell_type": "markdown",
   "id": "5676251b",
   "metadata": {},
   "source": [
    "However, if you used the index=[] argument when you created your index, then you can use your custom index in order to access a specific element. You can even use strings as indices in Pandas data structures."
   ]
  },
  {
   "cell_type": "code",
   "execution_count": null,
   "id": "ad8e08e0",
   "metadata": {},
   "outputs": [],
   "source": [
    "new_series = pd.Series(list1, index=['a','b','c', 'd', 'e', 'f'])\n",
    "print(new_series['c'])"
   ]
  },
  {
   "cell_type": "markdown",
   "id": "4bf831c5",
   "metadata": {},
   "source": [
    "You can retrieve several elements simultaneously by feeding index values in as a list."
   ]
  },
  {
   "cell_type": "code",
   "execution_count": null,
   "id": "6d6218ee",
   "metadata": {},
   "outputs": [],
   "source": [
    "print(new_series[['a', 'd', 'f']])"
   ]
  },
  {
   "cell_type": "markdown",
   "id": "1bb3ea0a",
   "metadata": {},
   "source": [
    "You can also use indexing to alter the value of an element(s)."
   ]
  },
  {
   "cell_type": "code",
   "execution_count": null,
   "id": "833daefb",
   "metadata": {},
   "outputs": [],
   "source": [
    "new_series[['b', 'd']] = 0\n",
    "print(new_series)"
   ]
  },
  {
   "cell_type": "markdown",
   "id": "5e1ff129",
   "metadata": {},
   "source": [
    "### Filtering and maths operations\n",
    "\n",
    "Filtering and maths operations are easy with Pandas as well. To do this, you specify the variable name of the series, and then in the proceeding [], you write the series name again, followed by the conditonal statement."
   ]
  },
  {
   "cell_type": "code",
   "execution_count": null,
   "id": "a58351f1",
   "metadata": {},
   "outputs": [],
   "source": [
    "#print all elements in the series that have a value greater than 2:\n",
    "print(new_series[new_series>2])\n",
    "print(\"_______\")\n",
    "#Print all elements with a value greater than two and multiply each of these values by 2.\n",
    "print(new_series[new_series>2]*2)"
   ]
  },
  {
   "attachments": {
    "image.png": {
     "image/png": "[encoded data removed]"
    }
   },
   "cell_type": "markdown",
   "id": "f8151449",
   "metadata": {},
   "source": [
    "### Pandas dataframe\n",
    "\n",
    "The dataframe object, often abbreviated to df, is the data structure that makes Pandas such a powerful and useful package, particularly for data analysts.\n",
    "\n",
    "Simplistically, you can think of it as a table. Where the columns are variables and the rows are observations. For example:\n",
    "\n",
    "![image.png](attachment:image.png)\n",
    "\n",
    "### Creating a Pandas dataframe\n",
    "\n",
    "In order to create a new Pandas dataframe, let's first create a dictionary."
   ]
  },
  {
   "cell_type": "code",
   "execution_count": null,
   "id": "87a84ee2",
   "metadata": {},
   "outputs": [],
   "source": [
    "country_dict = {'Country': ['Kazakhstan', 'Russia', 'Belarus', 'Ukraine'],\n",
    "                   'Population': [17.04, 143.5, 9.5, 45.5],\n",
    "                   'Square_km': [2724902, 17125191, 207600, 603628]}\n",
    "print(type(country_dict))\n",
    "print(country_dict)"
   ]
  },
  {
   "cell_type": "markdown",
   "id": "8b97a833",
   "metadata": {},
   "source": [
    "Now, lets convert our dictionary into a Pandas dataframe. To do this, we feed our dictionary into Pandas' DataFrame() method."
   ]
  },
  {
   "cell_type": "code",
   "execution_count": null,
   "id": "3e33dccf",
   "metadata": {},
   "outputs": [],
   "source": [
    "df = pd.DataFrame(country_dict)\n",
    "print(df)"
   ]
  },
  {
   "cell_type": "markdown",
   "id": "21d961fb",
   "metadata": {},
   "source": [
    "Note: When you create a dataframe from a dictionary, Pandas will get the column (variable) names for your dataframe from the dictionary's keys.\n",
    "    \n",
    "You can also create a dataframe from a list of lists. When you do so, however, you need to use the columns=[] argument in order to specify the names of your columns."
   ]
  },
  {
   "cell_type": "code",
   "execution_count": null,
   "id": "25afbd64",
   "metadata": {},
   "outputs": [],
   "source": [
    "list1 = [[0,1,2], [3, 4, 5], [6, 7, 8]]\n",
    "df2 = pd.DataFrame(list2, columns = ['V1', 'V2', 'V3'])\n",
    "print(df2)"
   ]
  },
  {
   "cell_type": "markdown",
   "id": "54baf8b2",
   "metadata": {},
   "source": [
    "### Dataframe variables\n",
    "\n",
    "Note: That all columns in a Pandas dataframe are of series type:"
   ]
  },
  {
   "cell_type": "code",
   "execution_count": null,
   "id": "3bea00f4",
   "metadata": {},
   "outputs": [],
   "source": [
    "print(type(df['Country']))"
   ]
  },
  {
   "cell_type": "markdown",
   "id": "a887da9f",
   "metadata": {},
   "source": [
    "### Indexing in a dataframe\n",
    "\n",
    "A Pandas dataframe object as two indices; a column index and row index.\n",
    "\n",
    "As with the series object, if you do not provide one, Pandas will create a RangeIndex from 0 to N-1.\n",
    "\n",
    "You can address a single column (variable) of your dataframe by using similar indexing methods to that which we used in order to get values from a series using string indexing."
   ]
  },
  {
   "cell_type": "code",
   "execution_count": null,
   "id": "c69813f6",
   "metadata": {},
   "outputs": [],
   "source": [
    "print(df['Country'])"
   ]
  },
  {
   "cell_type": "markdown",
   "id": "206d59e3",
   "metadata": {},
   "source": [
    "There are numerous ways to provide row indices explicitly. For example, you could provide an index when creating a dataframe. Here, we are going to use strings for indexing."
   ]
  },
  {
   "cell_type": "code",
   "execution_count": null,
   "id": "90e7d86b",
   "metadata": {},
   "outputs": [],
   "source": [
    "df = pd.DataFrame(country_dict, index=['KZ', 'RU', 'By', 'UA'])\n",
    "print(df)"
   ]
  },
  {
   "cell_type": "markdown",
   "id": "fef3bcd1",
   "metadata": {},
   "source": [
    "Alternatively you can do it during runtime. Here, we are going to actually name the index column 'country code'."
   ]
  },
  {
   "cell_type": "code",
   "execution_count": null,
   "id": "c6bb888c",
   "metadata": {},
   "outputs": [],
   "source": [
    "df = pd.DataFrame(country_dict)\n",
    "df.index = ['KZ', 'RU', 'By', 'UA']\n",
    "df.index.name = \"Country_code\"\n",
    "print(df)"
   ]
  },
  {
   "cell_type": "markdown",
   "id": "dde058ff",
   "metadata": {},
   "source": [
    "Row access using index can be performed in several ways. If you're using string indexing, you can use the **.loc()** method:"
   ]
  },
  {
   "cell_type": "code",
   "execution_count": null,
   "id": "5d62bfcc",
   "metadata": {},
   "outputs": [],
   "source": [
    "print(df.loc['KZ'])"
   ]
  },
  {
   "cell_type": "markdown",
   "id": "9af372dd",
   "metadata": {},
   "source": [
    "If you're using numerical indexing, you can use **.iloc()**"
   ]
  },
  {
   "cell_type": "code",
   "execution_count": null,
   "id": "eb612c34",
   "metadata": {},
   "outputs": [],
   "source": [
    "print(df.iloc[1])"
   ]
  },
  {
   "cell_type": "markdown",
   "id": "7c975fb3",
   "metadata": {},
   "source": [
    "Note: If you specify a string index, you can still use numerical indexing; one does not replace the other.\n",
    "    \n",
    "You can equally use both types of indexing simultaneously in order to get a specific cell from a particular column."
   ]
  },
  {
   "cell_type": "code",
   "execution_count": null,
   "id": "fed1a925",
   "metadata": {},
   "outputs": [],
   "source": [
    "print(df['Country'].iloc[1])"
   ]
  },
  {
   "cell_type": "markdown",
   "id": "751e58fa",
   "metadata": {},
   "source": [
    "A selection of particular rows and columns can be selected in the following way. The first argument in the indexing brackets is the indexing for the rows and the second is the columns. Here, we are going to provide a list of indices for the rows so that we can get two rows."
   ]
  },
  {
   "cell_type": "code",
   "execution_count": null,
   "id": "f3014d48",
   "metadata": {},
   "outputs": [],
   "source": [
    "print(df.loc[['KZ', 'RU'], 'Population'])"
   ]
  },
  {
   "cell_type": "markdown",
   "id": "8dd98614",
   "metadata": {},
   "source": [
    "You can also use slicing, like we did with lists in the previous sessions."
   ]
  },
  {
   "cell_type": "code",
   "execution_count": null,
   "id": "34a282cb",
   "metadata": {},
   "outputs": [],
   "source": [
    "print(df.loc[['KZ', 'RU'], :'Population'])"
   ]
  },
  {
   "cell_type": "markdown",
   "id": "e2f76b63",
   "metadata": {},
   "source": [
    "### Filtering\n",
    "\n",
    "We can also filter a dataframe using Boolean arrays. For example, we want to get the values for the Country and Square_km variables where the population value is above 18."
   ]
  },
  {
   "cell_type": "code",
   "execution_count": null,
   "id": "85d6d05f",
   "metadata": {},
   "outputs": [],
   "source": [
    "print(df[df['Population'] > 18][['Country', 'Square_km']])"
   ]
  },
  {
   "cell_type": "markdown",
   "id": "ac173112",
   "metadata": {},
   "source": [
    "### Deleting columns\n",
    "\n",
    "You can delete a column using the **.drop()** function. The axis argument states whether you want to drop labels from the rows (0 or ‘index’) or columns (1 or ‘columns’)."
   ]
  },
  {
   "cell_type": "code",
   "execution_count": null,
   "id": "2011f828",
   "metadata": {},
   "outputs": [],
   "source": [
    "df = df.drop(['Population'], axis='columns')\n",
    "print(df)"
   ]
  },
  {
   "cell_type": "markdown",
   "id": "11a91431",
   "metadata": {},
   "source": [
    "### Reading data from a file and converting it into a Pandas dataframe\n",
    "\n",
    "As a computational social scientist/social data scientist, you will often have data you want to work with stored in in a file.\n",
    "\n",
    "These data files could be any one one of several different file types, and Pandas supports most of them; including CSV, XML, HTML, Excel, SQL, JSON. It even has functionality to import SPSS data files.\n",
    "\n",
    "Pandas has an incredibly useful method that is used to import a data file and automatically convert it into a Pandas dataframe.\n",
    "\n",
    "Lets say we're working with a .csv file (comma-separated values file), we can use the Pandas **read_csv()** method to import our data file and automatically convert it into a Pandas dataframe.\n",
    "\n",
    "Using the .read_csv function, you can read data in directly from a csv file into a Pandas dataframe.\n",
    "\n",
    "If you are working with another file type (i.e. SQL, Excel, etc), in-depth details of other versions of the **read_** method that correspond to these other variable types can be found [here](https://pandas.pydata.org/docs/reference/io.html). For the time being, the basic input/output methods for Pandas are:\n",
    "\n",
    "| Data file type | Reader | Writer |\n",
    "| --- | --- | ---|\n",
    "| csv | .read_csv() | .to_csv() |\n",
    "| json | .read_json() | .to_json() |\n",
    "| Microsoft Excel and OpenDocument (ODF) | .read_excel() | .to_excel() |\n",
    "| Stata | .read_stata() | .to_stata() |\n",
    "| SAS | .read_sas() | N/A |\n",
    "| SPSS | .read_spss() | N/A |\n",
    "\n",
    "We'll be using some of these other **read_** methods in future sessions of the course.\n",
    "\n",
    "The **read_csv()** method takes two main arguments. The first is the filename as a string. If your file is **NOT** in the current working directory, then the string containing your filepath also has to include the absolute file path to the directory where the file is stored. It is also important to end this string with the type of file you are importing; in this case, a .csv file. \n",
    "\n",
    "The second argument is **header** and tells Pandas which column countains the column headers for our file. Pandas has in-built aalgorithms that are pretty good at determining this automatically, but it is good practice to state it explicityly nonetheless.\n",
    "\n",
    "There are other optional arguments we can feed in, depending on the nature of our data file. Full details of these arguments can be founf [here](https://pandas.pydata.org/docs/reference/io.html). We'll look at some of these optional arguments as we progress through the course.\n",
    "\n",
    "Below is an example import statement using the **read_csv()** method. We assign our dataframe to the variable name \"df\", which is a very common shorthand for \"dataframe\" that you will see regularly in example code."
   ]
  },
  {
   "cell_type": "code",
   "execution_count": null,
   "id": "983492d8",
   "metadata": {},
   "outputs": [],
   "source": [
    "df = pd.read_csv('Username/filepath/filename.csv', header=0)"
   ]
  },
  {
   "cell_type": "markdown",
   "id": "0e404aea",
   "metadata": {},
   "source": [
    "Once your data is loaded into your Python script as a Pandas dataframe, you can then do your data cleaning, analysis, graphing and the like; the subjects of future sessions on this course.\n",
    "\n",
    "Before you do any of that, however, it is good practice to first explore your data set so that you understand the nature of the data you are working with. Pandas has a number of in-built functions for this.\n",
    "\n",
    "One of the most useul is the **list()** method, which returns a list of the variable (column) names. To use this method, you feed the **list()** method one argument; the name of your dataframe. Then, you enclose the **list()** method within a **print()** statement:"
   ]
  },
  {
   "cell_type": "code",
   "execution_count": null,
   "id": "517cfe6d",
   "metadata": {},
   "outputs": [],
   "source": [
    "print(list(df))"
   ]
  },
  {
   "cell_type": "markdown",
   "id": "7a2f9a16",
   "metadata": {},
   "source": [
    "Another useful method for understanding your data set is the **.head()** method, which prints the top 5 rows of data."
   ]
  },
  {
   "cell_type": "code",
   "execution_count": null,
   "id": "30388066",
   "metadata": {},
   "outputs": [],
   "source": [
    "print(df.head())"
   ]
  },
  {
   "cell_type": "markdown",
   "id": "340e93c5",
   "metadata": {},
   "source": [
    "If you want the **.head()** method to print more or fewer than the top 5 rows of data, feed the number you want in as an argument.=:"
   ]
  },
  {
   "cell_type": "code",
   "execution_count": null,
   "id": "dd0ab3ba",
   "metadata": {},
   "outputs": [],
   "source": [
    "print(df.head(25))"
   ]
  },
  {
   "cell_type": "markdown",
   "id": "6e78ba08",
   "metadata": {},
   "source": [
    "### Save a Pandas dataframe to file\n",
    "Once you're done with these operations, if you have made any changes to your dataframe and wish to save the amended dataframe as a .csv file, you can do so with the **.to_csv()**. This only requires one argument, a string that contains the name of the file followed by \".csv\". Again, if you want to save the file to a folder that is not your current working directory, you will have to include the absolute filepath in your string:"
   ]
  },
  {
   "cell_type": "code",
   "execution_count": null,
   "id": "d73e26f9",
   "metadata": {},
   "outputs": [],
   "source": [
    "df.to_csv('path/to/directory/filename.csv')"
   ]
  }
 ],
 "metadata": {
  "kernelspec": {
   "display_name": "Python 3 (ipykernel)",
   "language": "python",
   "name": "python3"
  },
  "language_info": {
   "codemirror_mode": {
    "name": "ipython",
    "version": 3
   },
   "file_extension": ".py",
   "mimetype": "text/x-python",
   "name": "python",
   "nbconvert_exporter": "python",
   "pygments_lexer": "ipython3",
   "version": "3.11.5"
  }
 },
 "nbformat": 4,
 "nbformat_minor": 5
}
