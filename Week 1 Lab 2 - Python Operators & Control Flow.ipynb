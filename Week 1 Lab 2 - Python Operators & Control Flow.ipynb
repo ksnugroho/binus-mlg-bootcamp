{
  "cells": [
    {
      "cell_type": "markdown",
      "metadata": {
        "id": "UCrS2qgtaIOr"
      },
      "source": [
        "# Week 1 Lab 2 - Python Operators & Control Flow"
      ]
    },
    {
      "cell_type": "markdown",
      "metadata": {},
      "source": [
        "# A. Print() Function\n",
        "\n",
        "Fungsi print() mencetak pesan yang ditentukan ke layar, atau perangkat keluaran standar lainnya.\n",
        "\n",
        "Pesan dapat berupa string, atau objek lain, objek tersebut akan diubah menjadi string sebelum ditulis ke layar."
      ]
    },
    {
      "cell_type": "code",
      "execution_count": null,
      "metadata": {
        "id": "a1miheVYaqIF"
      },
      "outputs": [],
      "source": [
        "print()"
      ]
    },
    {
      "cell_type": "code",
      "execution_count": null,
      "metadata": {
        "id": "Xx8Vk--kakZb"
      },
      "outputs": [],
      "source": [
        "print(35)"
      ]
    },
    {
      "cell_type": "code",
      "execution_count": null,
      "metadata": {
        "id": "5Ncx80YPahly"
      },
      "outputs": [],
      "source": [
        "print('Hello World')"
      ]
    },
    {
      "cell_type": "code",
      "execution_count": null,
      "metadata": {
        "id": "cSrm-ql4a6Bf"
      },
      "outputs": [],
      "source": [
        "print('line1\\nline2\\tline3')"
      ]
    },
    {
      "cell_type": "code",
      "execution_count": null,
      "metadata": {
        "id": "Z2I1fCRQbrbP"
      },
      "outputs": [],
      "source": [
        "print('Hello', 'how are you?', sep='---')"
      ]
    },
    {
      "cell_type": "code",
      "execution_count": null,
      "metadata": {
        "id": "4lRYpzGTbDJ5"
      },
      "outputs": [],
      "source": [
        "print('Checking file integrity', end='...')\n",
        "print('ok')"
      ]
    },
    {
      "cell_type": "code",
      "execution_count": null,
      "metadata": {
        "id": "Cnxo3opGb7QR"
      },
      "outputs": [],
      "source": [
        "a = 1\n",
        "print('Hello world! ', a)"
      ]
    },
    {
      "cell_type": "code",
      "execution_count": null,
      "metadata": {
        "id": "fpGSV-occCZY"
      },
      "outputs": [],
      "source": [
        "print('hello world! {}'.format(a))"
      ]
    },
    {
      "cell_type": "code",
      "execution_count": null,
      "metadata": {
        "id": "GATec3lwb9VM"
      },
      "outputs": [],
      "source": [
        "print(f'Hello world! {a}')"
      ]
    },
    {
      "cell_type": "code",
      "execution_count": null,
      "metadata": {
        "id": "KA0f_b4IcQ1_"
      },
      "outputs": [],
      "source": [
        "print(\"Hello world! %x\" % a)"
      ]
    },
    {
      "cell_type": "markdown",
      "metadata": {
        "id": "xHkjZffKzqst"
      },
      "source": [
        "# B. Python Operators"
      ]
    },
    {
      "cell_type": "markdown",
      "metadata": {
        "id": "JlBsj8O7ztqx"
      },
      "source": [
        "## 01 Operator Aritmatika (Arithmetic Operators)\n",
        "Melakukan operasi matematika."
      ]
    },
    {
      "cell_type": "code",
      "execution_count": null,
      "metadata": {
        "id": "e87MxIanzsrw"
      },
      "outputs": [],
      "source": [
        "x = 15\n",
        "y = 4\n",
        "\n",
        "print(f'x + y = {x+y}')     # Penjumlahan\n",
        "print(f'x - y = {x-y}')     # Pengurangan\n",
        "print(f'x * y = {x*y}')     # Perkalian\n",
        "print(f'x / y = {x/y}')     # Pembagian\n",
        "print(f'x % y = {x%y}')     # Modulus (sisa hasil bagi)\n",
        "print(f'x // y = {x//y}')   # Pembagian bulat\n",
        "print(f'x ** y = {x**y}')   # Pangkat"
      ]
    },
    {
      "cell_type": "code",
      "execution_count": null,
      "metadata": {
        "id": "wXtlmS9c9Wg5"
      },
      "outputs": [],
      "source": [
        "a = -(x)\n",
        "print(a)"
      ]
    },
    {
      "cell_type": "code",
      "execution_count": null,
      "metadata": {
        "id": "Gm-z7yEW0Vae"
      },
      "outputs": [],
      "source": [
        "print(-(y))"
      ]
    },
    {
      "cell_type": "markdown",
      "metadata": {
        "id": "4K1-g_OENoFx"
      },
      "source": [
        "### Fungsi str(), int(), and float()"
      ]
    },
    {
      "cell_type": "code",
      "execution_count": null,
      "metadata": {
        "id": "xePH-sO3N_V3"
      },
      "outputs": [],
      "source": [
        "x = str(27)\n",
        "print(x)"
      ]
    },
    {
      "cell_type": "code",
      "execution_count": null,
      "metadata": {
        "id": "nLX6DCWdOCAW"
      },
      "outputs": [],
      "source": [
        "type(x)"
      ]
    },
    {
      "cell_type": "code",
      "execution_count": null,
      "metadata": {
        "id": "KSdGBfmoOLBs"
      },
      "outputs": [],
      "source": [
        "print('I am {} years old.'.format(str(27)))"
      ]
    },
    {
      "cell_type": "code",
      "execution_count": null,
      "metadata": {
        "id": "5c0HZZSyPAh9"
      },
      "outputs": [],
      "source": [
        "x = int(7.7)"
      ]
    },
    {
      "cell_type": "code",
      "execution_count": null,
      "metadata": {
        "id": "udmP4e6lPKvB"
      },
      "outputs": [],
      "source": [
        "type(x)"
      ]
    },
    {
      "cell_type": "code",
      "execution_count": null,
      "metadata": {
        "id": "qrZcAukbPMe8"
      },
      "outputs": [],
      "source": [
        "y = int(7.7) + 1\n",
        "print(y)"
      ]
    },
    {
      "cell_type": "code",
      "execution_count": null,
      "metadata": {
        "id": "sXdTGw_BR9LT"
      },
      "outputs": [],
      "source": [
        "float(5)"
      ]
    },
    {
      "cell_type": "markdown",
      "metadata": {
        "id": "4l3wh2Re98y6"
      },
      "source": [
        "## 02 Operator Perbandingan (Comparison Operators)\n",
        "Membandingkan suatu nilai. Mengembalikan `True` atau `False` sesuai dengan kondisinya."
      ]
    },
    {
      "cell_type": "code",
      "execution_count": null,
      "metadata": {
        "id": "SZXhVQ9u9-f_"
      },
      "outputs": [],
      "source": [
        "x = 10\n",
        "y = 12\n",
        "\n",
        "print(f'x > y is {x>y}')      # Lebih besar\n",
        "print(f'x < y is {x<y}')      # Lebih kecil\n",
        "print(f'x == y is {x==y}')    # Sama dengan\n",
        "print(f'x != y is {x!=y}')    # Tidak sama dengan\n",
        "print(f'x >= y is {x>=y}')    # Lebih besar atau sama dengan\n",
        "print(f'x <= y is {x<=y}')    # Lebih kecil atau sama dengan"
      ]
    },
    {
      "cell_type": "markdown",
      "metadata": {
        "id": "LbaYt9oOLlWO"
      },
      "source": [
        "Bagaimana dengan string?"
      ]
    },
    {
      "cell_type": "code",
      "execution_count": null,
      "metadata": {
        "id": "9XUJmcaGLt9m"
      },
      "outputs": [],
      "source": [
        "42 == '42'"
      ]
    },
    {
      "cell_type": "code",
      "execution_count": null,
      "metadata": {
        "id": "SmFyH1t2LiId"
      },
      "outputs": [],
      "source": [
        "'hello' == 'Hello'"
      ]
    },
    {
      "cell_type": "code",
      "execution_count": null,
      "metadata": {
        "id": "iYYtQARgLqak"
      },
      "outputs": [],
      "source": [
        "'dog' != 'cat'"
      ]
    },
    {
      "cell_type": "code",
      "execution_count": null,
      "metadata": {
        "id": "HdFyOc51STbw"
      },
      "outputs": [],
      "source": [
        "'dog' >= 'dog'"
      ]
    },
    {
      "cell_type": "markdown",
      "metadata": {
        "id": "G8Mv8zhCHUNG"
      },
      "source": [
        "## 03 Operator Logika (Logical Operators)"
      ]
    },
    {
      "cell_type": "code",
      "execution_count": null,
      "metadata": {
        "id": "GU5ZDKIdFnp2"
      },
      "outputs": [],
      "source": [
        "x = True\n",
        "y = False\n",
        "\n",
        "print(f'x and y is {x and y}') # True jika kedua operan benar\n",
        "print(f'x or y is {x or y}')   # True jika salah satu operan benar\n",
        "print(f'not x is {not x}')     # True jika operan salah "
      ]
    },
    {
      "cell_type": "markdown",
      "metadata": {
        "id": "J1kx6UyOTF9v"
      },
      "source": [
        "### Menggabungkan Operator logika dan perbandingan"
      ]
    },
    {
      "cell_type": "code",
      "execution_count": null,
      "metadata": {
        "id": "y8n5cTB0MjCX"
      },
      "outputs": [],
      "source": [
        "(4 < 5) and (5 < 6)"
      ]
    },
    {
      "cell_type": "code",
      "execution_count": null,
      "metadata": {
        "id": "KtMRsfJAS_Rn"
      },
      "outputs": [],
      "source": [
        "(4 < 5) and (9 < 6)"
      ]
    },
    {
      "cell_type": "code",
      "execution_count": null,
      "metadata": {
        "id": "hmdfRBwfTCE_"
      },
      "outputs": [],
      "source": [
        "(1 == 2) or (2 == 2)"
      ]
    },
    {
      "cell_type": "markdown",
      "metadata": {
        "id": "tBvM5vibJuB_"
      },
      "source": [
        "## 04 Operator Penugasan (Assignment Operators)\n",
        "Memberikan nilai ke variabel"
      ]
    },
    {
      "cell_type": "code",
      "execution_count": null,
      "metadata": {
        "id": "to8Aod-8JJCj"
      },
      "outputs": [],
      "source": [
        "x = 5"
      ]
    },
    {
      "cell_type": "code",
      "execution_count": null,
      "metadata": {
        "id": "KEaBnlKaKDRK"
      },
      "outputs": [],
      "source": [
        "x += 3    # Setara dengan x = x + 3\n",
        "print(x)"
      ]
    },
    {
      "cell_type": "markdown",
      "metadata": {
        "id": "SrmLEE6AKtCv"
      },
      "source": [
        "## 05 Operator Identitas (Identity Operators)\n",
        "Memeriksa apakah dua nilai (atau variabel). Jangan pernah menggunakan operator `==` atau `!=` untuk mengevaluasi operasi boolean. Gunakan operator `is` atau `is not`."
      ]
    },
    {
      "cell_type": "code",
      "execution_count": null,
      "metadata": {
        "id": "JbjYk7ljM6Nv"
      },
      "outputs": [],
      "source": [
        "True is True"
      ]
    },
    {
      "cell_type": "code",
      "execution_count": null,
      "metadata": {
        "id": "qCwahGbeM8th"
      },
      "outputs": [],
      "source": [
        "True is not False"
      ]
    },
    {
      "cell_type": "markdown",
      "metadata": {
        "id": "GhqoixOfOVJ0"
      },
      "source": [
        "## 06 Operator Keanggotaan (Membership Operators)\n",
        "Memeriksa apakah nilai (atau variabel) ditemukan dalam tipe data *sequence* (string, list, tuple, set dan dictionary).\n",
        "\n",
        "\n",
        "Dalam dictionary, kita hanya dapat menguji keberadaan key, bukan valuenya."
      ]
    },
    {
      "cell_type": "code",
      "execution_count": null,
      "metadata": {
        "id": "qzTBokO0VSdq"
      },
      "outputs": [],
      "source": [
        "buah = ['apel', 'jeruk', 'anggur']\n",
        "\n",
        "print('apel' in buah)\n",
        "print('mangga' not in buah)"
      ]
    },
    {
      "cell_type": "code",
      "execution_count": null,
      "metadata": {
        "id": "QAROxSM7Q2y6"
      },
      "outputs": [],
      "source": [
        "string = 'Hello world'\n",
        "\n",
        "print('H' in string)\n",
        "print('Hello' not in string)"
      ]
    },
    {
      "cell_type": "code",
      "execution_count": null,
      "metadata": {
        "id": "kDNYTYoWVwgW"
      },
      "outputs": [],
      "source": [
        "list(string)"
      ]
    },
    {
      "cell_type": "code",
      "execution_count": null,
      "metadata": {
        "id": "zAKVb9rWQ3aT"
      },
      "outputs": [],
      "source": [
        "bio = {'name': 'Cahyo', 'age': 27}"
      ]
    },
    {
      "cell_type": "code",
      "execution_count": null,
      "metadata": {
        "id": "u3FQJbkHUoxF"
      },
      "outputs": [],
      "source": [
        "'name' in bio.keys()   # keys() dapat dihilangkan saat memeriksa kunci"
      ]
    },
    {
      "cell_type": "code",
      "execution_count": null,
      "metadata": {
        "id": "RDOMf9HxVJlv"
      },
      "outputs": [],
      "source": [
        "'name' in bio"
      ]
    },
    {
      "cell_type": "code",
      "execution_count": null,
      "metadata": {
        "id": "lkgVL7buU0W3"
      },
      "outputs": [],
      "source": [
        "'Cahyo' in bio.values()"
      ]
    },
    {
      "cell_type": "code",
      "execution_count": null,
      "metadata": {
        "id": "_oaOpGaWU6Lx"
      },
      "outputs": [],
      "source": [
        "'cahyo' in bio.values()"
      ]
    },
    {
      "cell_type": "markdown",
      "metadata": {
        "id": "qlv-XYVLQAaX"
      },
      "source": [
        "# C. Input() Function"
      ]
    },
    {
      "cell_type": "code",
      "execution_count": null,
      "metadata": {
        "id": "vClZy5eHXwNu"
      },
      "outputs": [],
      "source": [
        "print('What is your name?')   # ask for their name\n",
        "name = input(\"Enter your name ... \")\n",
        "\n",
        "print('It is good to meet you, {}'.format(name))"
      ]
    },
    {
      "cell_type": "code",
      "execution_count": null,
      "metadata": {
        "id": "ta9h7ELIXzr_"
      },
      "outputs": [],
      "source": [
        "print('How old are you?')\n",
        "age = input()"
      ]
    },
    {
      "cell_type": "code",
      "execution_count": null,
      "metadata": {
        "id": "o4G-mYbMYV-G"
      },
      "outputs": [],
      "source": [
        "type(age)"
      ]
    },
    {
      "cell_type": "markdown",
      "metadata": {
        "id": "HagJkz7ZdMVi"
      },
      "source": [
        "# D. Control Flow: Logic\n",
        "\n",
        "**Conditionals**<br>\n",
        "Conditionals adalah bentuk flow control paling sederhana. \n",
        "\n",
        "Dalam bahasa manusia, conditionals mengikuti syntax:\n",
        "\n",
        "**\"Jika kondisi terjadi, maka lakukan sesuatu. Jika kondisi tidak terjadi, maka lakukan hal lain\"**\n",
        "\n",
        "Bentuk conditionals pada Python:\n",
        "* if statement\n",
        "* if-else statement\n",
        "* if-elif-else statement\n",
        "\n",
        "Inti dari semua bentuk conditionals ialah **condition**. Condition adalah **expression** yang dapat bernilai `True` atau `False`.\n",
        "\n"
      ]
    },
    {
      "cell_type": "markdown",
      "metadata": {
        "id": "aelKLC6uddOq"
      },
      "source": [
        "## 01 If Statement\n",
        "Bentuk conditionals terpendek atau paling sederhana.\n"
      ]
    },
    {
      "cell_type": "code",
      "execution_count": null,
      "metadata": {
        "id": "fdYPW-JnZggU"
      },
      "outputs": [],
      "source": [
        "nilai = 90\n",
        "kkm = 75\n",
        "\n",
        "if nilai >= 75:\n",
        "  print('Lulus')"
      ]
    },
    {
      "cell_type": "code",
      "execution_count": null,
      "metadata": {
        "id": "iKUMXVK4dvKX"
      },
      "outputs": [],
      "source": [
        "rujak = 'habis'\n",
        "\n",
        "if rujak == 'habis':\n",
        "  print('Beli lainnya aja!')"
      ]
    },
    {
      "cell_type": "markdown",
      "metadata": {
        "id": "YU-izI7ffPHk"
      },
      "source": [
        "## 02 If-Else Statement\n",
        "Terdapat eksekusi alternatif atau dua kemungkinan. Condition akan menentukan kemungkinan mana yang akan dieksekusi program.\n"
      ]
    },
    {
      "cell_type": "code",
      "execution_count": null,
      "metadata": {
        "id": "q7B7Z5N_eDYG"
      },
      "outputs": [],
      "source": [
        "nilai = 90\n",
        "kkm = 75\n",
        "\n",
        "if nilai >= 75:\n",
        "  print('Lulus')\n",
        "else:\n",
        "  print('Tidak Lulus, Bro')"
      ]
    },
    {
      "cell_type": "code",
      "execution_count": null,
      "metadata": {
        "id": "fimevIy8f3Mr"
      },
      "outputs": [],
      "source": [
        "rujak = 'tersedia'\n",
        "\n",
        "if rujak == 'tersedia':\n",
        "  print('Beli rujak')\n",
        "else:\n",
        "  print('Beli pecel aja, ya!')"
      ]
    },
    {
      "cell_type": "markdown",
      "metadata": {
        "id": "M0rH-FKXgvMj"
      },
      "source": [
        "## 03 If-elif-else Statement\n",
        "\n",
        "Sama halnya dengan if-else statement, condition akan menentukan kemungkinan mana yang akan dieksekusi oleh Program.\n",
        "\n",
        "Bedanya, if-elif-else statement dapat memiliki lebih dari satu condition\n"
      ]
    },
    {
      "cell_type": "code",
      "execution_count": null,
      "metadata": {
        "id": "Zo0rJUkngtgu"
      },
      "outputs": [],
      "source": [
        "nilai = 80\n",
        "\n",
        "if nilai >= 90:\n",
        "  print('A')\n",
        "elif nilai >= 80:\n",
        "  print('B')\n",
        "elif nilai >= 70:\n",
        "  print('C')\n",
        "else:\n",
        "  print('Tidak Lulus, Bro')"
      ]
    },
    {
      "cell_type": "markdown",
      "metadata": {
        "id": "ojn6rr8v0Fd3"
      },
      "source": [
        "# E. Control Flow: Loop\n",
        "\n",
        "Cara mengeksekusi sekumpulan kode yang sama berulang kali.\n",
        "\n",
        "Bentuk loop pada Python:\n",
        "- while loops\n",
        "- for loops\n"
      ]
    },
    {
      "cell_type": "markdown",
      "metadata": {
        "id": "7B64HCWq026M"
      },
      "source": [
        "## 01 For Loop\n",
        "\n",
        "Melakukan iterasi pada sebuah container."
      ]
    },
    {
      "cell_type": "code",
      "execution_count": null,
      "metadata": {
        "colab": {
          "base_uri": "https://localhost:8080/"
        },
        "id": "0uWmaF56Aly3",
        "outputId": "e5b66b00-5992-4032-d0db-74ac15a792de"
      },
      "outputs": [],
      "source": [
        "names = ['lidya', 'aris', 'kinan']\n",
        "\n",
        "for name in names:\n",
        "  print(name)"
      ]
    },
    {
      "cell_type": "code",
      "execution_count": null,
      "metadata": {
        "colab": {
          "base_uri": "https://localhost:8080/"
        },
        "id": "AAVQUoBM1vzE",
        "outputId": "398ff302-f726-4bf2-cb78-3c89ca9a27f9"
      },
      "outputs": [],
      "source": [
        "scores = 80, 70, 90\n",
        "total = 0\n",
        "\n",
        "for score in scores:\n",
        "  total += score\n",
        "  print(total)"
      ]
    },
    {
      "cell_type": "code",
      "execution_count": null,
      "metadata": {
        "colab": {
          "base_uri": "https://localhost:8080/"
        },
        "id": "5ZxAS_oH1v6y",
        "outputId": "f84bd5cf-2714-40d1-9c64-f75b3e04f99e"
      },
      "outputs": [],
      "source": [
        "for char in \"Orbit Future Academy\":\n",
        "  print(char, end=',')"
      ]
    },
    {
      "cell_type": "markdown",
      "metadata": {
        "id": "RuCyV9Oe2yXq"
      },
      "source": [
        "### Range() Function\n",
        "\n",
        "Menentukan jumlah iterasi yang diinginkan."
      ]
    },
    {
      "cell_type": "code",
      "execution_count": null,
      "metadata": {
        "colab": {
          "base_uri": "https://localhost:8080/"
        },
        "id": "hlZW2YUO2I4A",
        "outputId": "475f50fa-5e68-4c31-94ff-711a86862225"
      },
      "outputs": [],
      "source": [
        "range(5)"
      ]
    },
    {
      "cell_type": "code",
      "execution_count": null,
      "metadata": {
        "colab": {
          "base_uri": "https://localhost:8080/"
        },
        "id": "WTH19Qw76czA",
        "outputId": "20469f61-9ff7-4e97-9c42-4e768c8bec37"
      },
      "outputs": [],
      "source": [
        "list(range(5))"
      ]
    },
    {
      "cell_type": "code",
      "execution_count": null,
      "metadata": {
        "colab": {
          "base_uri": "https://localhost:8080/"
        },
        "id": "v-vDTMKo28Xv",
        "outputId": "09475008-36fa-46bc-bc8e-0fc400c4500e"
      },
      "outputs": [],
      "source": [
        "for number in range(11):\n",
        "  print(number * 2)"
      ]
    },
    {
      "cell_type": "code",
      "execution_count": null,
      "metadata": {
        "colab": {
          "base_uri": "https://localhost:8080/"
        },
        "id": "sUKhaj695wXg",
        "outputId": "385605e4-b001-421e-95d7-667f416bfb77"
      },
      "outputs": [],
      "source": [
        "for i in range(5, 10):\n",
        "  print(i)"
      ]
    },
    {
      "cell_type": "code",
      "execution_count": null,
      "metadata": {
        "colab": {
          "base_uri": "https://localhost:8080/"
        },
        "id": "wxKEc0AH3Vou",
        "outputId": "cd1f534d-bd26-4992-8ed5-0b2f8e2ee714"
      },
      "outputs": [],
      "source": [
        "# argument 1 -> start value\n",
        "# argument 2 -> stop value\n",
        "# argument 3 -> step value\n",
        "\n",
        "for i in range(0, 10, 2):\n",
        "  print(i)"
      ]
    },
    {
      "cell_type": "code",
      "execution_count": null,
      "metadata": {
        "colab": {
          "base_uri": "https://localhost:8080/"
        },
        "id": "1-ZV17CV3Bfv",
        "outputId": "760f3387-b760-485b-c541-c5eec3068045"
      },
      "outputs": [],
      "source": [
        "names = ['lidya', 'aris', 'kinan']\n",
        "\n",
        "for name in range(len(names)):\n",
        "  print(names[name])"
      ]
    },
    {
      "cell_type": "markdown",
      "metadata": {
        "id": "7o-ncUQM4ESs"
      },
      "source": [
        "### Break\n",
        "\n",
        "Menghentikan proses loop"
      ]
    },
    {
      "cell_type": "code",
      "execution_count": null,
      "metadata": {
        "colab": {
          "base_uri": "https://localhost:8080/"
        },
        "id": "XtahzDrQ3i8G",
        "outputId": "a01386b6-15eb-4db1-b7e3-3a91e278b5e5"
      },
      "outputs": [],
      "source": [
        "for string in 'Orbit Future Academy':\n",
        "\n",
        "  # Break loop\n",
        "  if string == \"F\":\n",
        "    break\n",
        "  \n",
        "  print('Current string:', string)"
      ]
    },
    {
      "cell_type": "code",
      "execution_count": null,
      "metadata": {
        "colab": {
          "base_uri": "https://localhost:8080/"
        },
        "id": "vTpFH9w65NC_",
        "outputId": "79f4948d-8d4b-4403-9e4f-fbf3b78ed5e1"
      },
      "outputs": [],
      "source": [
        "names = ['lidya', 'aris', 'kinan']\n",
        "\n",
        "for name in names:\n",
        "  print(name)\n",
        "  if name == 'aris':\n",
        "    break"
      ]
    },
    {
      "cell_type": "code",
      "execution_count": null,
      "metadata": {
        "colab": {
          "base_uri": "https://localhost:8080/"
        },
        "id": "ISshCGYz5iJs",
        "outputId": "6e649af2-74ea-4530-a195-72601ad5ff95"
      },
      "outputs": [],
      "source": [
        "for name  in names:\n",
        "  if name == \"aris\":\n",
        "    break\n",
        "  print(name)"
      ]
    },
    {
      "cell_type": "markdown",
      "metadata": {
        "id": "pFtaXtai4u2j"
      },
      "source": [
        "### Continue\n",
        "Mengembalikan kontrol ke awal loop"
      ]
    },
    {
      "cell_type": "code",
      "execution_count": null,
      "metadata": {
        "colab": {
          "base_uri": "https://localhost:8080/"
        },
        "id": "cgvq9ET-4ln0",
        "outputId": "956f5021-8e5f-4758-b1a7-b751f724373b"
      },
      "outputs": [],
      "source": [
        "for string in 'Orbit Future Academy':\n",
        "\n",
        "  # Break loop\n",
        "  if string == \"F\":\n",
        "    continue\n",
        "  \n",
        "  print('Current string:', string)"
      ]
    },
    {
      "cell_type": "markdown",
      "metadata": {
        "id": "ESBumGen432f"
      },
      "source": [
        "### Pass\n",
        "Menulis loop kosong atau pernyataan kontrol kosong"
      ]
    },
    {
      "cell_type": "code",
      "execution_count": null,
      "metadata": {
        "colab": {
          "base_uri": "https://localhost:8080/"
        },
        "id": "B7wwlSr841zD",
        "outputId": "77a4bb54-0893-4979-8027-f816ddaa959c"
      },
      "outputs": [],
      "source": [
        "for string in 'Orbit Future Academy':\n",
        "  pass\n",
        "\n",
        "print('Hello')"
      ]
    },
    {
      "cell_type": "markdown",
      "metadata": {
        "id": "NHk6LUcS6BAu"
      },
      "source": [
        "### Else in For Loop"
      ]
    },
    {
      "cell_type": "code",
      "execution_count": null,
      "metadata": {
        "colab": {
          "base_uri": "https://localhost:8080/"
        },
        "id": "Nm_4AwlW5DOc",
        "outputId": "b15558a0-7de4-44bf-c02a-8629f732ad33"
      },
      "outputs": [],
      "source": [
        "for x in range(6):\n",
        "  print(x)\n",
        "else:\n",
        "  print(\"Finally finished!\")"
      ]
    },
    {
      "cell_type": "code",
      "execution_count": null,
      "metadata": {
        "colab": {
          "base_uri": "https://localhost:8080/"
        },
        "id": "rAexQlft6H1W",
        "outputId": "3dae082e-277e-4936-a1dd-ee6a84af61e8"
      },
      "outputs": [],
      "source": [
        "for x in range(10):\n",
        "  if x == 8: \n",
        "    break\n",
        "  print(x)\n",
        "else:\n",
        "  print(\"Finally finished!\")"
      ]
    },
    {
      "cell_type": "markdown",
      "metadata": {
        "id": "Lqq80YTQ6Or3"
      },
      "source": [
        "### Nested Loop"
      ]
    },
    {
      "cell_type": "code",
      "execution_count": null,
      "metadata": {
        "colab": {
          "base_uri": "https://localhost:8080/"
        },
        "id": "V8KlSn946L9C",
        "outputId": "0ff0427a-c979-4b9d-a5cb-64009f58d899"
      },
      "outputs": [],
      "source": [
        "adj = [\"red\", \"big\", \"tasty\"]\n",
        "fruits = [\"apple\", \"banana\", \"cherry\"]\n",
        "\n",
        "for x in adj:\n",
        "  for y in fruits:\n",
        "    print(x, y)"
      ]
    },
    {
      "cell_type": "markdown",
      "metadata": {
        "id": "oVL89Che6q9N"
      },
      "source": [
        "## 02 While Loop\n",
        "\n",
        "Berhubungan dengan if statement, karena block of code yang sama terus dieksekusi ketika condition bernilai `True`\n",
        "\n",
        "Jika kondisi bernilai `True`, block of code akan dieksekusi kembali. Jika `False`, block of code akan dilewati"
      ]
    },
    {
      "cell_type": "code",
      "execution_count": null,
      "metadata": {
        "colab": {
          "base_uri": "https://localhost:8080/"
        },
        "id": "OgIYH47q8Nf_",
        "outputId": "85cc4495-8f24-4f7f-99a2-8b5176eae635"
      },
      "outputs": [],
      "source": [
        "# Cetak i selama i kurang dari 6:\n",
        "\n",
        "i = 1\n",
        "while i < 6:\n",
        "  print(i)\n",
        "  i += 1"
      ]
    },
    {
      "cell_type": "code",
      "execution_count": null,
      "metadata": {
        "colab": {
          "base_uri": "https://localhost:8080/"
        },
        "id": "l4wEyRsM8Xmv",
        "outputId": "db76454f-0250-422d-ab3d-ff3133809a78"
      },
      "outputs": [],
      "source": [
        "# Keluar dari loop ketika i adalah 3:\n",
        "\n",
        "i = 1\n",
        "while i < 6:\n",
        "  print(i)\n",
        "  if i == 3:\n",
        "    break\n",
        "  i += 1"
      ]
    },
    {
      "cell_type": "code",
      "execution_count": null,
      "metadata": {
        "colab": {
          "base_uri": "https://localhost:8080/"
        },
        "id": "Fd7mBoWB8fnY",
        "outputId": "b42402f7-d009-44d8-8d1e-73beffbbdb07"
      },
      "outputs": [],
      "source": [
        "# Lanjutkan ke iterasi berikutnya jika i adalah 3:\n",
        "\n",
        "i = 0\n",
        "while i < 6:\n",
        "  i += 1\n",
        "  if i == 3:\n",
        "    continue\n",
        "  print(i)"
      ]
    },
    {
      "cell_type": "code",
      "execution_count": null,
      "metadata": {
        "colab": {
          "base_uri": "https://localhost:8080/"
        },
        "id": "dvFT7mM98qL7",
        "outputId": "73e8022e-88c8-4b56-a86f-78c15b36f4d9"
      },
      "outputs": [],
      "source": [
        "nilai = 10\n",
        "\n",
        "while nilai < 60:\n",
        "  print('remidi', nilai)\n",
        "  nilai += 10"
      ]
    },
    {
      "cell_type": "code",
      "execution_count": null,
      "metadata": {
        "colab": {
          "base_uri": "https://localhost:8080/"
        },
        "id": "PP1as9Q17fdR",
        "outputId": "f4056c29-5127-4fb1-d05a-42b7821843b1"
      },
      "outputs": [],
      "source": [
        "while True:\n",
        "    print('Please type your name.')\n",
        "    name = input()\n",
        "    if name == 'cahyo':\n",
        "        break\n",
        "\n",
        "print('Thank you!')"
      ]
    },
    {
      "cell_type": "code",
      "execution_count": null,
      "metadata": {
        "colab": {
          "base_uri": "https://localhost:8080/"
        },
        "id": "4jyyrLrw7iUw",
        "outputId": "2a090486-b590-4778-e0dc-3038eeb17c5f"
      },
      "outputs": [],
      "source": [
        "while True:\n",
        "    print('Who are you?')\n",
        "    name = input()\n",
        "    if name != 'cahyo':\n",
        "        continue\n",
        "    print('Hello, Cahyo. What is the password?')\n",
        "    password = input()\n",
        "    if password == 'malang':\n",
        "        break\n",
        "print('Access granted.')"
      ]
    },
    {
      "cell_type": "markdown",
      "metadata": {
        "id": "T9snmQ_u9EE-"
      },
      "source": [
        "# F. List Comprehension\n",
        "\n",
        "Sintaks lebih pendek ketika membuat list baru berdasarkan nilai dari list yang sudah ada\n",
        "\n",
        "`newlist = [expression for item in iterable if condition == True]`"
      ]
    },
    {
      "cell_type": "code",
      "execution_count": null,
      "metadata": {
        "colab": {
          "base_uri": "https://localhost:8080/"
        },
        "id": "Y2sc6b828IJP",
        "outputId": "e5eb10e0-ca36-4787-dc5d-ae952c47757a"
      },
      "outputs": [],
      "source": [
        "fruits = [\"apple\", \"banana\", \"cherry\", \"kiwi\", \"mango\"]\n",
        "newlist = []\n",
        "\n",
        "for x in fruits:\n",
        "  if \"a\" in x:\n",
        "    newlist.append(x)\n",
        "\n",
        "print(newlist)"
      ]
    },
    {
      "cell_type": "code",
      "execution_count": null,
      "metadata": {
        "colab": {
          "base_uri": "https://localhost:8080/"
        },
        "id": "JKMWWKjZ9t-y",
        "outputId": "7ec051f4-77f4-489c-eea8-25dd60131eac"
      },
      "outputs": [],
      "source": [
        "newlist = [x for x in fruits]\n",
        "\n",
        "print(newlist)"
      ]
    },
    {
      "cell_type": "code",
      "execution_count": null,
      "metadata": {
        "colab": {
          "base_uri": "https://localhost:8080/"
        },
        "id": "krX_VWOc9ZV0",
        "outputId": "f79b07d1-dd9c-45ad-cb2e-580f95c87e44"
      },
      "outputs": [],
      "source": [
        "newlist = [x for x in fruits if \"a\" in x]\n",
        "\n",
        "print(newlist)"
      ]
    },
    {
      "cell_type": "code",
      "execution_count": null,
      "metadata": {
        "colab": {
          "base_uri": "https://localhost:8080/"
        },
        "id": "jS3LFjW39oaw",
        "outputId": "422aa5ff-b0f1-4b31-af8a-de1bb117afa9"
      },
      "outputs": [],
      "source": [
        "newlist = [x for x in fruits if x != \"apple\"]\n",
        "\n",
        "print(newlist)"
      ]
    },
    {
      "cell_type": "code",
      "execution_count": null,
      "metadata": {
        "colab": {
          "base_uri": "https://localhost:8080/"
        },
        "id": "VPRqo9pu92U3",
        "outputId": "2016d2c3-8f86-44f5-8465-95d64769529a"
      },
      "outputs": [],
      "source": [
        "newlist = [x for x in range(10)]\n",
        "\n",
        "print(newlist)"
      ]
    },
    {
      "cell_type": "code",
      "execution_count": null,
      "metadata": {
        "colab": {
          "base_uri": "https://localhost:8080/"
        },
        "id": "Nv-9iVTd9370",
        "outputId": "0fa49472-831e-420e-ad6e-164f748d20ae"
      },
      "outputs": [],
      "source": [
        "h_letters = [letter for letter in 'human']\n",
        "print(h_letters)"
      ]
    },
    {
      "cell_type": "markdown",
      "metadata": {
        "id": "BaNTe_UV-VQJ"
      },
      "source": [
        "# G. Dict Comprehension"
      ]
    },
    {
      "cell_type": "code",
      "execution_count": null,
      "metadata": {
        "id": "vc_9qAkR-Bjl"
      },
      "outputs": [],
      "source": [
        "dict1 = {'a': 1, 'b': 2, 'c': 3, 'd': 4}\n"
      ]
    },
    {
      "cell_type": "code",
      "execution_count": null,
      "metadata": {
        "colab": {
          "base_uri": "https://localhost:8080/"
        },
        "id": "OET79PUF--UI",
        "outputId": "624e11cd-775c-463b-ea8c-3a7245d44e83"
      },
      "outputs": [],
      "source": [
        "# Put all keys of `dict1` in a list and returns the list\n",
        "dict1.keys()"
      ]
    },
    {
      "cell_type": "code",
      "execution_count": null,
      "metadata": {
        "colab": {
          "base_uri": "https://localhost:8080/"
        },
        "id": "3r6oh0gU-aNS",
        "outputId": "736e3ac6-e0e7-47f3-9022-dae6a33bcda0"
      },
      "outputs": [],
      "source": [
        "dict1.values()"
      ]
    },
    {
      "cell_type": "code",
      "execution_count": null,
      "metadata": {
        "colab": {
          "base_uri": "https://localhost:8080/"
        },
        "id": "DSNamIOB-3yx",
        "outputId": "aebdb7e3-99b0-468a-b63b-236729c33b1f"
      },
      "outputs": [],
      "source": [
        "# access all the keys and their values in a dictionary\n",
        "\n",
        "dict1.items()"
      ]
    },
    {
      "cell_type": "code",
      "execution_count": null,
      "metadata": {
        "colab": {
          "base_uri": "https://localhost:8080/"
        },
        "id": "VJskiUrz-chN",
        "outputId": "8d29d8d6-bae0-4676-d78c-741143bda882"
      },
      "outputs": [],
      "source": [
        "newdict = {key:value+10 for (key,value) in dict1.items()}\n",
        "\n",
        "print(newdict)"
      ]
    },
    {
      "cell_type": "code",
      "execution_count": null,
      "metadata": {
        "colab": {
          "base_uri": "https://localhost:8080/"
        },
        "id": "v1Xqqok2-cqs",
        "outputId": "da18e3ea-aeba-4e93-fd99-251391a9d054"
      },
      "outputs": [],
      "source": [
        "double_dict1 = {k:v*2 for (k,v) in dict1.items()}\n",
        "print(double_dict1)"
      ]
    },
    {
      "cell_type": "markdown",
      "metadata": {
        "id": "k_wStCSnCAlx"
      },
      "source": [
        "#  Latihan"
      ]
    },
    {
      "cell_type": "code",
      "execution_count": null,
      "metadata": {
        "colab": {
          "base_uri": "https://localhost:8080/"
        },
        "id": "lLM_khr_CCgO",
        "outputId": "bfadbc78-dbcd-4597-8b96-d8d7d815efa8"
      },
      "outputs": [],
      "source": [
        "# Tulis kode untuk menampilkan semua bilangan prima dalam suatu rentang \n",
        "\n",
        "start = 25\n",
        "end = 50\n",
        "print(\"Prime numbers between\", start, \"and\", end, \"are:\")\n",
        "\n",
        "for num in range(start, end + 1):\n",
        "    # all prime numbers are greater than 1\n",
        "    # if number is less than or equal to 1, it is not prime\n",
        "    if num > 1:\n",
        "        for i in range(2, num):\n",
        "            # check for factors\n",
        "            if (num % i) == 0:\n",
        "                # not a prime number so break inner loop and\n",
        "                # look for next number\n",
        "                break\n",
        "        else:\n",
        "            print(num)"
      ]
    },
    {
      "cell_type": "code",
      "execution_count": null,
      "metadata": {
        "colab": {
          "base_uri": "https://localhost:8080/"
        },
        "id": "rjXQiuf_CGSW",
        "outputId": "e3f4e736-e2e2-421b-81a3-800bb3483a27"
      },
      "outputs": [],
      "source": [
        "rows = 5\n",
        "for i in range(0, rows):\n",
        "    for j in range(0, i + 1):\n",
        "        print(\"*\", end=' ')\n",
        "    print(\"\\r\")\n",
        "\n",
        "for i in range(rows, 0, -1):\n",
        "    for j in range(0, i - 1):\n",
        "        print(\"*\", end=' ')\n",
        "    print(\"\\r\")"
      ]
    },
    {
      "cell_type": "code",
      "execution_count": null,
      "metadata": {
        "colab": {
          "base_uri": "https://localhost:8080/"
        },
        "id": "Aq2z0Zc2CKFn",
        "outputId": "fc787ea6-f0d9-41fa-bfbd-4bb4d1754db5"
      },
      "outputs": [],
      "source": [
        "nl=[]\n",
        "for x in range(1500, 2701):\n",
        "    if (x%7==0) and (x%5==0):\n",
        "        nl.append(str(x))\n",
        "print (','.join(nl))"
      ]
    },
    {
      "cell_type": "code",
      "execution_count": null,
      "metadata": {
        "colab": {
          "base_uri": "https://localhost:8080/"
        },
        "id": "gl71WHf4Cy4U",
        "outputId": "e93cfc67-64fc-4d01-8071-1df51581bf6b"
      },
      "outputs": [],
      "source": [
        "word = input(\"Input a word to reverse: \")\n",
        "\n",
        "for char in range(len(word) - 1, -1, -1):\n",
        "  print(word[char], end=\"\")\n",
        "print(\"\\n\")"
      ]
    }
  ],
  "metadata": {
    "colab": {
      "collapsed_sections": [],
      "name": "Python Operators & Control Flow.ipynb",
      "provenance": []
    },
    "kernelspec": {
      "display_name": "Python 3",
      "name": "python3"
    },
    "language_info": {
      "name": "python"
    }
  },
  "nbformat": 4,
  "nbformat_minor": 0
}
