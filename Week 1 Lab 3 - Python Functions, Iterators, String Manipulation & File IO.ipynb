{
  "cells": [
    {
      "cell_type": "markdown",
      "metadata": {
        "id": "5U3bedTmMjPq"
      },
      "source": [
        "# Week 1 Lab 3 - Python Functions, Iterators, String Manipulation & File IO"
      ]
    },
    {
      "cell_type": "markdown",
      "metadata": {
        "id": "zxolz-SpMiVy"
      },
      "source": [
        "# A. Functions"
      ]
    },
    {
      "cell_type": "markdown",
      "metadata": {
        "id": "eOChK5a0M92e"
      },
      "source": [
        "## 01 Built-in Functions"
      ]
    },
    {
      "cell_type": "code",
      "execution_count": null,
      "metadata": {
        "colab": {
          "base_uri": "https://localhost:8080/"
        },
        "id": "hmUyx_gbMpFZ",
        "outputId": "d0750ca3-6fc8-4268-fb6c-f3432e7eac34"
      },
      "outputs": [],
      "source": [
        "num = [8, 5, 4, 3, 5, 9, 3, 1]\n",
        "\n",
        "print('Type:', type(num))\n",
        "print('Length:', len(num))\n",
        "print('Min Value:', min(num))\n",
        "print('Max Value:', max(num))\n",
        "print('Sorted Lis:', sorted(num))"
      ]
    },
    {
      "cell_type": "code",
      "execution_count": null,
      "metadata": {
        "id": "x1KxSyw1OCbn"
      },
      "outputs": [],
      "source": [
        "input()"
      ]
    },
    {
      "cell_type": "code",
      "execution_count": null,
      "metadata": {
        "id": "JZM8eabxre_5"
      },
      "outputs": [],
      "source": [
        "#@title Default title text\n"
      ]
    },
    {
      "cell_type": "markdown",
      "metadata": {
        "id": "Uy0TqksENPMm"
      },
      "source": [
        "## 02 User-defined Functions"
      ]
    },
    {
      "cell_type": "markdown",
      "metadata": {
        "id": "ERYQ61pqPKnc"
      },
      "source": [
        "### Simple Functions"
      ]
    },
    {
      "cell_type": "markdown",
      "metadata": {
        "id": "GhDIbxOLThtP"
      },
      "source": [
        "block of code that is executed when called"
      ]
    },
    {
      "cell_type": "code",
      "execution_count": null,
      "metadata": {
        "colab": {
          "base_uri": "https://localhost:8080/"
        },
        "id": "qFET3Y8ZTiaE",
        "outputId": "0434abca-14a9-45be-e60f-bf4b5efbbaab"
      },
      "outputs": [],
      "source": [
        "print('Hello World !')\n",
        "print('a')\n",
        "print('b')\n",
        "print('c')\n",
        "print('Hello World !')\n",
        "print('d')\n",
        "print('e')\n",
        "print('f')\n",
        "print('Hello World !')\n",
        "print('g')\n",
        "print('h')\n",
        "print('i')\n",
        "print('Hello World !')"
      ]
    },
    {
      "cell_type": "code",
      "execution_count": null,
      "metadata": {
        "id": "lSAlWjzpOI7a"
      },
      "outputs": [],
      "source": [
        "def beri_salam():\n",
        "  print('Banjour!')"
      ]
    },
    {
      "cell_type": "code",
      "execution_count": null,
      "metadata": {
        "id": "orgB5gfqOUNe"
      },
      "outputs": [],
      "source": [
        "def beri_semangat():\n",
        "  print('Semangat belajar!')"
      ]
    },
    {
      "cell_type": "code",
      "execution_count": null,
      "metadata": {
        "colab": {
          "base_uri": "https://localhost:8080/"
        },
        "id": "zBVwaHgEO_HK",
        "outputId": "69c057fc-05d9-4dd2-daad-d4c59cbe6568"
      },
      "outputs": [],
      "source": [
        "beri_salam()"
      ]
    },
    {
      "cell_type": "code",
      "execution_count": null,
      "metadata": {
        "colab": {
          "base_uri": "https://localhost:8080/"
        },
        "id": "22HCatuDPAGs",
        "outputId": "c80123b5-ccae-4a2a-aa31-c77d68f45ddc"
      },
      "outputs": [],
      "source": [
        "beri_semangat()"
      ]
    },
    {
      "cell_type": "code",
      "execution_count": null,
      "metadata": {
        "colab": {
          "base_uri": "https://localhost:8080/"
        },
        "id": "WGS3FDtZPBfE",
        "outputId": "99867b68-0e9d-45b5-d599-a319ec37f14d"
      },
      "outputs": [],
      "source": [
        "beri_salam()\n",
        "beri_semangat()\n",
        "beri_semangat()"
      ]
    },
    {
      "cell_type": "markdown",
      "metadata": {
        "id": "GdfE8TY5PNra"
      },
      "source": [
        "### Fruitful Functions\n",
        "Fungsi yang mengembalikan nilai setelah selesai."
      ]
    },
    {
      "cell_type": "code",
      "execution_count": null,
      "metadata": {
        "id": "eDru-oHvPFHs"
      },
      "outputs": [],
      "source": [
        "def angka_misterius():\n",
        "  return 1055"
      ]
    },
    {
      "cell_type": "code",
      "execution_count": null,
      "metadata": {
        "id": "ZSyN-cVvPjnc"
      },
      "outputs": [],
      "source": [
        "def nama():\n",
        "  return 'Cahyo'"
      ]
    },
    {
      "cell_type": "code",
      "execution_count": null,
      "metadata": {
        "id": "b_hS-EoPPogj"
      },
      "outputs": [],
      "source": [
        "def pangkat_dua():\n",
        "  return 2*2.0 + 0"
      ]
    },
    {
      "cell_type": "code",
      "execution_count": null,
      "metadata": {
        "id": "IBfQZNyXPz7r"
      },
      "outputs": [],
      "source": [
        "def hitung_luas():\n",
        "  panjang = 4\n",
        "  lebar = 3\n",
        "  luas = panjang * lebar\n",
        "  return luas"
      ]
    },
    {
      "cell_type": "code",
      "execution_count": null,
      "metadata": {
        "colab": {
          "base_uri": "https://localhost:8080/",
          "height": 35
        },
        "id": "uVGc9CUNP05s",
        "outputId": "72e1b664-7fb1-49ef-e4e5-40b904d75fdd"
      },
      "outputs": [],
      "source": [
        "angka_misterius()"
      ]
    },
    {
      "cell_type": "code",
      "execution_count": null,
      "metadata": {
        "colab": {
          "base_uri": "https://localhost:8080/",
          "height": 35
        },
        "id": "mhL6NAX1QECr",
        "outputId": "7a0a1189-d104-4d4c-eddb-72896de710dc"
      },
      "outputs": [],
      "source": [
        "nama()"
      ]
    },
    {
      "cell_type": "code",
      "execution_count": null,
      "metadata": {
        "colab": {
          "base_uri": "https://localhost:8080/"
        },
        "id": "zzd4tKitQMOT",
        "outputId": "e980f82b-d482-43db-f9c9-397b42d05810"
      },
      "outputs": [],
      "source": [
        "luas_rumah = hitung_luas()\n",
        "print(luas_rumah)"
      ]
    },
    {
      "cell_type": "code",
      "execution_count": null,
      "metadata": {
        "id": "rBuMt7izQTrD"
      },
      "outputs": [],
      "source": [
        "def hitung_luas():\n",
        "  panjang = 4\n",
        "  lebar = 3\n",
        "  luas = panjang * lebar\n",
        "  return panjang, lebar, luas"
      ]
    },
    {
      "cell_type": "code",
      "execution_count": null,
      "metadata": {
        "colab": {
          "base_uri": "https://localhost:8080/"
        },
        "id": "N3jNhyYRQnpa",
        "outputId": "7ab87052-079e-498c-8b21-fb9ea373cf2a"
      },
      "outputs": [],
      "source": [
        "luas_rumah = hitung_luas()\n",
        "\n",
        "print(luas_rumah)\n",
        "print(type(luas_rumah))"
      ]
    },
    {
      "cell_type": "code",
      "execution_count": null,
      "metadata": {
        "colab": {
          "base_uri": "https://localhost:8080/"
        },
        "id": "iBitZ5DWQtu6",
        "outputId": "8a71318b-7af6-4de6-a568-7e1d75eade18"
      },
      "outputs": [],
      "source": [
        "p, l, luas = hitung_luas()\n",
        "print(f'Luas rumah dengan panjang {p} dan lebar {l} adalah {luas}')"
      ]
    },
    {
      "cell_type": "markdown",
      "metadata": {
        "id": "AnyGHNxTRCsw"
      },
      "source": [
        "### Function with Parameters"
      ]
    },
    {
      "cell_type": "code",
      "execution_count": null,
      "metadata": {
        "id": "qhyQtKqDQ-X5"
      },
      "outputs": [],
      "source": [
        "def beri_salam(nama):\n",
        "  print('Banjour!', nama)"
      ]
    },
    {
      "cell_type": "code",
      "execution_count": null,
      "metadata": {
        "id": "r5Pl6_0jR1zD"
      },
      "outputs": [],
      "source": [
        "def beri_salam(nama='Dino'):\n",
        "  print('Banjour!', nama)"
      ]
    },
    {
      "cell_type": "code",
      "execution_count": null,
      "metadata": {
        "colab": {
          "base_uri": "https://localhost:8080/"
        },
        "id": "L0a9troqRkyS",
        "outputId": "d920db97-98a5-4cc2-ee0a-60f4d5440ba5"
      },
      "outputs": [],
      "source": [
        "beri_salam('Cahyo')"
      ]
    },
    {
      "cell_type": "code",
      "execution_count": null,
      "metadata": {
        "colab": {
          "base_uri": "https://localhost:8080/"
        },
        "id": "KOUQuEJpR4pP",
        "outputId": "b65fd7b7-3ccd-4abb-f76d-3bf14682b45a"
      },
      "outputs": [],
      "source": [
        "beri_salam()"
      ]
    },
    {
      "cell_type": "code",
      "execution_count": null,
      "metadata": {
        "colab": {
          "base_uri": "https://localhost:8080/",
          "height": 166
        },
        "id": "SKd-hdpdRm7Q",
        "outputId": "26d6d1ea-1c12-45d1-9b19-2fe78926089c"
      },
      "outputs": [],
      "source": [
        "beri_salam()"
      ]
    },
    {
      "cell_type": "code",
      "execution_count": null,
      "metadata": {
        "id": "E2lyaRsBRpGh"
      },
      "outputs": [],
      "source": [
        "def f(x):\n",
        "  return 5-(5/2)*x"
      ]
    },
    {
      "cell_type": "code",
      "execution_count": null,
      "metadata": {
        "colab": {
          "base_uri": "https://localhost:8080/"
        },
        "id": "dSXAFXTrRyMI",
        "outputId": "60529995-9c64-48d2-ae88-c429f85e4f6a"
      },
      "outputs": [],
      "source": [
        "f(4)"
      ]
    },
    {
      "cell_type": "code",
      "execution_count": null,
      "metadata": {
        "id": "wqoXNUpERzLo"
      },
      "outputs": [],
      "source": [
        "def bio(nama, usia, gender, jurusan, alamat):\n",
        "  print('Nama     :', nama)\n",
        "  print('Usia     :', usia)\n",
        "  print('Gender   :', gender)\n",
        "  print('Jurusan  :', jurusan)\n",
        "  print('Alamat   :', alamat)"
      ]
    },
    {
      "cell_type": "code",
      "execution_count": null,
      "metadata": {
        "colab": {
          "base_uri": "https://localhost:8080/"
        },
        "id": "S_DZx60WSFJr",
        "outputId": "19596137-2a34-4a46-cd85-d9f2add060e0"
      },
      "outputs": [],
      "source": [
        "bio('Cahyo', 27, 'L', 'Informatika', 'Malang')"
      ]
    },
    {
      "cell_type": "code",
      "execution_count": null,
      "metadata": {
        "colab": {
          "base_uri": "https://localhost:8080/"
        },
        "id": "ATtOLCZSSIro",
        "outputId": "13f8dac9-df54-491a-92c5-360293a31852"
      },
      "outputs": [],
      "source": [
        "bio(27, 'Cahyo', 'Informatika', 'L', 'Malang')"
      ]
    },
    {
      "cell_type": "code",
      "execution_count": null,
      "metadata": {
        "colab": {
          "base_uri": "https://localhost:8080/"
        },
        "id": "F8QMaGXtSVuY",
        "outputId": "5334d935-a4cf-49e6-e5fc-5981d585e4a2"
      },
      "outputs": [],
      "source": [
        "bio(usia=27, nama='Cahyo', jurusan='Informatika', gender='L', alamat='Malang')"
      ]
    },
    {
      "cell_type": "code",
      "execution_count": null,
      "metadata": {
        "colab": {
          "base_uri": "https://localhost:8080/"
        },
        "id": "O170pYltSg_1",
        "outputId": "25a52fce-e09e-479a-e0be-f5dad3fa6d82"
      },
      "outputs": [],
      "source": [
        "bio(usia=27, \n",
        "    nama='Cahyo', \n",
        "    jurusan='Informatika', \n",
        "    gender='L',\n",
        "    alamat='Malang')"
      ]
    },
    {
      "cell_type": "code",
      "execution_count": null,
      "metadata": {
        "id": "Opazoaq5SiyH"
      },
      "outputs": [],
      "source": [
        "# Fungsi dalam Fungsi\n",
        "\n",
        "def beri_salam(nama):\n",
        "  print('Banjour!', nama)\n",
        "\n",
        "def bio(nama, usia, gender, jurusan, alamat):\n",
        "  print('Nama     :', nama)\n",
        "  print('Usia     :', usia)\n",
        "  print('Gender   :', gender)\n",
        "  print('Jurusan  :', jurusan)\n",
        "  print('Alamat   :', alamat, '\\n')\n",
        "  beri_salam(nama)"
      ]
    },
    {
      "cell_type": "code",
      "execution_count": null,
      "metadata": {
        "colab": {
          "base_uri": "https://localhost:8080/"
        },
        "id": "U-JrBh3ASvPv",
        "outputId": "9e78f117-30cb-47a6-cfe2-47e4cc50781e"
      },
      "outputs": [],
      "source": [
        "bio(usia=27, nama='Cahyo', jurusan='Informatika', gender='L', alamat='Malang')"
      ]
    },
    {
      "cell_type": "markdown",
      "metadata": {
        "id": "Y0rt746VS8Jl"
      },
      "source": [
        "### Global & Local Scope"
      ]
    },
    {
      "cell_type": "code",
      "execution_count": null,
      "metadata": {
        "colab": {
          "base_uri": "https://localhost:8080/"
        },
        "id": "6ozqx9sMS-bG",
        "outputId": "d731e0d1-c874-4438-b3da-be17b082e079"
      },
      "outputs": [],
      "source": [
        "# Global Scope\n",
        "nilai = 100\n",
        "\n",
        "def cetak():\n",
        "  print(nilai + 50)\n",
        "\n",
        "cetak()"
      ]
    },
    {
      "cell_type": "code",
      "execution_count": null,
      "metadata": {
        "colab": {
          "base_uri": "https://localhost:8080/",
          "height": 201
        },
        "id": "_o--sHChT6Ye",
        "outputId": "819afdbf-aa9c-4fd8-b10d-e7ed4dff61dc"
      },
      "outputs": [],
      "source": [
        "def cetak():\n",
        "  # local scope\n",
        "  nilai_2 = 50\n",
        "\n",
        "cetak()\n",
        "print(nilai_2)"
      ]
    },
    {
      "cell_type": "code",
      "execution_count": null,
      "metadata": {
        "colab": {
          "base_uri": "https://localhost:8080/"
        },
        "id": "BRNPZixhUD1F",
        "outputId": "e9ced281-8c3e-4b9f-a4ac-8998ea6fed29"
      },
      "outputs": [],
      "source": [
        "# mengubah menjadi global scpe\n",
        "\n",
        "def cetak():\n",
        "  global nilai_2\n",
        "  nilai_2 = 50\n",
        "\n",
        "cetak()\n",
        "print(nilai_2)"
      ]
    },
    {
      "cell_type": "markdown",
      "metadata": {
        "id": "4mXRMYtjV39W"
      },
      "source": [
        "### Docstring"
      ]
    },
    {
      "cell_type": "code",
      "execution_count": null,
      "metadata": {
        "id": "Ha9GOtOJV5Fj"
      },
      "outputs": [],
      "source": [
        "def hitung_nilai(presensi, tugas, uts, uas):\n",
        "  nilai_akhir = presensi*0.1 + tugas*0.2 + uts*0.3 + uas*0.4\n",
        "\n",
        "  if nilai_akhir >= 80:\n",
        "    return 'A'\n",
        "  elif nilai_akhir >= 70:\n",
        "    return 'B'\n",
        "  elif nilai_akhir >= 60:\n",
        "    return 'C'\n",
        "  else:\n",
        "    return 'Tidak Lulus'"
      ]
    },
    {
      "cell_type": "code",
      "execution_count": null,
      "metadata": {
        "id": "cwzQokPuXHcG"
      },
      "outputs": [],
      "source": [
        "def hitung_nilai(presensi, tugas, uts, uas):\n",
        "  \"\"\"Menghitung nilai akhir dan mengembalikan grade berdasarkan nilai akhir\"\"\"\n",
        "  nilai_akhir = presensi*0.1 + tugas*0.2 + uts*0.3 + uas*0.4\n",
        "\n",
        "  if nilai_akhir >= 80:\n",
        "    return 'A'\n",
        "  elif nilai_akhir >= 70:\n",
        "    return 'B'\n",
        "  elif nilai_akhir >= 60:\n",
        "    return 'C'\n",
        "  else:\n",
        "    return 'Tidak Lulus'"
      ]
    },
    {
      "cell_type": "code",
      "execution_count": null,
      "metadata": {
        "id": "LwsiywbdWgPq"
      },
      "outputs": [],
      "source": [
        "def hitung_nilai(presensi, tugas, uts, uas):\n",
        "  \"\"\"\n",
        "  Menghitung nilai akhir dan mengembalikan grade berdasarkan nilai akhir\n",
        "  \n",
        "  Keyword arguments:\n",
        "  presensi -- nilai kehadiran\n",
        "  tugas -- nilai tugas\n",
        "  uts -- nilai UTS\n",
        "  uas -- nilai UAS\n",
        "  \"\"\"\n",
        "  nilai_akhir = presensi*0.1 + tugas*0.2 + uts*0.3 + uas*0.4\n",
        "\n",
        "  if nilai_akhir >= 80:\n",
        "    return 'A'\n",
        "  elif nilai_akhir >= 70:\n",
        "    return 'B'\n",
        "  elif nilai_akhir >= 60:\n",
        "    return 'C'\n",
        "  else:\n",
        "    return 'Tidak Lulus'"
      ]
    },
    {
      "cell_type": "code",
      "execution_count": null,
      "metadata": {
        "colab": {
          "base_uri": "https://localhost:8080/"
        },
        "id": "JkzAXdSSWrUp",
        "outputId": "45372e59-a639-4ec4-ef54-84c2491e1605"
      },
      "outputs": [],
      "source": [
        "help(hitung_nilai)"
      ]
    },
    {
      "cell_type": "code",
      "execution_count": null,
      "metadata": {
        "id": "w1b680aRWuRp"
      },
      "outputs": [],
      "source": [
        "hitung_nilai?"
      ]
    },
    {
      "cell_type": "code",
      "execution_count": null,
      "metadata": {
        "id": "QiZ5vrNGWw7x"
      },
      "outputs": [],
      "source": [
        "hitung_nilai"
      ]
    },
    {
      "cell_type": "markdown",
      "metadata": {
        "id": "ul2zs4d5XR3s"
      },
      "source": [
        "## 03 Lambda Functions"
      ]
    },
    {
      "cell_type": "code",
      "execution_count": null,
      "metadata": {
        "id": "qzz1AAJmXTpp"
      },
      "outputs": [],
      "source": [
        "# function\n",
        "def luas_persegi(s):\n",
        "  return s*s"
      ]
    },
    {
      "cell_type": "code",
      "execution_count": null,
      "metadata": {
        "colab": {
          "base_uri": "https://localhost:8080/"
        },
        "id": "xXUCymS0Xe75",
        "outputId": "8057f332-6de1-4d64-a6db-67b356877a36"
      },
      "outputs": [],
      "source": [
        "luas_persegi(5)"
      ]
    },
    {
      "cell_type": "code",
      "execution_count": null,
      "metadata": {
        "colab": {
          "base_uri": "https://localhost:8080/"
        },
        "id": "5L_bCSUOX-mi",
        "outputId": "58e439e3-a0e1-4abf-dd55-71d1e7f379c6"
      },
      "outputs": [],
      "source": [
        "# lambda tanpa nama\n",
        "(lambda s:s*s)(5)"
      ]
    },
    {
      "cell_type": "code",
      "execution_count": null,
      "metadata": {
        "id": "c4t_3z7PXgeo"
      },
      "outputs": [],
      "source": [
        "# lambda dengan nama\n",
        "luas_persegi2 = lambda s:s*s"
      ]
    },
    {
      "cell_type": "code",
      "execution_count": null,
      "metadata": {
        "colab": {
          "base_uri": "https://localhost:8080/"
        },
        "id": "CZxCszayXwyw",
        "outputId": "2742606a-87ce-4dfd-ce20-96c375f474d3"
      },
      "outputs": [],
      "source": [
        "luas_persegi2(5)"
      ]
    },
    {
      "cell_type": "markdown",
      "metadata": {
        "id": "X5r2i0pIYIFv"
      },
      "source": [
        "# B. Iterators"
      ]
    },
    {
      "cell_type": "markdown",
      "metadata": {
        "id": "wWEl-N7AYP3r"
      },
      "source": [
        "## 01 Generators"
      ]
    },
    {
      "cell_type": "code",
      "execution_count": null,
      "metadata": {
        "colab": {
          "base_uri": "https://localhost:8080/"
        },
        "id": "Ip1Nsn--XzQI",
        "outputId": "d7ce3745-ac6e-4634-d65c-c2648959fcf8"
      },
      "outputs": [],
      "source": [
        "def simple_generators():\n",
        "  yield 1\n",
        "  yield 2\n",
        "  yield 3\n",
        "\n",
        "# x is a generator object\n",
        "x = simple_generators()\n",
        "\n",
        "print('Type of x - ', type(x))"
      ]
    },
    {
      "cell_type": "code",
      "execution_count": null,
      "metadata": {
        "colab": {
          "base_uri": "https://localhost:8080/"
        },
        "id": "SFVTuqgEYahg",
        "outputId": "af2bbe6c-9744-48be-9d4b-921935bcf452"
      },
      "outputs": [],
      "source": [
        "# iterating over the generator object\n",
        "print(next(x))"
      ]
    },
    {
      "cell_type": "code",
      "execution_count": null,
      "metadata": {
        "colab": {
          "base_uri": "https://localhost:8080/"
        },
        "id": "KdMRkXydYfc_",
        "outputId": "e116d2be-2de0-4e94-e118-c8e870145954"
      },
      "outputs": [],
      "source": [
        "print(next(x))"
      ]
    },
    {
      "cell_type": "code",
      "execution_count": null,
      "metadata": {
        "colab": {
          "base_uri": "https://localhost:8080/"
        },
        "id": "UxcwCFf_YznP",
        "outputId": "63777091-f51a-4306-f767-ea8eacb7f77e"
      },
      "outputs": [],
      "source": [
        "print(next(x))"
      ]
    },
    {
      "cell_type": "code",
      "execution_count": null,
      "metadata": {
        "colab": {
          "base_uri": "https://localhost:8080/",
          "height": 166
        },
        "id": "hd8pWGE7Y0Xu",
        "outputId": "d38319d6-52cf-4911-eb6d-3c2eaf695ad6"
      },
      "outputs": [],
      "source": [
        "print(next(x))"
      ]
    },
    {
      "cell_type": "code",
      "execution_count": null,
      "metadata": {
        "colab": {
          "base_uri": "https://localhost:8080/"
        },
        "id": "D67wIwsTZIfW",
        "outputId": "96b3bae9-eb54-4a64-ab40-04d94f5f253b"
      },
      "outputs": [],
      "source": [
        "def colors():\n",
        "  yield \"red\"\n",
        "  yield \"blue\"\n",
        "  yield \"green\"\n",
        "   \n",
        "next_color =colors()\n",
        "    \n",
        "print(next(next_color))\n",
        "print(next(next_color))\n",
        "print(next(next_color))"
      ]
    },
    {
      "cell_type": "markdown",
      "metadata": {
        "id": "sOi7uPY_Z_ID"
      },
      "source": [
        "## 02 map()"
      ]
    },
    {
      "cell_type": "code",
      "execution_count": null,
      "metadata": {
        "colab": {
          "base_uri": "https://localhost:8080/"
        },
        "id": "BCfOa-c1Zv9N",
        "outputId": "514a4147-f7fc-452f-8e32-1a10647c7e7e"
      },
      "outputs": [],
      "source": [
        "def hitung_kuadrat(a):\n",
        "\treturn a*a\n",
        "\n",
        "daftar_bil = [0, 2, 3, 4, 5]\n",
        "\n",
        "hasil = map(hitung_kuadrat, daftar_bil)\n",
        "\n",
        "print(hasil)\n",
        "print(type(hasil))\n",
        "print(list(hasil))"
      ]
    },
    {
      "cell_type": "code",
      "execution_count": null,
      "metadata": {
        "colab": {
          "base_uri": "https://localhost:8080/"
        },
        "id": "OHlvxmA7a6ly",
        "outputId": "a38dfe22-4b89-4815-835e-65f497cc6ff4"
      },
      "outputs": [],
      "source": [
        "# using lambda functions with map\n",
        "\n",
        "daftar_bil = [0, 2, 3, 4, 5]\n",
        "\n",
        "hasil = map(lambda a:a*a, daftar_bil)\n",
        "\n",
        "print(list(hasil))"
      ]
    },
    {
      "cell_type": "markdown",
      "metadata": {
        "id": "GsTl549MalIY"
      },
      "source": [
        "## 03 filter()"
      ]
    },
    {
      "cell_type": "code",
      "execution_count": null,
      "metadata": {
        "colab": {
          "base_uri": "https://localhost:8080/"
        },
        "id": "NOFmRySPaKUN",
        "outputId": "734766c7-e6f9-41a8-bd95-51c28322846a"
      },
      "outputs": [],
      "source": [
        "alfabet = ['a', 'b', 'c', 'd', 'e', 'u', 'k', 'i', 'x', 'y', 'z']\n",
        "\n",
        "def filter_huruf_vokal(alfabet):\n",
        "\tvokal = ['a', 'i', 'u', 'e', 'o']\n",
        "\tif alfabet in vokal:\n",
        "\t\treturn True\n",
        "\telse:\n",
        "\t\treturn False\n",
        "\n",
        "vokal_terfilter = filter(filter_huruf_vokal, alfabet)\n",
        "\n",
        "for i in vokal_terfilter:\n",
        "\tprint(i)"
      ]
    },
    {
      "cell_type": "code",
      "execution_count": null,
      "metadata": {
        "colab": {
          "base_uri": "https://localhost:8080/"
        },
        "id": "398-hcFSar5l",
        "outputId": "93961885-57e0-47fa-b3e9-be5ed8505e56"
      },
      "outputs": [],
      "source": [
        "def bil_genap(a):\n",
        "  if a%2 == 0:\n",
        "    return True\n",
        "  else:\n",
        "    return False\n",
        "\n",
        "daftar_bil = [2,3,4,5,6,7,8,9,10]\n",
        "\n",
        "hasil = filter(bil_genap, daftar_bil)\n",
        "\n",
        "print(hasil)\n",
        "print(type(hasil))\n",
        "print(list(hasil))"
      ]
    },
    {
      "cell_type": "markdown",
      "metadata": {
        "id": "9H8nccN3bpJp"
      },
      "source": [
        "# C. String Manipulation"
      ]
    },
    {
      "cell_type": "code",
      "execution_count": null,
      "metadata": {
        "colab": {
          "base_uri": "https://localhost:8080/"
        },
        "id": "-NDZpP1qbxNy",
        "outputId": "bdeda46a-f130-48e1-c304-12b392050d95"
      },
      "outputs": [],
      "source": [
        "string = \"Hello World\"\n",
        "\n",
        "print(string.upper())\n",
        "print(string.lower())\n",
        "print(string.title())\n",
        "print(string.capitalize())\n",
        "print(string.swapcase())\n",
        "print(string.split(' '))\n",
        "print(string.find('World'))\n",
        "print(string.replace('World','Cahyo'))\n",
        "print(' '.join(reversed(string)))"
      ]
    },
    {
      "cell_type": "code",
      "execution_count": null,
      "metadata": {
        "colab": {
          "base_uri": "https://localhost:8080/"
        },
        "id": "KdroQoxWcrul",
        "outputId": "44d3e9da-3b28-454e-c2a1-7fb12e7a2bc9"
      },
      "outputs": [],
      "source": [
        "# Python string format method\n",
        "\n",
        "# default\n",
        "print('default format: {}, {}, {}'.format('Cahyo','Widya','Roy'))\n",
        "\n",
        "# positional argument\n",
        "print('positional order: {1}, {0}, {2}'.format('Cahyo','Widya','Roy'))\n",
        "\n",
        "# keyword argument\n",
        "print('keyword order: {z}, {x}, {y}'.format(x='Cahyo',y='Widya',z='Roy'))"
      ]
    },
    {
      "cell_type": "markdown",
      "metadata": {
        "id": "VAt_AXaybslI"
      },
      "source": [
        "# D. File IO"
      ]
    },
    {
      "cell_type": "code",
      "execution_count": null,
      "metadata": {
        "id": "Hly8FWIDdv35"
      },
      "outputs": [],
      "source": [
        "# Write data file\n",
        "with open('write.txt','w') as f:\n",
        "    f.write('Good Morning from Cahyo !')"
      ]
    },
    {
      "cell_type": "code",
      "execution_count": null,
      "metadata": {
        "id": "1G2UoI47dx2o"
      },
      "outputs": [],
      "source": [
        "# Append Data to file\n",
        "with open('write.txt','a') as f:\n",
        "    f.write('\\nThis is first line')"
      ]
    },
    {
      "cell_type": "code",
      "execution_count": null,
      "metadata": {
        "id": "986_yyDCbeQT"
      },
      "outputs": [],
      "source": [
        "# Read text file\n",
        "with open('read_cahyo.txt','r') as f:\n",
        "    data = f.read()"
      ]
    },
    {
      "cell_type": "code",
      "execution_count": null,
      "metadata": {
        "colab": {
          "base_uri": "https://localhost:8080/",
          "height": 35
        },
        "id": "YgjbYPUdHKKk",
        "outputId": "4f430ce3-4c16-4196-848a-5a273897126e"
      },
      "outputs": [],
      "source": [
        "data"
      ]
    },
    {
      "cell_type": "code",
      "execution_count": null,
      "metadata": {
        "id": "Nu0adofYHZrS"
      },
      "outputs": [],
      "source": [
        "# jika menggunakan google drive\n",
        "from google.colab import drive\n",
        "\n",
        "drive.mount('/content/gdrive', force_remount=True)"
      ]
    },
    {
      "cell_type": "code",
      "execution_count": null,
      "metadata": {
        "id": "gzd7--e5ITtI"
      },
      "outputs": [],
      "source": [
        "%cd /content/gdrive/MyDrive/Code/term-weighting-scheme"
      ]
    }
  ],
  "metadata": {
    "colab": {
      "collapsed_sections": [],
      "name": "Python Functions, String Manipulation & File Handling.ipynb",
      "provenance": [],
      "toc_visible": true
    },
    "kernelspec": {
      "display_name": "Python 3",
      "name": "python3"
    },
    "language_info": {
      "name": "python"
    }
  },
  "nbformat": 4,
  "nbformat_minor": 0
}
