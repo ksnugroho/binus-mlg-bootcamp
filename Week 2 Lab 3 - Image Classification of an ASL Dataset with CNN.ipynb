{
  "cells": [
    {
      "cell_type": "markdown",
      "metadata": {
        "id": "weabkZTF3ZZM"
      },
      "source": [
        "<center><a href=\"https://www.nvidia.com/dli\"> <img src=\"https://developer-blogs.nvidia.com/wp-content/uploads/2020/03/DLI_Feature_new.png\" alt=\"Header\" style=\"width: 400px;\"/> </a></center>"
      ]
    },
    {
      "cell_type": "markdown",
      "metadata": {
        "id": "Dz8YI6Fb3ZZN"
      },
      "source": [
        "# 3. Convolutional Neural Networks"
      ]
    },
    {
      "cell_type": "markdown",
      "metadata": {
        "id": "8UWR4l4X3ZZN"
      },
      "source": [
        "In the previous section, we built and trained a simple model to classify ASL images. The model was able to learn how to correctly classify the training dataset with very high accuracy, but, it did not perform nearly as well on validation dataset. This behavior of not generalizing well to non-training data is called [overfitting](https://scikit-learn.org/stable/auto_examples/model_selection/plot_underfitting_overfitting.html), and in this section, we will introduce a popular kind of model called a [convolutional neural network](https://towardsdatascience.com/a-comprehensive-guide-to-convolutional-neural-networks-the-eli5-way-3bd2b1164a53) that is especially good for reading images and classifying them."
      ]
    },
    {
      "cell_type": "markdown",
      "metadata": {
        "id": "GmRLS07k3ZZN"
      },
      "source": [
        "## 3.1 Objectives"
      ]
    },
    {
      "cell_type": "markdown",
      "metadata": {
        "id": "Iuvwj_tr3ZZN"
      },
      "source": [
        "* Prep data specifically for a CNN\n",
        "* Create a more sophisticated CNN model, understanding a greater variety of model layers\n",
        "* Train a CNN model and observe its performance"
      ]
    },
    {
      "cell_type": "code",
      "source": [
        "!pip install -q triton"
      ],
      "metadata": {
        "id": "cbSiMcdHvaV_"
      },
      "execution_count": null,
      "outputs": []
    },
    {
      "cell_type": "code",
      "execution_count": null,
      "metadata": {
        "id": "9kMRTHEV2AFm"
      },
      "outputs": [],
      "source": [
        "import warnings\n",
        "warnings.filterwarnings('ignore')\n",
        "\n",
        "import torch.nn as nn\n",
        "import pandas as pd\n",
        "import torch\n",
        "from torch.optim import Adam\n",
        "from torch.utils.data import Dataset, DataLoader\n",
        "\n",
        "import torch._dynamo\n",
        "torch._dynamo.config.suppress_errors = True\n",
        "\n",
        "device = torch.device(\"cuda\" if torch.cuda.is_available() else \"cpu\")\n",
        "torch.cuda.is_available()"
      ]
    },
    {
      "cell_type": "markdown",
      "metadata": {
        "id": "xEGukATl3ZZN"
      },
      "source": [
        "## 3.2 Loading and Preparing the Data"
      ]
    },
    {
      "cell_type": "markdown",
      "metadata": {
        "id": "8nkS84yQum3U"
      },
      "source": [
        "### 3.2.1 Preparing Images"
      ]
    },
    {
      "cell_type": "markdown",
      "metadata": {
        "id": "-SyD7hID3ZZN"
      },
      "source": [
        "Let's begin by loading our DataFrames like we did in the previous lab:"
      ]
    },
    {
      "cell_type": "code",
      "source": [
        "!gdown 1UAbN8FBfJsQLeEx8uJcEEeS7SJf_mlab\n",
        "!gdown 1t7-vjrVdgMIxf_ATC5i7kfWHPbPhnaa8"
      ],
      "metadata": {
        "id": "ykA4LcEhvtYK"
      },
      "execution_count": null,
      "outputs": []
    },
    {
      "cell_type": "code",
      "source": [
        "!unzip asl_image.zip\n",
        "!unzip asl_data.zip"
      ],
      "metadata": {
        "id": "V4gGInCJvwTQ"
      },
      "execution_count": null,
      "outputs": []
    },
    {
      "cell_type": "code",
      "execution_count": null,
      "metadata": {
        "id": "XMMgEMcc2Ehg"
      },
      "outputs": [],
      "source": [
        "train_df = pd.read_csv(\"sign_mnist_train.csv\")\n",
        "valid_df = pd.read_csv(\"sign_mnist_valid.csv\")"
      ]
    },
    {
      "cell_type": "markdown",
      "metadata": {
        "id": "i1ilYidBum3W"
      },
      "source": [
        "This ASL data is already flattened."
      ]
    },
    {
      "cell_type": "code",
      "execution_count": null,
      "metadata": {
        "id": "SE-Qu3qEum3W"
      },
      "outputs": [],
      "source": [
        "sample_df = train_df.head().copy()  # Grab the top 5 rows\n",
        "sample_df.pop('label')\n",
        "sample_x = sample_df.values\n",
        "sample_x"
      ]
    },
    {
      "cell_type": "code",
      "execution_count": null,
      "metadata": {
        "id": "-ULWeWcVum3W"
      },
      "outputs": [],
      "source": [
        "sample_x.shape"
      ]
    },
    {
      "cell_type": "markdown",
      "metadata": {
        "id": "Vko9YKJsum3X"
      },
      "source": [
        "In this format, we don't have all the information about which pixels are near each other. Because of this, we can't apply convolutions that will detect features. Let's [reshape](https://numpy.org/doc/stable/reference/generated/numpy.reshape.html) our dataset so that they are in a 28x28 pixel format. This will allow our convolutions to associate groups of pixels and detect important features.\n",
        "\n",
        "Note that for the first convolutional layer of our model, we need to have not only the height and width of the image, but also the number of [color channels](https://www.photoshopessentials.com/essentials/rgb/). Our images are grayscale, so we'll just have 1 channel.\n",
        "\n",
        "That means that we need to convert the current shape `(5, 784)` to `(5, 1, 28, 28)`. With [NumPy](https://numpy.org/doc/stable/index.html) arrays, we can pass a `-1` for any dimension we wish to remain the same."
      ]
    },
    {
      "cell_type": "code",
      "execution_count": null,
      "metadata": {
        "id": "8RliseJHum3X"
      },
      "outputs": [],
      "source": [
        "IMG_HEIGHT = 28\n",
        "IMG_WIDTH = 28\n",
        "IMG_CHS = 1\n",
        "\n",
        "sample_x = sample_x.reshape(-1, IMG_CHS, IMG_HEIGHT, IMG_WIDTH)\n",
        "sample_x.shape"
      ]
    },
    {
      "cell_type": "markdown",
      "metadata": {
        "id": "TezMnI-Fum3X"
      },
      "source": [
        "### 3.2.2 Create a Dataset"
      ]
    },
    {
      "cell_type": "markdown",
      "metadata": {
        "id": "uZfqA__Bum3X"
      },
      "source": [
        "Let's add the steps above into our `MyDataset` class."
      ]
    },
    {
      "cell_type": "markdown",
      "metadata": {
        "id": "6-KVg4zDum3X"
      },
      "source": [
        "#### Exercise"
      ]
    },
    {
      "cell_type": "markdown",
      "metadata": {
        "id": "eo10nlUpum3Y"
      },
      "source": [
        "There are 4 `FIXME`s in the class definition below. Can you replace them with the correct values?"
      ]
    },
    {
      "cell_type": "code",
      "execution_count": null,
      "metadata": {
        "id": "tpzGOri32Klj"
      },
      "outputs": [],
      "source": [
        "class MyDataset(Dataset):\n",
        "    def __init__(self, base_df):\n",
        "        x_df = base_df.copy()  # Some operations below are in-place\n",
        "        y_df = x_df.pop(FIXME)\n",
        "        x_df = x_df.values / 255  # Normalize values from 0 to 1\n",
        "        x_df = x_df.reshape(-1, FIXME, FIXME, FIXME)\n",
        "        self.xs = torch.tensor(x_df).float().to(device)\n",
        "        self.ys = torch.tensor(y_df).to(device)\n",
        "\n",
        "    def __getitem__(self, idx):\n",
        "        x = self.xs[idx]\n",
        "        y = self.ys[idx]\n",
        "        return x, y\n",
        "\n",
        "    def __len__(self):\n",
        "        return len(self.xs)"
      ]
    },
    {
      "cell_type": "markdown",
      "metadata": {
        "id": "bZR560uGum3Y"
      },
      "source": [
        "### 3.2.3 Create a DataLoader"
      ]
    },
    {
      "cell_type": "markdown",
      "metadata": {
        "id": "krHEBqj7um3Z"
      },
      "source": [
        "Next, let's create the DataLoader from the Dataset"
      ]
    },
    {
      "cell_type": "markdown",
      "metadata": {
        "id": "n8T--4coum3Z"
      },
      "source": [
        "#### Exercise"
      ]
    },
    {
      "cell_type": "markdown",
      "metadata": {
        "id": "SSLV7N5Qum3Z"
      },
      "source": [
        "One of these function calls is missing the `shuffle=True` argument. Can you remember which one it is and add it back in?"
      ]
    },
    {
      "cell_type": "code",
      "execution_count": null,
      "metadata": {
        "id": "unf8Cz4WcK_M"
      },
      "outputs": [],
      "source": [
        "BATCH_SIZE = 32\n",
        "\n",
        "train_data = MyDataset(train_df)\n",
        "train_loader = DataLoader(train_data, batch_size=BATCH_SIZE)\n",
        "train_N = len(train_loader.dataset)\n",
        "\n",
        "valid_data = MyDataset(valid_df)\n",
        "valid_loader = DataLoader(valid_data, batch_size=BATCH_SIZE)\n",
        "valid_N = len(valid_loader.dataset)"
      ]
    },
    {
      "cell_type": "markdown",
      "metadata": {
        "id": "2wL2zBoaum3a"
      },
      "source": [
        "Let's grab a batch from the DataLoader to make sure it works."
      ]
    },
    {
      "cell_type": "code",
      "execution_count": null,
      "metadata": {
        "id": "Z4xylt03dz1W"
      },
      "outputs": [],
      "source": [
        "batch = next(iter(train_loader))\n",
        "batch"
      ]
    },
    {
      "cell_type": "markdown",
      "metadata": {
        "id": "iWgkwjVqum3a"
      },
      "source": [
        "It looks different, but let's check the `shape`s to be sure."
      ]
    },
    {
      "cell_type": "code",
      "execution_count": null,
      "metadata": {
        "id": "vannMV7sd6R_"
      },
      "outputs": [],
      "source": [
        "batch[0].shape"
      ]
    },
    {
      "cell_type": "code",
      "execution_count": null,
      "metadata": {
        "id": "YHJgP3A7d9lu"
      },
      "outputs": [],
      "source": [
        "batch[1].shape"
      ]
    },
    {
      "cell_type": "markdown",
      "metadata": {
        "id": "6biSPXKJ3ZZP"
      },
      "source": [
        "## 3.3 Creating a Convolutional Model"
      ]
    },
    {
      "cell_type": "markdown",
      "metadata": {
        "id": "ppdkNb1A3ZZP"
      },
      "source": [
        "These days, many data scientists start their projects by borrowing model properties from a similar project. Assuming the problem is not totally unique, there's a great chance that people have created models that will perform well which are posted in online repositories like [TensorFlow Hub](https://www.tensorflow.org/hub) and the [NGC Catalog](https://ngc.nvidia.com/catalog/models). Today, we'll provide a model that will work well for this problem.\n",
        "\n",
        "![ccn.png](data:image/png;base64,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)\n",
        "\n",
        "We covered many of the different kinds of layers in the lecture, and we will go over them all here with links to their documentation. When in doubt, read the official documentation (or ask [Stack Overflow](https://stackoverflow.com/))."
      ]
    },
    {
      "cell_type": "code",
      "execution_count": null,
      "metadata": {
        "id": "p_bvGpMId_6q"
      },
      "outputs": [],
      "source": [
        "n_classes = 24\n",
        "kernel_size = 3\n",
        "flattened_img_size = 75 * 3 * 3\n",
        "\n",
        "model = nn.Sequential(\n",
        "    # First convolution\n",
        "    nn.Conv2d(IMG_CHS, 25, kernel_size, stride=1, padding=1),  # 25 x 28 x 28\n",
        "    nn.BatchNorm2d(25),\n",
        "    nn.ReLU(),\n",
        "    nn.MaxPool2d(2, stride=2),  # 25 x 14 x 14\n",
        "    # Second convolution\n",
        "    nn.Conv2d(25, 50, kernel_size, stride=1, padding=1),  # 50 x 14 x 14\n",
        "    nn.BatchNorm2d(50),\n",
        "    nn.ReLU(),\n",
        "    nn.Dropout(.2),\n",
        "    nn.MaxPool2d(2, stride=2),  # 50 x 7 x 7\n",
        "    # Third convolution\n",
        "    nn.Conv2d(50, 75, kernel_size, stride=1, padding=1),  # 75 x 7 x 7\n",
        "    nn.BatchNorm2d(75),\n",
        "    nn.ReLU(),\n",
        "    nn.MaxPool2d(2, stride=2),  # 75 x 3 x 3\n",
        "    # Flatten to Dense\n",
        "    nn.Flatten(),\n",
        "    nn.Linear(flattened_img_size, 512),\n",
        "    nn.Dropout(.3),\n",
        "    nn.ReLU(),\n",
        "    nn.Linear(512, n_classes)\n",
        ")"
      ]
    },
    {
      "cell_type": "markdown",
      "metadata": {
        "id": "8WsDr9gE3ZZP"
      },
      "source": [
        "### 3.3.1 [Conv2D](https://pytorch.org/docs/stable/generated/torch.nn.Conv2d.html)"
      ]
    },
    {
      "cell_type": "markdown",
      "metadata": {
        "id": "8eHXRtWa3ZZP"
      },
      "source": [
        "![conv2d.png](data:image/png;base64,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)\n",
        "\n",
        "These are our 2D convolutional layers. Small kernels will go over the input image and detect features that are important for classification. Earlier convolutions in the model will detect simple features such as lines. Later convolutions will detect more complex features. Let's look at our first Conv2D layer:\n",
        "```Python\n",
        "nn.Conv2d(IMG_CHS, 25, kernel_size, stride=1, padding=1)\n",
        "```\n",
        "25 refers to the number of filters that will be learned. Even though `kernel_size = 3`, PyTorch will assume we want 3 x 3 filters. Stride refer to the step size that the filter will take as it passes over the image. Padding refers to whether the output image that's created from the filter will match the size of the input image."
      ]
    },
    {
      "cell_type": "markdown",
      "metadata": {
        "id": "OiuMlsan3ZZQ"
      },
      "source": [
        "### 3.3.2 [BatchNormalization](https://pytorch.org/docs/stable/generated/torch.nn.BatchNorm2d.html)"
      ]
    },
    {
      "cell_type": "markdown",
      "metadata": {
        "id": "Mp72aAnK3ZZQ"
      },
      "source": [
        "Like normalizing our inputs, batch normalization scales the values in the hidden layers to improve training. [Read more about it in detail here](https://blog.paperspace.com/busting-the-myths-about-batch-normalization/).\n",
        "\n",
        "There is a debate on best where to put the batch normalization layer. [This Stack Overflow post](https://stackoverflow.com/questions/39691902/ordering-of-batch-normalization-and-dropout) compiles many perspectives."
      ]
    },
    {
      "cell_type": "markdown",
      "metadata": {
        "id": "twarf_s63ZZQ"
      },
      "source": [
        "### 3.3.3 [MaxPool2D](https://pytorch.org/docs/stable/generated/torch.nn.MaxPool2d.html)"
      ]
    },
    {
      "cell_type": "markdown",
      "metadata": {
        "id": "MoNIzZZW3ZZQ"
      },
      "source": [
        "![maxpool2d.png](data:image/png;base64,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)\n",
        "\n",
        "Max pooling takes an image and essentially shrinks it to a lower resolution. It does this to help the model be robust to translation (objects moving side to side), and also makes our model faster."
      ]
    },
    {
      "cell_type": "markdown",
      "metadata": {
        "id": "mzHlBRja3ZZQ"
      },
      "source": [
        "### 3.3.4 [Dropout](https://pytorch.org/docs/stable/generated/torch.nn.Dropout.html)"
      ]
    },
    {
      "cell_type": "markdown",
      "metadata": {
        "id": "FJjrPvkm3ZZQ"
      },
      "source": [
        "![dropout.png](data:image/png;base64,iVBORw0KGgoAAAANSUhEUgAAAzEAAAGBCAIAAADZoaiLAAAAAXNSR0IArs4c6QAAAARnQU1BAACxjwv8YQUAAAAJcEhZcwAADsMAAA7DAcdvqGQAAJrwSURBVHhe7f0HdBtXtucLgxHMOYkUSZESqUQqW9lykiXZlm3J3e0ObtudZD3Pa/t237XeenPnrrmj+da682a+b725s9rd47Yc2nYHd/C1ZDlIsmW1bOWcqEBKJEVSJMWcA5jw/YF9eFgCSBAEqoAqaP+WFrXPQeGcvXH2v2pXASgEWa1WE8MwDMMwDONXgsX/DMMwDMMwjP/gmoxhGIZhGMb/cE3GMAzDMAzjf7gmYxiGYRiG8T9ckzEMwzAMw/gfrskYhmEYhmH8D9dkDMMwDMMw/odrMoZhGIZhGP/DNRnDMAzDMIz/4ZqMYRiGYRjG/3BNxjAMwzAM43+4JmMYhmEYhvE/XJMxDMMwDMP4H67JGIZhGIZh/A/XZAzDMAzDMP6HazKGYRiGYRj/E2S1WoWpMTSR8i8RFBTk8FefGN1/EAAhMJoSABkybghG9x8YKARGU4yeIUb3H2gago9qMsyipGeguau/0WoajglPizGnBQcHIwCJeI6eEH6PYjj/gXB9FCOGwGiKyIxRjJ7kAwMD3d3dnZ2dMTExsbGxZrNZuG5HPEFnCNdHYZEyDojMGKWnpwcZDoOSnI+kPkC4PorqIWhYk5HHYHh4eGCw70bzoYrWr6s7jvcMNostRokOS8mJX5Wf9EBByoPhYZGISgYmtvAHwnvD+g9EAEYOgdEUkR/GT/KRkRGE0NbWdsNOQ0ODxWIRW9hBTZaenl5gJzExMSQkRFf+AxYpMy4iP+wZgqxGepeXl9+6dQsFmdhilOjo6BkzZsycORNJjoTXSYYI7/lI6h5a1WQUAHaU7b21R2/99krjrhHrsHhsYoKDQuanbV2duz0xerp/F8Po/oMACIHRlADIEAoBO8rKysojR45UV1eLB1ySk5Ozdu3avLw8VGZ68J9FykzEWIa0tx8+fPjy5cuwxWMTg6woLi5GkuP0w78ZMuY/H0ndC0H9mowCGBoasgz2Hbv1+pn63yEc8Zh7BAUFL5v249UzXo4Ij0IwFI94THuM7j8IgBAYTQmADMEukkJoamo6evTotWvXxANuM3fu3DVr1qSmpoaGhsJ5hCAe8AkBsASMpoxliMWC841Tp06hKR5zD+TD8uXLUZlFRET4PkPG/Ocj6VRCUL8mw74Sp6317df2lv1zU+910TtKdkpxatyM6IiEKHMCwuu1dPRa2ps7q6qbL4stRkmNmvP47P+WHjeb9pg+Wwyj+w8CIARGU4yeIdhrUQjXr1//7LPPHN6mxBEoIyMjOjoahtls7rfT29t7584dGGIjO3j0iSeemDNnjnwrUzygPSxSxjWUIXV1dcjwxsZG0TtKenp6QkICMhxADkhsqKC9vb2hoUFsMUpaWtrmzZuhCD6SThW/hKBmTYYAMNrAwEBZ41f7b/7ngZFu8QDSIj6vKGd9duqCsBCz6LqbwWFLTdOlkuoDjR2Vogt7zJDY9fn/dW7Go4iE3mUQD2iDC/9T4/OKde8/MPoSMFoTABmCEABCOHPmzMGDB0WvnenTp+fm5iYnJ4u2Ey0tLVVVVbdv3xZtOw8//PCyZcvCw8PpRFb0akYALAGjKTJDcMqxd+9eGOIBkykxMTE/Px8FGdZadN3N0NAQyrKKioq2tjbRhQwxmzdu3Dhv3jzfZEgAZLgfQwjCxML0DoyDMFBUXqnb/9mNfxS9JlNsZMri/CcKM9eI9mSU1R09X/FZV9/YR+eeLPy32enrscdEGNothtH9BwEQAqMpgZHk8B+cPHlSWZChDps9e3ZKSopou6S5ubm0tBT1mWjby7IVK1ZgX6n1Hp9FyrhGZkhJScmePXtEr8kUFRVVWFiYk5Mj2pNRXV1dVlbW29sr2ibT008/PXfuXD6STop/QwjZsWOHML2AYkBRWdd29dOyXw5bRV2flTR3w+JXMhILqOkOybE5+enLWrpuy0hutR2dHrMqxmzb22p0Fmt0/0EAhMBoSgBkCPxHFAjh5s2bn3/+uei1f2Z/+fLlOGiJ9mRgSzylr6+vo6ODeiorK9PT0+Pj41GToanRHp9FyrhGZkhtbe3HH3+MsoD6U1NTcc7g4gKwM0jmzMzMzs5OWZYhybOzs2NiYmDzkXQi/B6CmjVZT1/Xx9df7R6sp86E6GlPr/insNAIaroPnlKQuaqi4Uz/oO2CIV6U+q5Lc1I2hwRrdd3S6P6DAAiB0ZQAyBD4j6NUS0vL7t27sdOkztmzZxcVFZE9JTIyMvBXXi2rqamZNWtWZGQknNf0iMUiZSZCZEhPz65du7q6uqgTVdS6desmerPSBXgKijCUdyQWaKeurm7evHlID40yhI+kDngQggo1GWIYGhoaHBw8XPFaZad4NyEzaS5iINsz5mU/1NB+kwrMvqEWjJ8Vu4zyUt3FMLr/IABCYDQlMJIc4+PocvDgQRxmqHP69OnFxcVke0BKSgrddRM2Ru7v78/Ly4PnWuzxWaSMa2SGfP311+Xl5dSZmpqKgoxsz0BKt7a20tUy/MX4UA0fScdFDyF4ezqIGCiMlq7qC02/p87YyJQHi35Ctjc8UPQTDEX2+cb3MQUqfUxHPapgdP9BAITAaEoAZIgMob6+/urVq9QZHx+/aNEisj0GI2AcsjEyxscsNB11qgINyCJlJmIsQ1pazp07R51RUVGLFy8m2xswiHxn/+zZs5iCj6TO6CQEFWoyDI1TzJO330KLOhfnPxFlFrs5b8AgGEo0TNbTde9gItpjij6vMbr/IABCYDQlkJL89OnTostkKiws9P5NRoyAcUTDZML4mAVzaeQ/i5QZF5khx48fF132DI+ImPL7Zc5gEGWSnzx5UvUMCYAM10kI3u7R6BMeff3dN9o/o560+Dz3v5gwKRgKA5J9s+NzTERhOEfiGUb3HwRACIymBEySd3d337hxg3pSUlKmTZtGtpdgHPmFTYyPWTAXZqQeVWCRMq6hDOnt7S0tLaWexMRE979lOSkYCgOSTd/H5COpAzoJwduaDDEMDg7ebPla/tpAUc56MtRCDogpbjQfwnR47dRaCaP7DwIgBEZTAibJ5YdsQH5+vrDUQDkaZsFcmFG01YBFyrhGZMjNm1g16lE3w4EcEFPg3EPdDAmYnYzfQ/CqJsNYGBHjVnceFV0mU3bqAmGphHLAW+2HVVwJo/sPAiAERlMCKcmrqqqoJzg4OC0tjWxVwGjybVDMopH/LFJmXJwzHKSnpwtLJZQDVlZWqpghAZDh+gnB85oMA4Eh+5cU7vSdpc6clOKJbm7rMRgwO0V8tQoTYTrUsw5heIDR/QcBEAKjKQGQIcoQ6urqqFNZQqmCssjDLJgLM9LU1OkxNAiLlJkIZYbIDHdxp36PwYCyLKMk5yMpoasQvL1OhhEtFkvfcCv1pMTlkqEuqaPDYqIB+ydwUV1SjzcY3X8QACEwmhJISQ6oR35TUkXkmDQRZsS81OMlLFLGNWMZ0tdHPQkJCWSoixwWE/GRVIl+QvD2OhlG7LaM/TxqlFmTTFIO2zPQpMpKGN1/EAAhMJoSABkiQ5C30ASqfBnNAeWYmAsz0tSiy1NoEEMvAaMpMkOUGW42q3yFhlAOq9Z3WaT/fCR1h0lD8Komw1igyzL2Q/SqfGvUGeWw3QONCINeRNHlEUb3HwRACIymBECGjIWg8RFLOSbmoknV9J9FyozHWIZofNYBlMNSTeZ9hoz5z0dSN5g0BG8/k4EwlMP5AAoAiLZ3GN1/EAAhMJrCST5VMBdmFA01YJEyrjF6hvBOxgPIfyDadrz9PBkwB4m7noBei/hNX3VRDovpHGLwGKP7DwIgBEZTAiBDRAiK61iW0Q+WqYhyTMxFk4q2d9BQLFJmIkSGKDK8v79fWKqiHJaSXDS8Q/jPR1I3mDQEb6+TgcjQsR+r77W0C0tVlMNGhCQJSyWM7j8IgBAYTQmEJI+MFJY2RyzlmMq51IJFyrhG/vwR0OKsAyiHVT3J+UjqDpOG4G1NRr+gaQ4SH1tr6hy7vYqKNI8Oi4nU/dlRo/sPAiAERlMCI8lBeHg4NTs61D+FlWNiFpqOmqpAo7FImYkQGTJ6qay9XZOCQA6LiTjDHdBJCF7VZBgxODg4JCQkOVTcCa2m+fLgsMoFPgasbr5MdlJIMWYEqqyH0f0HARACoymBlOTyF5AaGxtV/7wXxiQbs2AuLfxnkTLjIjMkNTWVehoaGoaGhshWCwyIYclGkquYIQGQ4foJwfOaDAPJMNLCl4peRNJ0SVgqoRwwNWzJuGF4gNH9BwEQAqMpAZAhyhDkHS+VJZQqKIs8zIK5yH9AnR5Dg5D/LFLGGWWGKG+1L+sntVAOSHddViVDlP7zkdQ17oTg1XUyiiEsLGxaxLKg0aFKqg+QoRZyQEyRFbU8NDQUk9KLSP0eY3T/QQCEwGhKICV5Zmam6DKZKioqhKUGytEwC+bCjJhXdHkHi5RxzViGTJsm10vdDAdyQEyRlZXFR1Il+gnB850ODYQRMW54WGR68P3U39hRWVY39otRXoKhMCDZGSHrMJFau0uj+w8CIARGUwIgQ5QhREREyAsJzc3N9fX1ZHsJxsFoZGN8zIK5MCNNTf0eQ4MYegkYTVFmiNlsRllG/W1tbdXV1WR7D4bCgGTjrAMT8ZFUoqsQvIqHwgi3k29+Gh3Uf77iM1W+R4pBMJRomIJmRmzB7lLdlTC0/yAAQmA0JcCSfNasWaIX+7iyMu8/VYYRMI5omEwYnybCjJhX9HoHi5RxjYsMV+UrxhhEmeQFBQV8JHVAPyF4Hg/tsDAixkXRHR+ZmR38OD3U1df8dck7ZHvDoZJ3MBTZWaZNmEJW9zS7NxjdfxAAITCaEnhJnpSUJN/B7OjouHDhAtkegxHkNy4xMsaX/qPH+xACYAkYTXHMkPj43Fzxk4i9vb3nz58n2xswCIYiOzs7G1OomCEBkOG6CiFkx44dwpw6GMtqteLv0NAQTjcjh3MbLecGgzrxEKavaDgzL/sh2tIDPjz2X5o6xYW+KGt2cfTLcbHxcXFxqC5RyWJSQI96DEYwtP8Agxg9BEZTsEaBlOTDw8PYl9XX18PAQ52dtkDk9zGnSmlpaWWl8B8OL1y4MDExMSYmJjo6GvtKQA95idJ/FinjDNZImSFRUVENDQ2Dg4N4CLVUbW1tXl4ebekBBw8elLfAQGIjyZEe6mYIRgiknYx/Q/CqJgM0HGJAPMNDI2H9WU0jp6xBti/x9g9232m/mZU8Lyx0aj/d1WvpOHDxdRlDiDWyKOzVpJgsxBAbG4sYQkNDlTF4g9H9BwEQAqMpAZAhFIL8bThUS/J7ly0tLX19fRkZGdR0nwsXLig/Rj1v3rxp06bBfxwRIyMjMYXq/rNImYm4K0OGh7F8yHDYeGhgYKC1tTU1NRULShu7SX9//+nTp2VBhpResGBBUlKSFhlyl/98JB3FgxC8rckIhIG/yKQQa3TYYEqz9TT1o8C81Xg+PDQiOTaHeialrO7o11d+19w19tnGgqBtWXGL4+Pjcf6K3aXt7FWl81fJJP6HRCTH6dp/YPQlYLQmADKEDlEIISwsDAYOVPZu25uYzc3NmBdQj2uw8fnz5+/cuSPa9o+RzZgxg3aUdPIarMGNJFikjGtkhuBQjSRvamqi/t7e3vr6enRifalnUqqrq5Hkyrsrz5kzZ/r06ZpmSABkuN9DUOc6GcAuDMFgpxk+khLSn9ZhukoF5sBQb1XTxdstJWEhETGRKSHB41f6g8OWqsbzh6++f7XmEJ5CnSgqC0w/y4peiX0lwkAM2F0iBkxHG3gPOQ9c+1/TUoLKTIf+A/IfGHQJGK2h9ADGzRDyHwaFACIjI/FXXgPo6+urqanp6elBOQUfqNOZlpaW69evX7lyBduLLpMJ1djMmTPhP8C+UvXzb0D+AxYpMy6UHkBmiNlsRh4iw2Fjg8HBQZxFNDY2ohNLjM3oiQ4MDQ2hert48eKtW7fo3U+AZJg9e3Z2drZ2GULOA6PvZIB/Qwii9fYS5AHqSuwQAQrzzs7Olt7ysuF3+oJviy1GyUkpTonLjTInRJlt9X6vpaPX0t7UWVUzenNbSeTI9FlBP0qLLcSZK8IAyFFAr5rYSCWM7j8IgBAYTQmMJAcyBFBbW1tWVoa4xBZ2sLPLyMigvZ7FYoE//f39vb29OKQ5fIsN+8TCwsKsrCzsJUG0HRzzgNhCVQJgCRhNcc6Q5uZmnEXIT+hL0tPTExISsNBIcjSR2Eh1FHDOd5qFEJDk2J6PpO7g9xDUqckwCEBOAMSASLq6ujq62m6PfNYQegCPi+3uZqR2bnDqLVP42AnrKEFpg4/khj0VHRmLtJP7SuxAx60rvccD/60d6UHxE91n2df+g6mGAP+tPYnBmddF2xE/hMBoylQzhNCPSAH8x/krhQD/KYSmpqaamhr5Pqb7JCUlZWdnp6amYkcJ/wHtKHGWzCJl/ML4GdLRUV1d7dnd+HBykpeXh6zgI6mbTDUE1UWqzufJ5NB0QRWTwQgNCYsPmp0wsGzIaukPrlUGM1K9YOTGKmtL7sid2abQwaDYFuoPMgUnD68qNL2UGbmSvpgAYmJisKMMCwvDmDS+6nji/81V1saZI5VLTaFDQbHiO67+8h+4HwJyCM6P1CywtmfCNllilJLwYwiMphhdpARFQVNQCOHh4cnJyZGRkdiHDgwM2LeaBBRh+XZoL0k7Sowgr5DJ10pdWKSMa8bPkNBQJCpOIYaGhpTvubsA4+BkY+7cuVlZto+TE3wkdQe/i1Sd62QEhsJZLHaLoKenp7u7m/5iX9lv6WkzlXQElXSHlA4Fdw0dfU48x05wXEvc9J7EyLyUkIXhYZFR9u89wXtANl4XIF8sjXDT/4HbeSM1xeI5dsLnnIqLi48dnudf/8GkIdTX1ffWOt44IHTNH0NHYmOGZ+shBEZTjC5SIEOAz/AcZ7EUAnpgt7W1tbe3owebiSfYwR4QfuLYlpiYiJoMlRw8RykGGwZ2lBp9rt8ZFinjGhcZgpqMMryzsxMlmnjCKFh65DOqt5SUFKS0vzLEzZ0MH0nHReWaDH/p7Vh6e7u3txc5RPagHTwETp48SU9RMn36dNT1cJqIiIjAX+woAQKYqKhUEXf8v3XrVk1NDW0vwUu8aNEiVMFwFUrwl//ARQj19fU3btyQn4lWsnLlSnhIFwn8HgKjKUYXKZAhALgNEAKA/xRCeXn5uCJdsGBBfHw8TlKR4QC7SIAQACU/NkMUtL12sEgZ1xhdpO74z0fSiVCzJiMwIEAkiAeRAISBYFBvwkYn+Oqrr8TWd4Nd5NKlS4uKihADvPfLdXgX/tfV1Z04cUJsdzc4/37wwQfp1Sf85T9wDmHXrl3Kb/47sH79ejhJDgvv7fgxBEZTnDPEWCIFFAK5CuclEOmRI0fERneDggwixY6S0pugHSh2lEBs5xPIfxYpMxHOGYL05iOpL3EOwQciVefzZErkrg3Tw0blK2tG8g8vd0lJCW3jAMpn+qlUunkjXeKTA/oGOZ2z/3v27KGHUlNTUTWTTSDbsGzz58+nZML2eJZf/AdyRoRw9OjRjz76qLu7m3okyhCWL19OF1ftnz60fbDG7yEwmqLMENiGEymgGfEXIQD4TyFgp0kbpKWl9fT0kE1gl0oixRELAWJj7CjhP70IYiNfIWfE7CxSxhllhsA2nEjldM7+85HUBZoUnpiYFgAOYfcXG2v7xkFSUlJycnKKHbGdybRu3TphmUxYKjLKy8vffvttvAR+2VeCcf2/du2aeNhkWrt2rbBMpoceEj+5cPPmzcuXL2NjPAWxUF3sF/8B5q2pqfnDH/6Al1F02a8TCOvuEJBVWBSsDtYI2+gkBEZTxk1yA4kUKEPAHhDHHuUhas2aNcJSiBRuYxtsie3xLLmvpEd9DOZlkTIuUGa4EUU6rv98JHWN5hcD4QqtCtyCc7Q24jF7Xbl06VKycRZbUFBANjh06NDrr79eWloq2n6C/Md6yCXBvl750/333XffihUryD5y5MjVq1f9mECSv//97+++++6tW7eomZubu2DBgo7Rezo7hEDlPFZHVvR6CIHxGYYWKRIVIASobyKRLlu2DFGQjW1wVKAMB9TpF1ikjPsYWqSA/LcfSPlI6gptazLbPs++u4RzlElwGoiH7W97b968WUZVXV39zDPPzJgxg5oNDQ0ffPDB7t27O+2/NOx7yP+vv/76m2++oZ4HHnhg/fr1SjEgnE2bNs2ZM4eaH3/8sWc3klELZA9yCD6Ltt1nvKSXLl2STecQKJOwRsgkPSiB8RmU5MYVKYD/OPC4ECnsxx57bPbs2dQkkeJZ1PQ9LFJmStgkykdS3+Ivkfr6Q3NA6SU5vXXr1sTERDRR4J84ceL5559//PHHERhtc+HChV//+tfjfsHEB2Bh5KpgDR566CFbcilCoCZCSEtLQ3NkZGTXrl39d98u3DdQDgEY1IME+tGPfpSXl+dOCKLBMIEr0tTUVDRZpEwAoMwHPpKqiH9F6oeazJno6OgtW7aQXVdXh3J++fLlr7zyyuLFi6lzYGBg7969v/vd71D+U4/PwMKQgVXBGpDtDPIeIeAkBnZTU5P8oLHPcLjECpBDAG67GQLDuCAARIpTWOzxWaRMoMJHUu/xu0h1UZOB3Nzcp556iuzLly8fOnQoJibm6aeffu6559LT06m/qqrqnXfe2bdvHxKLerQGyyMsk+nBBx8U1gRkZmZij092aWnpF198QbbWUFEv63eAEn7Hjh3IG9hTCoFhXBAYIpUHLRYpE3jwkdRjdCJSvdRkYMmSJWtGvyqFTEI+wSgoKHj55Zcffvhh6gcnTpx47bXXLl68KNqagTVQXqikhXFNUVGRLJ+PHTt25swZsrUDTiqLejiJil764EEIDOOCABBpcXExi5QJYPhI6gH6EamOajLw6KOPzhn9iN/u3bvr6urIXrdu3c9//vO5c+dSs6ura9euXR988EFjYyP1qI7DGsi1mRRsvHDhQrI//fTTyspKslUH2YMSXjoJMDVdYqWmxyEwjAsCQ6QLFiwgm0XKBB58JHUfvYlUXzUZ2Lp1K912ZXh4GMlksVioH53f/e53v/WtbyUkJFBPaWnp//7f/xvnAdRUESySN2uAELKysshGxqv+VRe4h4oeiLZTUQ+8DIFhXMAinRQWKeNfWKSTok+R6q4mM5vNzzzzDH15AcU7kon6ieLiYpT5q1evFm37tdnf/OY3yCrRVgO5SFghz9YAIdBXZJFGSCbqVAXU7HAPiUJNyiEAg3oI70NgmIkIAJHCeezxWaRMoMJHUtfoVqS6q8mA8iN+165dO3DgANlEaGjohg0bfvrTn+bl5VFPU1PTBx98oFYdLdcAYIWENUWSk5PlR4krKys/+eQTsr2BinpZswOU7c45BFQJgWFcEAAiTUlJYZEyAQwfScdF5yLVY00GFixYgJeJ7CNHjly4cIFsSXZ29osvvvjEE09ERERQz8WLF1977bUTE/yyqZugdpaFs3TAMwoLCzdt2kT22bNnjx07RrZnIDmAQ1E/btmuYggM44LAEOnGjRvJZpEygQcfSR3Qv0h1WpMBvExFRUVk7969u6amhmwl9913389//vMlS5ZQc3BwcN++fe+8805VVRX1TAmsgbrvHK9cuRIekv3FF19cv36d7CkBr3bs2CGTA8C3cYt6oHoIDOOCABDpqlWrWKRMABMAIr2njqT6rcnAli1bpk2bRjaSyeEH5ImYmJinnnrqueeek1tWV1f/7ne/27t375RuvqLRGuD8Iz8/n+xdu3Y1NTWR7Q7IHlT00iuA7EFWTeQb7+sZ38MiZZEyOodFaiCR6romCw0NRTKFhYXBbmlpQTJRvzMFBQXbt29X3nzl5MmTr732mvOl2omQa4DVUncNnnnmGfoZeYvFgmQaGRmhftcgLZwvsQJqjot2ITDMRASGSLdu3coiZQIVPpIaSKS6rslAeno6konssrKy/fv3kz0uzjdfQfL96U9/amhooJ6JwJoJS4OP8uH8A8lEdl1dHZKJ7IlwLupRqsMr5Idoj4emITCMCwJApLGxsfLT0CxSJvDgIykwhEj1XpOB+fPny7L9+PHjrm/p63zzFeTf66+/jmKZms7gIVlEa7QGubm5Tz/9NNmXL1+eyBnKISD9oaJ+0lLdByEwjAsCQKTQmvJHaVikTIDBR1JDiNQANRlA2T6lW/oWFxe/+uqrypuvoFj+zW9+4/zZQKyBrKNRRLuuoL1h8eLF8vcuMOOlS5fIlsATZQ4B5ASY1CWfhcAwLggAkSp/lIZFygQefCR1gU5EaoyaDGzZsmX69Olk7969e9IbqAQHB2/YsGHbtm3Km6/8+c9//uijj+RzHdZA63eOlb93sWvXrtraWrKRPcgh6QmAMztGf/rUNT4OgWFcwCIdFxYpox9YpOOiH5Eapiaj+27TPVQ6OjqQTNTvmqysLIebr6Cs/tWvfnX8+HGsn1wDrJlv1uCZZ55JS0uDYbVakUx9fX1IBWVRD09Q0bvpjF9CYJiJCAyRIgQWKROo8JHUGV2J1DA1GUhOTpYf8auoqPjss8/InpT77rvvlVdekTdfGRoa2r9//wcffEBNgMUTlsaEh4cjhNDQUNjNzc3/43/8D5kKAOW5O5dYJcpfKPNZCAzjggAQqdlsxkGLRcoEKnwkdUBXIjVSTQYKCws3bNhA9unTp0+ePEn2pERHRz/11FPPP/+8vPmK/E3WH/7wh2T4hoyMDPl2uGRKRT2B0wJ5TsD7ekY/BIBI4QCLlAlg+Egq0ZtIDVaTgdWrVy9dupTsvXv33rx5k2x3mDlz5vbt2+Wt54iPP/74/PnzoqE9yABlRQ9WrlyJVHC/qAfKQXBOMKXnMozWsEgBi5TRMyxSoEORGq8mA08++aR87Xbv3t3W1ka2O2ANKioqRMNOV1cXkulPf/rTnTt3RJc2oBh3+AQiceLECQeXXOOQRv5985thxoVFyiJldA6LVIciNWRNBrZs2RITEwOju7vbzU8pAqylcg2+/e1vJyYmUrOsrOy3v/3twYMHqak6yCEgr5FCCajo5fdfdu3a1dHRQbZrHELgfT2jW1ikgEXK6BkWKdCVSI1akyUkJGwdve92VVXVnj17yHaN8qN8WIOioqJXXnlF+Z70N99885vf/ObatWuirQZY+x0T/PTpM888ExUVhR6cYSCZ6FHXOIQgLIbRH4EhUoTAImUCFT6SAl2J1Kg1GZg5c+Zjjz1G9rlz544ePUr2RPx9vI/yBQcHP/roow43X/nLX/7y0Ucftbe3U4/HYDoq6kXbXtQjq2QGJCUlST1g40n1MG4IDKNbAkCkycnJLFImgOEjKRk6wcA1GVixYsXy5cvJ/vLLL51vLizBGigvVGJFySbo5iubN29W3nzltddeO378ODU9ADMih+TCY0asvfPyFxQUbNq0iWzXenAdAsPoExYpw+gcFql+MHZNBh5//HGU+WTv3r0btTnZShzWYKILlcuWLXv11VflV1GGh4f379//9ttvy2xwE2yPHJIzAkyKHJpo7VeuXKnUw7jXe90MgWF0CIuUYXQOi1QnGL4mA1u2bKHfSe3v70cyjYyMUD+BdXV/DaKiop588snnn38+MzOTempqapAWn3/+ubwLiwsoh4BMPirqJ114pR527drV2NhINjGlEBhGh7BIGUbnsEj1QCDUZLGxsUgmsmtra5FMZBNYVzKwqG6uARb1pZdeWr9+vWibTKdOnfrVr37l+uYrKMCVOQSQQ2Ciot6BrVu3kh4GBgaQTDi3oH7gQQgMoytYpAyjc1ikeiAQajKAl/ipp54i+9KlS7IWxuqSAR588EFhucfatWtfffXV+fPnU7Onp+fjjz/+4x//6HzzFWQPFltOCuDPDvd++lQSExMjP6VYX1+PZCLbmxAYRj+wSBlG57BI/U4IAhamD5FfQ1XxpZk2bRrq4pqaGthY2tTU1CtXrsjVfeCBBxYvXky2+0RGRiKTMBSyp6+vDz2tra1nzpwZGRmpqqqibaxWKzJMfrUE2YNTDc/iQnUfHx9fWloKu7GxEbMgEC9DcIEWq8AEDCzScWGRMvqBRTouhhZp4NRkYObMmaiLW1paYF+/fh3LQP1YA28uVKalpd13333Dw8PV1dXUI9MIKG1MJC+cegb0MDQ0RBNhZDm4lyGMC+/uGRewSCeCRcroBBbpRBhXpAHy3qUElXVKSgoMlMbUo8oaBAcHr1+/ftu2bUhW0XU3KOp/NMWfPp0ITDRv3jzRsKNFGjGMv2CRMozOYZH6i0CrySIjI5FMomH/9oeKa5CVlfX8888XFhaK9ijLli1z/xOI7qAMITQ0dMWKFaLBMMaHRcowOodF6i8CrSYDBw4cEJbJ1Nvbq+IPb92yfwKxrKxMtEc5c+bMW2+9VVlZKdpe86c//UlYJtPQ0JD8lCLDBAYsUobROSxSvxBoNdnfFb+ZQHzzzTcXL14UDS9ADgGHwSW3b99+7733Pvvss/7+ftHlKc4h3LhxY9++faLBMAaHRcowOodF6i8CqibDGii/WyHfS969ezdWmmwPwLrucPrpU2HZ37QODhYv4+nTp1977bVz585R0wMcQnjkkUfIPnHixKlTp8hmGOPCImUYncMi9SOBU5NhpZVr8NBDD23ZsiU9PR1Nq9WKZKKv4E4JjElFvWjbP4GIrFK+s7527dpXXnlFefOVPXv2/OEPf3C++cqkOIdw//33L1q0iHo+//zz8vJyshnGiLBIGUbnsEj9S+DUZHK9sdi00uHh4Uim0NBQ2M3NzUgm++PugkIbY2J1qYlhf2SHmkoSExO/YycpKYl6bt68+dvf/varr76ipps4hwAQQnZ2Ntm7du1qa2sjm2EMB4uUYXQOi9S/BEhNJtcAKBd72rRpWAmyS0tLv/jiC7JdQ0W9LLQBam0MiwUW7fFAgf/qq6+i2Bdtk+nw4cOvvfba1atXRdslE4UAtm7dGh0dDaO7u3uqemAYncAiZRidwyL1O4FQk6EMlzW4wxqAoqIiWSkfO3Zs0reosaLAoaiXI0zK+vXrt2/fLm++0tLS8te//vXDDz+UtyceF9ch4KQByUR2VVXVxx9/TDbDGAUWKcPoHBapHjB8TYY1UL5zPG4Bjv4FCxaQvWfPHnlLXwcwlMMnELGowHVR7wxOKZ5//vknn3wyKiqKekpKSn71q18dPXqUmg64E8KsWbMee+wxss+fP3/kyBGyGUb/sEgZRuewSHWCsWsyhzVwUYNv2bIlKyuL7N27d3d3d5NNIHtQ0cuhAJYTWTXVHFKydOnSV155ZdmyZdQcGRn58ssv33zzzYqKCuoh3A9hhR2yDxw44OaFXIbxLyxShtE5LFL9YOyaTK4BltzFGoDg4GAkU0REBOy2tjble8lYS+dLrICa3hAZGbl58+YXXnhBJnFtbe3777//6aefyq+uuB8CQIGPMp/sXbt2NTQ0kM0wuoVFSjbD6BYWKdl6wMA1GZZfWOO9c+xMamoqkonsmzdv7t2717moR32NobCooq0G+fn527Zte/TRR+XNV86cOfPrX//67NmzUw0BbN26NTExEcbg4CCSaWhoiPoZRoewSFmkjM5hkepKpEatyVCSy3rczTUAc+bMwYqSffLkSSykQ1E/aX3tMWvWrHnllVeKioqo2dPT88knn3gQQnR0tPyU4p07d5BMZDOM3mCRAhYpo2dYpEBXIjVkTYY0kiU56vEpFeNY0YyMDNEYBQsJ1C3qnUFV/u1vf/vZZ59NTk4WXXZycnJyc3NFww2wvTxNuXLlylTv3cIwPoBFyiJldA6LVIciNV5N5pBGU6rHUU2jolfeFzg8PPwXv/iF1jmkZN68ebLGJ6qrq3/9619P6ZOGixYtuv/++8k+fPjwhQsXyGYYPcAiBSxSRs+wSIEORWqwmgyp4HEaIYeAvMhJ70kPDAwoP6XoA5QhyLsVy5uvtLa2Us+kPPLII/JnKBAC0pFshvEvLFIJi5TRJyxSid5EarCa7NChQ8IymdxPIyyew+1SkIXf//73yUb/J598QrYPUIbw6quvPvXUU8qbr7z22msT3XzFmS1btsirx7t27erp6SGbYfwIi1TJ1q1bWaSM3mCRKtHVkdRINdnfp/5pRGxPRb1oKz6BWFBQsGnTJuo8e/bssWPHyNYU5xCWLFmCfLrvvvuo02q1jnvzlXEJCwvDHh9/Ybe1tfFHiRm/wyJ1IDQ0lEXK6AoWqQO6OpIapibDGiivtbrzvjWeghySK0c5BORzV65cKe9E98UXX5SVlZGtEROFEBER8cQTT7z44ovTp0+nHuebr0xEenq6/PIIfS2ZbIbxPSzScWGRMvqBRTou+hGpMWoyhzWY9ForFfXyKQDPUuaQZPPmzfn5+WTv3r27paWFbNWZNIS8vLyf/exnGzZsUN585Ve/+hXOPKg5EfPmzVu/fj3ZJ+2QzTC+hEXqAhYpowdYpC7QiUgNUJMhLaaURsgh4FDUu3jWli1b4uPjYfT29mr0KUX3Q1i9evUrr7xSXFxMTVT3n3zyCSr9uro66hmXtWvXLl68mGwU+CjzyWYY38AiZZEyOodFagiRGqAmQ1qQgZxwnUaooB0+gYgcAs5FvZK4uDgkE9k1NTVaJJP7IYDExMRvfetbzz77bEpKCvVUVFTs3LnzwIEDVquVepx5+umnc3JyyN61a5f73zphGO9hkbJIGZ3DIjWESPVekyE5hGUyPfjgg8JyAtmD1ZIVNMCaIatc55AkLy9v8+bNZF+4cOHw4cNkq4KbITgwb968n//85+vWrRNtk+nIkSOvvfbalStXRNuJrVu3xsTEwOjp6dHoNIVhnGGRirYbIn3mmWdYpIzvYZGKtu6PpLquybAGyguVE6UFNkMayaIem1FRT003WbZs2apVq8j+6quv1PqteDdDmIiHH354+/btBQUF1ETN/jc74xbvOC2Qn1Ksrq7mPT7jA1ikUxJpQkICi5TxMSxSAx1J9VuTOazBuBcqnYt6bIkcmuqCERs3bpRrhmXw/rfi3QlhUqZNm/bcc8899dRTVLkDFPgT3Xxl5syZjz/+ONmqn6YwjAMsUoJFyugWFilhFJHqtCZDirheA8ohAIN6qKj3bLUkW7ZsoTsC012Jvfmt+ElDmBJLliz5+c9/7nDzlZ07d5aXl1OPZPny5StXriQbpykurtAyjDewSB1gkTJ6g0XqgP5FqtOaDClCBvLDeQ1QNStzCCCHgGdFvZLo6Gj5KcX6+nokE9ke4DoED3C++UpdXd3vf//7Tz75pLe3l3qITZs2ydOUXbt2KX+VjGHUgkXqDIuU0RUsUmd0LlI91mRyDQDyQ1h2kD14VFbNAIWz+59AdIecnJynn36a7JKSEmQt2VPCRQheIm++EhISQj1nz5597bXXzpw5Q01i69atdJqCExQkE05WqJ9hVIFF6gIWKaMHWKQu0K1IdVeTYeVk2Y4sIYNwKOqRPVgkVQpnBxYvXrx27VqykbWXL18m201chKAWq1evfvXVV5U3X/n000+VN1+JioqSn1JsaGjw5jSFYRxgkboDi5TxIyxSd9ChSPVVk2ENZOWONZBZgoVBCe9Q1CONVCzqHVi/fv2cOXPIRnUsV2hSJgpBdeLj47/1rW9997vfdbj5ypdffkk3X8nOzpbJdPXq1QMHDpDNMN7AInUfFinjF1ik7qM3keqoJkO6OK8BOlHRA+oH2hX1DjzzzDNpaWkwRkZGUB1bLBbqd8G4IWjK3LlzHW6+cvTo0V/96lclJSWwFy5cKB86cuTI+fPnyWYYz2CRegCLlPElLFIP0I9IdVSTyXRBrtAaoFJGJ5ZH9iOHAAzq0ZTw8PAtW7bQm82NjY3uXLR0DsE3PPzwwy+//LL8NGJbW9uHH37417/+taWlBQ8VFRVR/8cff1xVVUU2w3gAi9RjWKSMb2CReoweRKqXmkyuAUCuUFEvK2WAYtlnOSTJzMyUXx65du2a64uWDiEIy1ekp6c/99xz8FbefOXq1au//vWvDx8+vHXr1mnTplHnrl27uru7yWaYKcEi9RIWKaM1LFIv8btIdVGToYqXJTwyBksCHIp6XxbLSoqLi+XPOBw5cuTChQtkO+AQAhm+Z9GiRa+88sry5cupabVav/rqq7fffnvp0qU4WUFPe3s7kokeZRj3YZGqBYuU0QgWqVr4UaT+r8mwBrKKR9LAlksCsCq+L+odQCbJ72Xs3r27urqabIkyBDjsr6QnzGbz448/jhctOzubeurq6j799FN5L5by8vLPP/+cbIZxBxapurBIGdVhkaqLv0QasmPHDmH6kEOHDpGB8lOuQUJCgvKebMieX/ziF3l5eaLtV2bPnn3jxg26VllVVVVUVHTs2DF6SBmC39NIghdzyZIlyCp4OzIygp62trawsDCya2trIyIibt68ad92Cr/nytw7sEi1hkXKeAmLVGt8L1I/12SIkwzQ399PBnJoy5YtutoHBQcHo1i+dOnS8PBwX19fU1OT/O1SGQLclt+Y1QnweeHChT09PY2NjWhSGhEyjcC6deugB7KDgoLIYO5xWKS+gUXKeAyL1De4KVKD1WS0Q8FfIMthZ1AgYz1QnIq2boiOjk5JSaEfvRr3x+T/4R/+QYf7SlTx8+bNy8jIwJmTww9HSORt/Qje49+zGF2kMTExycnJLFImgDG6SAP4SKrKiZOPajJKIAI15ri/sp6bm4scWrx4sWjrCfIcu/uQkBDlm/SSF154gbJfV8lEbuMFh294YZu7K5rvdInHFJwY+Q8X6v7W0FE2NDQUH2577xzPood413/vQNlCGFGkAJ5jd49zcRYpE5BQthB8JPU92L3cd999CEF5YVKyZs0aYdnxLIQgjC5MtbG/+DaGh4cHBvtuNB+qaP26uuN4z2Dz0NHnxEaj5K3pWVC4tiDlwfCwSOxSAeLx76oI753877xaYG3MFxvZMc8oL1yYmp/0gA79h257LG1Hb71e0vDRwHCPtSdhpGqRtS1LbGQndM0fhWUyhYdEF6U/s2bGy9HmRD1EwWgKJQkwqEgB+Y88RwhtvTU3W/5e3nro9rmIwTvik7lEWM716UUhM5MenJX8UGJUNg4JevBfOs8iZSaCkgQEwJHUYrHcuHGjvLwcBVlPT4/YYpSwsLDCwsKZM2cWFBSYzWad+A9EAIoQrl69WllZiabYYpTo6OgZM2Z4E4JWNRkFgH1Ne2/t0Vu/vdK4a8Q65v3wtQes7dNMI7abyAVnXw7OuUT9wUEh89O2rs7dnhg93b+LMYn/lzZau1JMYf2mwQgd+k/O43waGXOq+nenat+yDN915j3SmD9SucwUPBi6YD9SwBTeJx4YxRwSuzzrZ/dl/wgisSeVLRbxGBMoUJ4YV6SAQkCe32o9eazq9ZqOU+KBiUUKsuOXr859eUbSClRm/vKfPGeRMq6hPAmEI2l7++HDhy9fvgxbPDYx8Lm4uHjt2rWJif4/6/BxCOrXZBQA9jWWwb5jt14/U/87hCMeu5vhC48H550Nim8Q7VGCgoKXTfvx6hkvR4RHIRiKRzymPW75PxBp7YuD59aOdL35D5AxoKOn4dPr/3dN50nRO8r05Pmp8XkRwYlxsQkj1pFeSzv+NXXcut1ie4NfSXbciifn/n9jI1P9eOhitMCtJLejT5ECZDiF0Nxdcbzqjestn4kHJC5FCuYkP7Eqd3tKTH5oaCicRwjiAZ/AImVcY3SRjvlvsRw5cuTUqVNoisfcA94uX74cZU1ERITv/Qd+CUH9mgw7Gpz51bdf21v2z02910XvKNkpxalxM6IjEqLMCciwXksH9jXNnVXVzY6/GJ8aNefx2f8tPW427TEnjUQtDO0/VhP+Dw4O1rZd+vzGP3VYxm4AkxiTWZy7ITd1oTksWnTdjWWwp6rp4uWqL9q6x34mNiEid9PMf81OXoQ9Pu30xQOMkTG6SCnPEUJpw1f7bvyzwxWmaHNCTurCuKjUaHNiRHgcFTRdfc3VTRd7LO1iIzvmkNhNBf86O/0R5LbP9vgsUsYdjC5S8r+uru6zzz6jrysqSU9PT0hIQKUCoIj+/n7UPe3t7Q0NjpVlWlra5s2bMzIyfOw/8EsIatZkCACjDQwMlDV+tf/mfx4Ysd2DhEiLzyvKWZ+duiAsxCy67mZw2FLTdKmk+kBjR6Xosu8x1+f/17kZjyISH+xrXPiPc9Zi3fsPkECgqvncv1/bNjQivhEdHhq5JP/Jotz11JyUkqoD5yo+GRgS75WEBkd8e95b2UmLwsLC7OnkO0kwqmN0kQKEABDCudt/PlT1/4heOzMzls+Zvm5aYqFoO1HfVnb99jfld8be4gQP5v7TkunfCw8PpxNZ0asZLFLGNUYXqfT/+vXre/fuhSEewFlHYmJ+fj6qGXgiuu5maGgINU1FRUVbW5vogv9m88aNG+fNm+fLnYy/QlCtJsM4CAP7mit1+z+78Y+i12SKjUxZnP9EYeZd30dwQVnd0fMVn+GkVrRNpicL/212+nrsMW17Gs0WIwD8B0id7r72v5S82NZfQf2JMVkPFf8sKeauzwtPSmt37d8vv9XWXUvNxIj8Z+e/Gx9j+7IMoE7GcBg9yQFCsFU0w8Onqv7wddV/F70mE+qwxfmbM5PmiLZL6lqvn6/4FPWZaJtMD+T+x+W5P6T0ZpEyfgQZEhhH0pKSkj179ohekykqKqqwsDAnJ0e0J6O6urqsrEx514mnn3567ty5vtnJ+DEEde6FQTFgX1PXdvXTsl8OW0VRmZU0d8PiVzISxa+su0NybE5++rKWrtsymW61HZ0esyrGnAJbo7NYo/sPKIT+/v7Py/5jfc956sxOKdq4+JWYiGRquk9keNysactbu2939tou2PYPtbX2VhYmb0AaIYSJkonRMwGQ5PAfUSCE8qaj+8v/SfSaTDhQPbroP+CgJdqTgS0LM1d397e2dNVQT1XHkbSI4jhzJlUzGmU4i5RxjdFFKv2vra39+OOPUdZQf2pq6ooVK5KTp5Dk8fHxmZmZnZ2dsqaprKzMzs6mnwbX+kjqxxDUrMl6+ro+vv5q92A9dSZET3t6xT+FhUZQ033wlILMVRUNZ/oHbddskZf1XZfmpGwOCdbquqXR/QdDQ0ODg4Nnqv90qelP1BMflb5x8asTfTBlUkKCw3C0qGq8YBm0fWO53XIrzBqXHmO79Iom7/ENRwAkOfzHLhKHGRyu5Bs6S/I3r5z9XbKnRG7aIrwq8mrZ7c6z+QmPoNCB8xrt8VmkjGsC5Eja07Nr166uLvEpT5Qg69atm+idPhfgKahgUBuhQkIT2q+rq5s3bx6c124n4/cQVKjJEAPtaw5XvFbZeZA6M5PmIo3I9ox52Q81tN+kGr9vqAXjZ8Uu02JfY3T/AULA+BaLZV/5f5THqg2Lfh4fnU62Z4SGhKfE5ZbVHaVma1/5/OTv0AdWtDtNYbQgYJIcu7ZD5f+zrucMdc7MWLF6zvfJ9oBpSbM7ehvp7T8Ip9/SMyNhLTzXYo/PImVcY3SRSv+//vrr8vJy6kxNTUU1Q7Zn5OXltba20qUm/MX406dP124n4/cQvBUtYqAwWrqqLzT9njpjI1MeLPoJ2d7wQNFP5PsR5xvfxxQoMzEd9aiC0f0HdPEA+/qT1e90D4qfnl0y88n0hJlkewMGWTLzKbIx+Onb7+KgqEUUjHbYc9zYSS5DuNNx/XrbbupELfJA0Y/I9hiMgHHIxsgYH7PQdNSpCixSxjWUcoFwJG1pOXfuHHVGRUWp8nMCGARDkX327FlMoelOxr8hqFCTYWjsAk7efgst6lyc/0SUOZ5sb8AgGEo0TNbTde9gItpjij6vMbr/QIZwpeVv1BMRHrtwxiayvWfhjI0YkOyrrR/KENSNgtEOmSEBkORn694TXSbTorzHg4O8/TA7RsA4ooHdZd17mAVzaeQ/i5QZF5khRj+SHj9+XHSZTIWFhRERU37L1RkMgqFEw2Q6efKk6v4DnYTgbU1G5399/d032sU9G9Pi89z/bsikYCgMSPbNjs8xkbr7GqP7D+A/xrzdfr53SHyWE/v6kOAwsr0HQ8mDB6aobj07ODiobgiMpgRAklMI3X2tNzv2U09m0pwZaer8oh/GkV/YxPiYBXNhRupRBRYp45rAOJL29vaWlpZST2JiovtfUZwUDIUByaYvM2q0k/F7CN7WZIgB4r/Z8rX8wYeiHHdvseMmckBMcaP5EKbDa6fWShjdf4yD0TBmVYf4QAnISV0gLJVQDnir/QgyCZOKNqN7jJ7kgEKobDsi2ibT/JyHhaUGytEwC+bCjKLtNSxSZlIC5Eh686bMuvz8u34V2nvkgJjixo0b6voPdBKCVzWZ3NdUd47ta7LV3tcoB7zVfljFlQgA/wF2vhiztkfcBjMpdnp8lFefGnYGA2JYsjERpkP6IgrqYfQMMsTQSQ4UIRyjnuCgkOyUYrJVAaPJt0Exi4r+YxDAImVcgAwxtEil/1VVVaLLfpt7YamEcsDKykoV/Qf6CcHzmgwDAdrX3Ok7S505KcUT3V/YYzCg3P9iIkyHfY1DGB5gdP8JjIPRBgYGOgfFnZaykuaRoS5yWEykbgiMdthS3OBJrgyhvld88FZZQqmCssjDLJgLM9LU1OkNGIRFykyEPcsC5EhaVyd+8svFbe49BgPKmgYTqZjhugrB2+tkGNFisfQNt1KP/AaTuqSODouJsGvDpKguqccbAsB/CqFvoGPYaqFOVT4T6owcFhPZpuNTcINg9CQHIoSBfsuI+LXK5LhsMlREjolZMBdmxLzU4w02ibJIGZdQhgTCkbRP/NhXQkICGeoih8VEmuxkdBCCt9fJMGK3Zey3OaPMmoShHLZnoEmVlTC6/wD+YxyM1tWvDEHb3T3otogQ4IDoYnSJPccNn+QUwl1JHq5+kivHxFyYkaYWXZ6CEVikjAvsWRYIR1J5h1VgNqt8kY9QDtvd3a2K/0BXIXhVk2Es0GUZ+xV0X+xrBtTZXRrdfwnG6RlsEQ1U35ZOYamKctjeoVYV/We0A2tk9CSXIdx9xFI/hLv8tzTSpN77T2AcFikzLlgjSjbDH0kVBY0q949wRjksFTTe+w90FYJX710ChKEczgdQAEC0vcPo/tNQ5qAxpUWa44SlKsphMR1eN9FgdI/Rkxz4OATMpWKG218JFinjCqOLlHcyHkD+A9G24+3nyYA5SNxyA/RaOoSlKsphMZ1DDB5jdP8lESG+DSFYk+vqjBYEQJJTCOFBY1mnRQjKMTEXTSraasAiZSaCks24IhX+K96V6+/vF5aqKIfFdGr5D/QTgrfXyUBk6NgvpfdaxIdw1UU5bERIkrBUwuj+g7Dg6JAgkUxaiznYFI7pyGaMQgAkeWTo2Ji9A+onuXJM5VxqwSJlXGN0kcrfDgIWi/g6i7ooh42MjBSWeughBG9rMvoFTfPoKWxT59i9PVSkeXRYTKTuz44GgP8gODg4OjiTempbr5KhLnJYTITp+OeNDQSlnHGTHNiy3BQcPvr2X0unuKmEisgxMQvmUjEEm/MsUsYllG+GPhLhr7zO1N6uSU0ph8VE6voPdBKCV6LFiJB9SEhIcqi4GV1N8+XBYZWrSwxY3XyZ7KSQYtrXqLIeRvefoChSQhdSs7Xrdkfv2GdFVQEDYliyk0MWkP8qhsBoB6WHoZNcEUIR9SAEebtzVcBoGJNszIK5VPQfUAgsUmZcKD0C4EiamppKPQ0NDUNDQ2SrBQbEsGSnpKSo6D/QTwie12QYSIaRFr5U9CKZmi4JSyWUA6aGLRk3DA8wuv9A+h8aGpoWvkT0mkzVaoegHDDdvBQzArWiYLTDluLGT3JFCCLJlSWUKiiLPMwi0xtQp8dI51mkzLjYs8zAIlX6r7xPvSw+1EI5YFpamlr+A12F4NV1MoohLCxsWsSyoNGhSqoPkKEWckBMkRW1HLs2TEovIvV7jNH9p0EwGsZMiZgbbhLXvS/e2jc8Mki292AoDEg2psBEmM45kxh9YvQkBzKEjIixI9aV6oPCUgPlaJgFc2FGzCu6vIBeBBYp4wKji3TM/2nT5GgVFRVkqIUcEFNkZWVptJPxewie73RoIIyIccPDItOD76f+xo7KsrqxH+3yEgyFAcnOCFmHidTaXRrdf4JCCLeTFfIodfYPdF28tZ9s78G+HgOSnR220Ww2UyapFQKjHQGQ5MoQIsLi0oJWUX9d6/VbjefJ9hKMg9HIxviYhTKcpqZ+byD/WaTMuFCaUYYbUaRK/5F4qGmov62trbq6mmzvwVAYkOzMzExMpNFOxu8heBUPhUH7mnzz0+ig/vMVn6nyxSIMgqFEwxQ0M2JLRESEuithdP8pBIyJEGZGPWU2iW/unCvf09BeTrY3YJBz5Z+QHW5NwhSYiELA1NTP6BnKEHuOGzLJwV0hRD4lek2mC5WfyzccPQYjYBzRMJkwPk2kVoZjEPKfRcpMBGWIPe8MfySdNWuW6EUhWFamyh0lMAiGEg2TqaCgQNOdjH9D8DweUjtGxLio+OIjM7ODH6eHuvqavy55h2xvOFTyDoYiO8u0CVPI0tL7fY3R/ScokzAmMikyMjIn9AnxgMn0zZV3LYM9ouEReDoGEQ2cf4c8Dv8pk5BGaoXAaEcAJLlDCIkReRlBD9JDzZ1VX5eM5adnYAT5ZTSMjPGl/+hRKwQWKTMRDhluOJE6+h8fn5srflWzt7f3/HkVLmZjEAxFdnZ2NqZQ0X+gqxBCduzYIcypg7GsViv+Dg0NjYyMRA7nNlrODQbZft8DGVDRcGZe9kO0pQd8eOy/NHWKa61R1uzi6JfjYuPj4uKwu8GuDZMCetRjMIKh/SfopnMIYXh4OGI4q62/oj/oDnqws27rrs1JLQ4JDrNvODUGhnoPlbwtL3cnmRbPiXoO/gMkk7ohMNqBNTJ6kmMQGQKSPHwoo2Hg1HCQ7aeCkeFQwLSk2bTlVDlXvudqzd/JDrcmFUX9H4lxaTExMdHR0dhXAnrIe1ikjAuwRoYWKUZQ+h8VFdXQ0DA4aPu4JAqR2travLw82tIDDh48KO8fAWEuXLiQMly7nYx/Q/CqJgM0HGJAPMNDI2H9WU0jp6xBtm+Q9g9232m/mZU8Lyx0ar8b1WvpOHDxdZlGIdbIorBXk2KyEENsbCxiCA0NVcbgDUb3X0IhIJ+iB2c3D18YMtk+XNLZ21jdfDkjsSAyfGq/5dLaXbv//K/lGysR1mkLI/8xPi4R/uOIhepeixAYjbDnuLGTnEIQvw03FBrcn9xkOkEP1beVdfe35qYtoqb7fHPlvZLqr0TDZJod/H9Mi58L/7E7joyMdD5/9R4WKTMR9gQPlCMpTpzCwxsbG2HjoYGBgdbW1tTUVExHG7tJf3//6dOnZTUDSS5YsCApKUnTnYzfQ/C2JiMQBv4ijBBrdNhgSrP1NPWjxr/VeD48NCI5Nod6JqWs7ujXV37X3DX2wbqCoG1ZcYvj4+Oxo8Hu0nb2qt75KzGJ/yERyXG69h+LitTBX+zuh4es4QOZzaZTVpPtozb9A13ld07hLDwtIZ82npSSqgMIoae/lZrBpvDZQS+nxM5AGlEISCO13sVnfIbRRQpo/4gQwkYSrYOR7SZxO4yWrpr6ttKYiKTYyBTqcU1d6/Vvrrxb1XRBtE2mvKAf5Masox0lnbyq/sYfi5SZlIA5kiL9cFbQ1NRE/b29vfX19ejE7NQzKdXV1efPn+/oGPs43Zw5c6ZPn671TsbvIahznQxA/wgGO53wkZSQ/rQO01Wq8QeGequaLt5uKQkLiYiJTAkJHr/MHBy2VDWeP3z1/as1h/AU6kRdX2D6WVb0SuxoEAZiwO4SMWA62sB7yHng2v+alhJUZjr0H8jRYFA+hVnjoiyzOqxlw0G2j6oMjwzdbrlS2Xg2NCQcxy38tW/uiGWwp6LhzKGSt2/Wn8BTqNNsTZsX/PP02HkIAURGRprNZtUPV4ymYLEIg4oUkP8wKAQQOTx9pN/cEXyFNujub7lRf7yjtyEiPCY2cuw3ahyobys7c3PXqRsfYnvRZTLlDH83P3oTZTj2laqffwM5Ggw4D4NFyijBYhEGFSk5D6T/SELoqL29HTY2GBwcvHPnTmNjIzrhADajJzqAMxaUPhcvXrx16xa9dQjg6uzZs7Ozs7XzH5D/wL8h2E7dhOkFtjO/4eEeO6gKOzs7W3rLy4bf6QsW95WW5KQUp8TlRpkTosy2YrPX0tFraW/qrHK+A2TkyPRZQT9Kiy3EmattT2P/hASgV01spBJG9x8ghxACanmEgBxqa2vr7G0sHX6rO2Tsux7E9OT5qfEz7CHYbpUE/20hdNzCIYE2kMQMF84y/Tg53natG2kEcLgCWvjPaE0AJDlCADIEUNd7qtz0Ln22TBJtTshJXRgbmYIQ+ga6IsNj4X9XX3N108Weu39GEMeqmaYfZUYtp/SOtoMdLhBbqAqLlHGN0UXq7H9zc/P169eR82KLUdLT0xMSEuAGShM0+/v7LRYLROF8m1aUL4WFhdjeZzsZ/4agTk2GQQAcAogBkXR1dXV0td0e+awh9AAeF9vdjbUtKyixVjTuIiht8JHcsKeiI2MRs9xXoqgct670Hs/8nxhf+w/gP/b4AwMDCAHOI4puOzWD++qD9zsctIC1w3a34qD48e9TjGNVxvCGXPPjSCZKIxmCRocrRms8S3L9iBRQklMI8J9CaO6uqLXubQs9IzZym8ShZVlBj6XE5CPDbbWM/ZtQAKe/LFLGL9g1GnBH0o6O6urq+vp6sdFUyMjIyMvLg8++3Mn4NwR1Pk8mh6areZgMRmhIWHzQ7ISBZUNWS3+w7etRtA0YqV4wcmPVyJ1Ca1N+UHxjULi4/0eQKTh5eFWh6aXMyJX03RAQExODHWWY/avdNL7qeOD/cMl6a+PMkcqlQdEdQVHiDWN/+Q8QArC5bf8cCUJAJ3Ir2jojznLfiHWoP+iONUjczMn2+t9cZW3Mt+30LTHKnX6w1Zw0tGaWdVuqeYEs6kFkZCROvjGyfK0YYyEXjpLQcCIlKAqagkIIC4pJNC2MGJgxYGobCBKfrwITiRTEjBTkDj83I+LxhJh0Wy1m31Eiw23Xx+zVjEZJjmEBfGaRMuMiF06Z4YY/koaGohxJSkoaGhrq63M88RgXjJOamjp37tysLNsFYMJnR1IyaArfh6DOdTICQ9FZIOjp6cH5H/1Fvdlv6WkzlXQElXSHlA4Fdw0dfU48BwRZw2ZejE+KjB2elxKyMDwsEqd92LnAe0A2XhcgXyyNcNP/gdt5IzXF4jnA3GNeeCjWNMvv/gP4jyjgP3yG8/QuCf5ST8vIxcbOG521ESOdd33gJmzNB6HWuNjhOQmm4pSQRcgY+BwREUEVPWwKAXnpgxAYTTG6SIEMAT7Dc5zFUgjo6Rqobw+63Blypft27PDteeIJwNwTvuhAZFBG3PD8BGtxbPg01C7wHOmNmgYGdpQ+q2ZYpIxrjC5SF/6joGlra2tvb+/s7ER9I54wCrKXapeUlBRIUg87mYlCaG5uxp4Hm4knjOJ9CCrXZPhLb8fSe6vY0SAAsgft4CFw8uRJeookMzNz9uzZ2C0iDPgNsLvBX/QABDBRUakibvp/7Ngx2l6Snp5eWFiIxfCv/xIkE/yEz/Cc9viIAjQ2Nl68eFFspGDZsmVwD/4DuA2QPQRCwN4f/QgBiCcwhsXoIgUyBAC3AUIA8F+GcPSo44/SQKSzZs1CMgP4DyjDKeEp+bGZz5KcRcpMBB9J/es/cB1CU1PTuXPnaEslK1euhId2jXoegjrvXRKYjOZDGQifaPdHflBT/q2srBTPGQUlJ8jOzk5NTcWZK8DJHyLB9q6LShVxx/+qqir5k1US7E+RTGlpaXAbBbK//FdCM2JqQFGUlZVdvuz48U+iuLgY3sJn1PLSeYCUwhMxAl4T34fAaIEtxY0sUuAQAjynEPCXgOetrWNvYhIQKRQKnVKSk05hw388l/wHYmufQNNhagC34QaLlAH2TOQjqT+PpC5CuH79+rhnTWDOnDlw1a5Lm1Q9C0HNmoyQU9I+gkJCJNh3wC2AgrGkpIS2UYIiFBmGTMrKysL2eBYFIAf0DXI6Z/+xGNeuXaNHHYAMlixZgt0lFcV+9B/QpOQ58qChoeHvf//7zZs3xcNOLF++HEkj9/UwKIcoCnodxKZMQCAX1KAiBTQj/iIEAE8ohKt2aBsHpEjp2hI2pr0kvQhiI19he8lYpMzEyAWlxTWcSOV0zv4b6EhKBoVQX18PkZaXT/gbtRApPCdtAs9CUL8mA5gYMQC4AhzSCJw6dYq2TExM7Ff8wOfIyAgCtlqts2fP9tcygIn8/+ijj2iD++67r66ujmyEMzQ0NDAwgGfNnz8fm2F7WRED2sz30NQ4HfnDH/7Q2Wn7mQ4ly5YtkyHcf//9dJQi5wGcB3gF/Og/oylY2XGTHNg1qneRAmUIUByF8OGHH9KjSpEiKKVIER229GNBJqGpWaTMuCgz3Iginch/Ax1JMS+FUFtb+8c//hElo3hgFGUIDz30EFVjAOF4FoLmb80iGDiE9YBntB7Ys4jHTKZHHnlEWPbfgSLjxIkT77//vvOFTb8g/T9+/LjoMpkefFD8CjJ4+OGHyTh//jzOTrAxnuLmq681hw4dwispGibTjBkzhGUyPfroo8Ky6zk+Ph4n35RJlEb6iYLRGkOL1L6vs+03EYI7Ir1165YUKaB+P8IiZdzB0CIF0n8jHkn//ve/v/vu2C/9y18oB8oQqA7D6kCeiNSzELStyWz7vNHdJWUSnAbiYZNp3rx5q1evJruvr6+goIBsLMkbb7wx0XsQPkP6/8033xw+fJg6H3jgAaUYcC5bXCy+hvnVV1/RU6jpR3DgQQ59/fXX1MSOfvHixeik5rp167AiZAPYAGECnfjP+AxacSw9csCIIgUUAkQKqMdBpDiXVYpUJ3nOImXchFYcS48c4COpLxlXpFVVVdR0CAErQjUZ1gg1GUlVPOY2vvgKgwNKL+H0hg0bMjIyYI/Yf3JEnhr29/f/9a9/xdpQ07/IJcEaPPTQQ8oQYCMEkkdzc/P+/fup349QUS937kijH/3oRzj5oCZCwBkJMoaagPf1jAPKNGCRagGLlPESZRqwSLVgUpE6h6BseoYfajJnHnvsMTJu3LiBkF544YXExETqQU39xz/+0fmTFr4ECyMs+xvGwlIQGxuLZCL7xIkTLj4D6APgrcx7gLxBGk0aAsO4hkWqIixSRgtYpCriL5HqoibLzc1FwGR/8cUXUVFR27Ztmzt3LvUgvXbu3FlaWkpNH6NcGOmkM4sXL543T9yjEiGQ4WOcr7Iih5A3bobAMC5gkaoCi5TRDhapKvhXpLqoyQACzs7OJnvfvn1Ipu9+97vyQ3/d3d0ffPCBfDl8iXINXNfFGzduDA8Ph9HQ0PDll19Sp89AuiivssJbpBGSCbb7ITCMC1ikXsIiZbSGReolfhepXmoysGnTJjLwctBnddetW/eDH/wgNjaW+vFi/fnPf+7p6aGmD8CMwnLjQmV8fLy87nr06NFKp7v5aQf8VMpMmTFTCoFhXMMi9RgWKeMbWKQeoweR6qgmy8rKWr9+PdkHDx68ffs2jMLCwu3bt8tvkVy/fv3NN9/0zdvMyuXB2pDhmmXLls2ZM4ds33xEEaob9yorNT0IgWFcwCL1ABYp40tYpB6gH5HqqCYDa9euzc/PJ3vfvn1kxMTEPPfcc/KFaG9v//3vf3/kyBFqaodyDdyvi1Hgh9i/wX7nzh2tv+qCRJnoKivhWQgM4wIW6ZRgkTK+h0U6JXQlUn3VZEBed0V1r1wJvBDf/e535R1ZDhw48OGHH1osFmqqDhZJWFO8UJmUlLRx40ayDx8+LG9kojrKyh0454rHITCMa1ikbsIiZfwFi9RN9CZS3dVkaWlpMpmwErJ0BXPnzt2+ffvMmTOpWVJSsnPnTuUGaqFcJKwQGe6zfPnywsJCsrX45ghCdnGVlVCGgEfJYBhVYJFOCouU8S8s0knRp0h1V5OBlStXypXYu3cvGURCQsLzzz+/Zs0aara0tOA1PXHiBDXVQplGntXFGzZsoHvH1dbWYlGpUxUwmuurrIQyBOdHGcZLWKQuYJEyeoBF6gLdilSPNRlAgR8WFgajoaHB+SN+jz766Le//W2z2UzNffv27dq1a3h4mJpeolx4z9IIpKSkyOuuWFT6lKX3IIdkioCJEl2GgBzyOASGcQ2LdFxYpIx+YJGOi55FqtOaLCkpSV53PX78+I0bN8iWFBUVbdu2Tf4U6MWLF9944w3vFwxrIJcK60SGZ+AcRV4c9v66K11llUU9UsT5KiuhDEH586gMoy4sUgdYpIzeYJE6oH+R6rQmA0uXLp0/fz7ZqN+HhobIlqCC/vGPf4wFo2ZjY+Nbb711+vRpanqGMo28r4tlgV9dXS1/HdkDkBzKNIJv415lJZQhTLQNw6gCi1TCImX0CYtUYgiR6rcmAyjw6eshLS0tSCbqdADbbNmyhb40Cz777LM9e/aQPVWwYGRgAbxPI5CWliZ/CPbgwYN1dXVkTwnkkEwOMFFRT2BjMtQKgWFcwyIFLFJGz7BIgVFEquuaLDY2FolC9pkzZ65evUq2A4sWLXrppZemT59OzXPnzu3cubO+vp6aboI0kgum4oXKNWvW5OXlkT3V667jXmXFX2o6gxDkxvyGCOMbWKQsUkbnsEgNJFJd12RgoR2yUeD39/eT7UB6evrPfvazZcuWURN1NJIJKUVNd5BppPqFyg2jPxOBZXb/Bn1IC2Uaub7KCrCldiEwjAtYpNRkkTK6hUVKTf2LVO81GXjsscfi4uJgdHZ2Onyh14HNmzc/+eSTZFut1j179nz++efUdA2WjQwsgOoXKqdNm/bII4+QfeDAgTt37pDtAuSQTAuAHJrUq0OHDpGhRQgM4xoWKYuU0TksUkOI1AA1WUREhPyI38WLFy9dukT2uCxduvSll17KyMig5qlTp95+++3GxkZqjgvSSC6bRhcq77//fvnFFtfXXVGkK4t6pIXrop5ACPIp2J4MhvEZLFIWKaNzWKSGEKkBajIwf/58eTV13759XV1dZI9LZmbm9u3bFy9eTM2ampo333xzovzDAsg00vRCpbzuWlFRcezYMbIdQEIo02jSq6yEQwhkMIyPYZG6gEXK6AEWqQt0IlJj1GRg06ZNSUlJMHp7eyf9ofigoKCnn3768ccfp+bg4OBHH3007rN8dqEyKytLjo8Cv6mpiWwJckgmBEAOuemPDAFp5JdrrQxDsEgngkXK6AQW6UToRKSGqclCQ0PlN0dKSkrOnj1LtguWL1/+05/+NCUlhZrHjx9/7733WltbqQmUFyp98PUKrLT8Sovyuit82LFjh/QEOe1OUU8oQ+B9PeNfWKTjwiJl9AOLdFz0I1LD1GSgsLBQ3tdu3759bW1tZLsgOzt7+/btCxYsoGZlZeXOnTuvXLkCGwvgm2utSuTb+Tdu3Dh58iQMpALqeuoE8MT9NHIIgQyG8SMsUgdYpIzeYJE6oCuRGqkmAyjw09PTYQwODiKZqNM1YWFhzzzzjHwTur+//29/+9tXX33llwuVyOx169aRjQL/rbfekqkAkENT8kSmoC9DYBjXsEiVsEgZHcIiVaIrkRqsJgOyQC4tLaUC2R1Wr1794osv0vvo4PDhwyiNyfbxGjz88MOZmZkwhoeH5c+KoZzfsWPHlM4wcFogLH5DhNEZLFKCRcroFhYpoTeRGq8my8/Pv//++8neu3ev62/nKsnLy9u2bdu8efNE205RUZGwfEhaWpqw7KA2R10vGu6BNNLPtVaGcYBFClikjJ5hkQIditR4NRl45JFHqEAGk35zRElkZOSzzz6bkJAg2vYPOcpLr77h3XffvXDhgmiYTCEhIYsWLRINt1GmEZ9/MzqERcoiZXQOi1SHIjVkTQYee+wxMsrLy93/mQWAuri9vV007CCTPvjgg56eHtHWjFt3fyskPDwcf4eHh5XfHHEHvV1rZZhxYZESLFJGt7BICf2I1Kg1WXZ2tnwRDxw44OYPxWMNZF28atWq2bNnk11aWrpz586bN29SUwswtfwgIUBV/r3vfY/sa9euufOFZEIZgk6utTLMuLBIAYuU0TMsUqArkRq1JgN4HeXPLLj5zRHlGmzcuPH73/++XIyOjo4//OEPhw8fpqa6IIfk1IC+FZKfn7969WrqQYHf2dlJtmuUIeintGeYcWGRskgZncMi1ZVIDVyTAXnvu+rq6knfzEZdLCzFhUoYqLKjo6Op+dVXX/3tb3+b6DfzPcDhKqvDt0I2bNiQmpoKw2KxuHPdddwQGEbPsEgZRuewSPWDsWuyadOmPfroo2Qjk6qqqsh2BmugrIvJIObMmfPSSy/NnDmTmleuXNm5c2dlZSU1vQGTOlxldf5WiPxCcklJifITi864CIFhdAuLlGF0DotUPxi7JgNr1qyZNWsW2S6+OaJcA+e6OD4+/vnnn1+7di01W1tb33vvvePHj1PTA1DOK6+yopynq6zUVALnV6xYQTYKfBcfkHQdAsPoFhYpw+gcFqlOMHxNBjZt2hQcbAukrq7uyy+/pE4lqIuF5fJC5fr167/zne+YzWZqIi8/+uijwcFBaroPpZHyKivSSF5ldWbDhg3JyckwXPworJshMIw+YZEyjM5hkeqBQKjJUlJS5NvhR48eraioIJvAGijrYjImYv78+du3b5cfeLx06dKbb75ZU1NDTXfAdEgj0bDPiDQSjQkICQlBMpGNGQHZkimFwDA6hEXKMDqHRaoHAqEmA8uXL58zZw7Ze/futVqtZAPlGrhTFyclJf34xz9etWoVNRsbG99+++1Tp05R0wVU1MvpqKh3sxKfPXv2fffdRzYKfJT5ZBNTDYFhdAiLlGF0DovU7wRITQYee+wxulja1NQkv9CLupgMMKU12Lhx49atW1F3U/Pzzz/fs2ePMkEdmOpVVmcwY2JiIoyenh7lN0c8DoFh9AaLlGF0DovUvwROTRYfH4/FIPvkyZOlpaVYA2VdTIb7LFy4cPv27dnZ2dQ8d+7cG2+8Me4t9TAR0kg07HMhjUTDbUJDQ+V11wsXLpSUlMDwMgSG0RUsUobROSxS/xI4NRlYsmRJcXEx2SjwlWvgWV2clpb205/+VF4LvXPnzs6dO5FS1CSQQ3IiKuo9rsHnzp27dOlSslHgWywW70NgGF3BImUYncMi9SMBVZOBTZs20W3r2traqAd4uQZPPPHEU089FRQURM09e/Z8+umnZANvrrI6gwI/Li4ORmdnp/KMgff1TMDAImUYncMi9ReBVpMhjeQ3RwjUxcLyApw3bNu2bdq0adQ8c+YMGRLMgjQSDS8wm83yunF9fT0ZqoTAMDqBRcowOodF6i8CrSYD8qIrCA8Pl/eR85LMzMyXXnoJKSXao1BRr2L1PX/+/EWLFomGybR27Vo+/2YCDBYpw+gcFqlfCMCa7O+Kr1cMDAzs3btXNLwmKCgoNjZWNEbJyMjw8iqrM3TRmLBYLMJimECBRcowOodF6hcCrSZTfr2CuHz5sutfv3If58HBiRMn3n333ZaWFtH2Gsxy9OhR0TCZTp8+XVpaKhoMY3xYpAyjc1ik/iLQajK50g888MDy5cvJRoHf0dFBtmfQTVPk4A7lPB7duXMnfefWe+Qs6enpZOzfv39kZIRshjE6LFKG0TksUn8RUDUZ6mJh2b9esXHjxpSUFNgWiwWLQf0egGGRRkgXao77IURM8eGHHx44cEC0PUWGgGR94YUXoqKiYLe2tnrjP8PoBxYpw+gcFqkfCZyaDGugLO3xNyQkRH5z5OrVq6dPnyZ7SiiHBRjZ4XOCyKqkpCSyjxw58vvf/769vZ2aU0U514MPPhgdHS3vfXfy5MmbN2+SzTAGhUXKMDqHRepfAqcmU6aRXOxZs2atXr2a7H379k3pvWrnq6xIGoc0Aujfvn37vHnzqFleXv7mm29ev36dmu6D6ZQhYFgYixYtKioqok4+C2eMDouUYXQOi9S/BEhNhrpYWE43hUOBTHdDGR4eRjJR56RgQOerrLS6zpjN5meffXb9+vXU7Onp+fOf/6x0yR0OHTpEBmZRhgD/5a+PKX+9i2GMBYuUYXQOi9TvBEJNhjVT1sVkKJH3jrtx48bx48fJdoFyQIAxHbJzXNauXfvDH/6Q7h0MMMIHH3zQ3d1NTddgRpm1Dz74IBkEBpT+Hzt2rKKigmyGMRAsUobROSxSPRAINZkyjcZdctTLMsP2799/584dsp3BcrpzlXUiZs2atX379jlz5lCztLT0jTfeQPpScyIwqTIE53OIJUuWzJ07l2w+C2eMCIuUYXQOi1QPGL4mQ10sLKdrrUrwkPxd+oneTsZQ7l9lnYjo6Ojvfe97skLv6ur64x//ePjwYWqOy0TXWpWgwA8NDYUBGXj/nRSG8SUsUobROSxSnWDsmgxrL+tirDoZEyG/OVJZWfnNN9+QLVEW9WBKRb0zyKTvf//7MTEx1Pzqq6/+8pe/9Pf3U1MJQpC56yKEhIQEed31yJEj8ikMo3NYpAyjc1ik+sHYNZlc+3EvVDqQlZUlPzx48ODB27dvk41VURb1GAcrOtWi3pnZs2dv27Zt1qxZ1Lx27dobb7yBJKYmgUmVIZAxEffdd19hYSHZE52gMIzeYJEyjM5hkeoHA9dkqIvJwKq7WYmvXbs2Ly+PbPrmCAZRphGWU5U0IuLj43/4wx/ef//91Gxra3vvvfeOHTtGTSCvtWJed0JAgR8SEgKjvr4eYqBOhtEtLFLqZBjdwiKlTp1g1JoMGSDrYvmWszs89thjZKC6/1//63/JQQByyM2MnBKPPPLId77znYiICGp+8cUX//7v/z44OIgQZAa7OW9ycvKG0XvfffPNNzU1NWQzjA5hkbJIGZ3DItWbSI1ak8kMQF08pWI8LS1Nvp0sbxOMEVQs6p2ZP3/+Sy+9JE8sLl++/G//9m/KEMhwhxUrVhQUFJDNb44weoZFClikjJ5hkQJdidSQNRnqYjKw9h7U4w6fEMRCappGRFJS0osvvrhq1Spq9vb2koHZpxqCLPBxgiLTkWF0BYuUDBYpo1tYpGToSqTGq8k8vtZKvHv3t0LAwMCAsLQHJxbPPPMMvZNNdHZ2TvWX6lNTU+UJCl6N2tpashlGJ7BIWaSMzmGR6lOkBqvJbk12UzgX4LnKDyEmJyeTcfz48UlvRqciLS0tw8PDomEynT9/fufOnVPNBpwl5Ofnk803qGR0BYuUYJEyuoVFSuhQpAarydy5Kdy4oApWphGy8JVXXpE/d7pv3z7l6mqKVEJWVhYZd+7cefPNN8+ePUtNN5EFflVVles76TGML2GRSlikjD5hkUr0JlIj1WTIBpkKU7rWihyS6wd+NPqtkMcee4y+xIGKm77QqzUIQVgm07Zt255++umgoCBqfvLJJ59++inZ7pCeni5vEvPVV1/V19eTzTB+hEWqhEXK6BAWqRK9idQwNRlySGaD+9da8awdO3bI/MOzlB9CjI2NlbckPn369LVr18jWCKSRMgT8Xbx48fbt2+nH9sGZM2feeuuthoYGak7K2rVrc3NzyeY3Rxi/wyJ1hkXK6AoWqTO6EqlharKp3hQOYOVQ14uG/YnKNCIWLVq0cOFCslHgWywWsrVAmUYyhIyMDCTT0qVLqXn79u033njjwoUL1JwUed21srLy6NGjZDOMX2CRjguLlNEPLNJx0Y9IjVGTISdkhe5mGk10ldUZLAbKfBgdHR179+6lTtVBCMIaL4Qnn3zyiSeeIHtkZGT37t1uXgHOzMx8+OGHyf7yyy8bGxvJZhgfwyKdCBYpoxNYpBOhH5EaoCZDDinrYjJcgO0drrKi6VDUK4mKipLXXVFWX758mWwVQRpNGsJ99933s5/9LD09nZonTpx45513WlpaqOmCdevW5eTkkM03qGT8AovUNSxSxu+wSF2jE5EaoCab0rVWrJnzVVbRmJj58+fLa54o8Lu7u8lWC2UauQhh+vTp27Ztk1eAq6ur33jjjZKSEmq6QN77rry8HClINsP4DBYpNV3AImX8C4uUmi7Qg0j1XpMhM2SdPmkauX+V1RkU+ElJSTB6e3vVve6KEITlRgihoaFbt26VZxsDAwMffvjhl19+Sc2JQArKr8+gwHfnnIBh1IJFyiJldA6L1Cgi1XVNhjVQ1sVkjMtUr7I6ExYWJj/ld+XKlXPnzpHtJe6HoGTlypWQgbwX39GjR99//335m2Ljgkyi27RYrVZ+c4TxGSxSarJIGd3CIqWmIUSq65pMuQYu6mKslgdXWZ2ZPXs2lpBsFPhtbW1ke4ObITgDGbz00ktFRUXUrKio2Llzp+vvGEsllJWVnTp1imyG0RQWKYuU0TksUgOJVL81GfJDWBNfqEQ5781VVmewGGlpaTAGBwe9r5HdCcEFZrP529/+trydXW9v71/+8peDBw9S05mcnJz777+fbDjf2tpKNsNoBIuURcroHBapsUSq05oMa6Csi8lwgNLIm6uszgQFBcl3oK9fv37y5EmyPcCdENxh7dq1zz//fEJCAjW/+eabP/3pT11dXdR04JFHHsnIyIAxPDzMN6hkNIVFKmGRMvqERSoxikh1WpMp12DcuhjrhDQSDftmnl1ldSY/Px+LR/a+ffuamprIniqThuA+M2fOfOmll+bMmUPNsrKynTt34i81HZDXXaGEM2fOkM0wqsMiVcIiZXQIi1SJIUSqx5oMWSKs8S5UUlEv1wnlvJdXWZ1Zv369/JSfm3ecc8B1CB4QFRX1ve99Tw6F6h41Pip9airJy8tbs2YN2SjwOzo6yGYYFWGROsMiZXQFi9QZ/YtUdzUZ1kBZF5Mhcb7KijTy8irruMgauby8fKq/tOA6BG/AaD/4wQ9iYmKoefDgwb/85S+9vb3UlDz66KN0x7yBgQHv38tnGAdYpC5gkTJ6gEXqAj2LVHc1mXINHOpirBDSSDTsGyCNRENtcnJy5OxffvllXV0d2e7gIgTvKSws3L59+6xZs6h57dq1N998s6KigpoSee+7q1evnj9/nmyGUQUWqWtYpIzfYZG6Rrci1VdNhlwR1t0XKqmolytERb3qi+QA8kD+Vrz7NfJEIahIbGzsD3/4w3Xr1lGzra3t/fffdzgFmTlz5qpVq8iG86rfT5m5Z2GRugOLlPEjLFJ30KdIdVSTYQ2UdTEZwGdXWZ2R3xypqqqSP0zhAmUI2p15EA8//PCzzz4bGRlJTZyC/Pu///vAwAA1AQr8lJQUGP39/e4rgWFcwCKdEixSxvewSKeE3kSqo5pMmUayLsbaII3IBnhI6xVSMm3atEcffZRsZFJ1dTXZE6EMwQe5Pm/evJdeeik/P5+aly9ffuONN6STQUFB8r18PHTx4kWyGcZjWKRThUXK+BgW6VTRlUj1UpMhY4Q1eqGSinq5NlTUa3QN0wVr1qyRbzm7/uaIDAGu+szPxMTEF154YfXq1dRsaWl555135M1gCgoKli9fTvYXX3zR09NDNsN4AIvUM1ikjM9gkXqGfkSqi5oMa6Csi6kHaeSXq6zObNq0KTjY9kLV1dUdOHCAOh1QhiB/xNRnbNiw4Vvf+lZ4eDg19+7du3v37pGREXoI2QYDaYRksj/OMFOGReolLFJGa1ikXqIHkeqiJlOmEepi5aoAdCKNRMMfpKSkyLfDjxw5Ul5eTrYEGa8MwS8ZX1xcvG3btpycHGpeuHDhjTfeqK2tDQ0NldddL168ePnyZbIZZkqwSL2HRcpoCovUe/wuUv/XZMgbYdnv0qaHq6zOLF++fPbs2WTv37/farWSTcgPLcJhP3qbmpr6k5/8ZMWKFdRsaGh48803z5w5M2fOnGXLllEnCvz+/n6yGcZNWKRqwSJlNIJFqhb+FWnIjh07hOlD5EuPJVHmDfrb29upiTJ569at8tep/M706dPPnz8/PDzc09ODxUDhTP0IQX7ob8uWLX53uKCgID4+/saNG5TuZWVlXV1dODu5dOmSxWIZGBiA/8gtPCRXwfeXiBn9wyLVDhYpowosUu3wl0j9XJNVVVWRgTSS73kDpJEeinolkZGR0dHRpaWlsGUaARkCfF68eDHZ/mXatGk4F6mvr0cOoQmjoqICvtG14jt37qSlpeFUgHf3jAtYpJrCImW8h0WqKX4RqS4+TwZkGiGldHKV1QEUy1iMoqIi0b4buK2rnWZGRsa2bduWLl1KTaT+gQMHlDfuGxwcJJth3ET/IgUsUuZeho+k6uJ7kfquJsNKgBE7ossJFMhII6yKaOsG6fyjjz4aFRUlehU8//zztI1o64Mnn3xy8+bNZMN5nIiEhYXB7ujoQDJRP8NIKIftGjWeSAH5v2HDBhYpE6hQDhtUpNJ5PpJOhI/eu6RXmUBIhw8fFg8oQBqhQA4KChJtfyO9HRoa6rf0XL3zxfFbbx669d/7gm5bW8SXMgjzjPKmoKMDg5bYsGkoc/Es6tdDLJmZmQUFBajue+y3VJEyVv7umK7OSxh/QQlPGEWkgBweHh7GCWtz162LdR8dq/lN58jN4WaIcYywnOu3hj/u6W8zB8eHBUeLXhYpYygo2wkjHknB1atXjx07dvDgQcp2JeHh4c3NzdgmPj4eTTyL+u8pkQbJsFXHvhA2sLscGOy70XyoovXr6o7jPYPNQ0efExvZCU1ozZ5vXlC4tiDlwfCwyGA7WAY/rgR5jte9vbf26K3fXmncNWIdFo9hPW6uHGnMN1lt7gVnXw7OuUT9wUEh89O2rs7dnhg93e8hKEEge/bsuXDhgmjfzb/8y7/gL7mqE4cZ30B5DowoUiCdv9V68ljV6zUdp8QDE4sUZMcvX5378oykFSEhIX4PQcIiZcaFkhwY+kiKUgYV5KVLl5Q/WzQRKM4WLFhw//33R0dH62E/I/GBSLWqyeRKjF/TNMy03lpsHTLD1ltNQ56jVLcM9h279fqZ+t8hDvGYkpEQa1fKSE1xSJHjve+CgoKXTfvx6hkvR4RH2UVhC0Q85j8Q1MmTJ8e9gfJ/+k//Sb7ahHiACWgo1Y0oUgC34Tx02txdcbzqjestn4kHlEwsUjAn+YlVudtTYvJDQ0MRAmIRD/gPRMQiZZTYNWrsIylKyRN2LBaLeMw9zGbzypUrV6xYERYWhigoEPGY/0BQE4n0n//5n+mllogHpoL6NZl9ISavaawd6cMl6x3OXwn/1jTIfuRQffu1vWX/3NR7XfSOkp1SnBo3IzoiIcqcgLh6LR29lvbmzqrqZsc7yKVGzXl89n9Lj5tNe3xfhiChtQDyBOvyjSNV50zDvWPv3YDQNX+MDkvJiV+Vn/SArq6CMBpBWWFckcJ50mlpw1f7bvyzZdj2rShJtDkhJ3VhXFRqtDkxIjwOCsW/rr7m6qaLPRZxgwDCHBK7qeBfZ6c/EhIS4uMQJLQWAOHgoHXjxo3Lly9XVVUhQLHFKNHR0TNmzJg5c2ZBQQEOV/Jl94vbjNZQVhj6SAra29v37Nnj/AOXaWlpCQkJkZGRERERCLPfDjZubGwUW4ySk5Pz9NNPx8XF+fGqNq0FgEgRVFnTwUtl31ScHR65+0gatuaD6PDU3PjVM5MfLEh5SJ7sTclt9WsyeOxmTdNyeyAipUc/NQ08x6sxMDBQ1vjV/pv/eWCkWzyABIrPK8pZn526ICzEdkbizOCwpabpUkn1gcaOStFl3+Ovz/+vczMeRQiUT+IBn2BPofFOsIZDh8tXWJvGPv6JmkxYurkKwmiKcUUK4DyATs/d/vOhqv9H9NqZmbF8zvR10xILRduJ+ray67e/Kb8z9hYneDD3n5ZM/154eLj9sOXTq2VjIm1vP3z4MKox2OKxiYGTxcXFa9euTUxMhO2zV57xJcgEg4qUUnpwcPD27duffvqpvFMaiI2NnTVrVnp6uvz9Igeg64aGhps3b9LtJwjk+eOPP47iDIdRPx5JeyxtR2+9XtLw0cCw/ZNwLo+k4SHRRenPrJnxMs4MpyRSNWsyOI3RDFrT0IsODVyp2//ZjX8UvcihyJTF+U8UZq4R7ckoqzt6vuIznJSLtsn0ZOG/zU5fjxR0f1W8xJZBk51gjdTOM1mig5Jtpy9B8Q3UKfHvCRajHYYWKYDzECk4VfWHr6v+u+g1mVCHLc7fnJlku4XjpNS1Xj9f8SnqM9E2mR7I/Y/Lc39o3+H7aI9v16hdpBbLkSNHTp06haZ4zD3g5/Lly1GZRUREsEgDCaOLlBR669atv/3tb/JWEWFhYYWFhTNnzqTmpJSXl5eVlSmf/uyzz6IsgwH/fZPqdo3aRGrb4VT/7lTtWw6X5IHrIyle+fsyf7o858fuv/0ahCmF6R0Yx7g1DTkPDeCk5MOrP5UayEqa+0DRT6LMtu+AuE+vpeNQyTt1rdeoGR4c8625b01PLoIYIAnq1BRaiMB4+5VREUOLFNCxCkVMRfOx3aUvi16TCZ6vm/+iaLjNN1feQyCiYTJtmf16fspqs9kM/7HrFL2aQQtRV1f32WefOb9fk56enpCQgGJLvrODqNvb2xsaHHf6aWlpmzdvzsjIYJEGBkY/kgIcSbu7u//0pz+1trZSf1xc3JIlS/CXmm7S2dl57tw5/KVmUlLS97///fj4ePupUwh1agoWAnT0NHx6/f+u6TwpekeZnjw/NT4v2pyIg+mI7Uhq+4xEU8et2y1XxBajZMctf3Lu/y82MhVuT/riq1OTYRC4btyaBs5DA109HX+5/GJLvzh7Toie9u3V/5VsD/jw2H9p76knOzmi8PsLfx9pjiY9UKcWIBCSRGC8/cqoiNFFCiBS0NRR/bcrP+4evEOdS/I3L5n5FNlT5Vz5nnMVn5IdE5bxnfm/S40X749QpxZIkV6/fn3v3r0wxAP292jy8/NRkE30GuKUHWVZRUVFW1ub6IJIzeaNGzfOmzePRWp0AuBICnp7e3fv3o0spU6cNixdujTMfkOvqTI4OHj27Fl50gJ1fOtb38JQQNM8p4XA7LVtlz6/8U8dlrHPwyXGZBbnbshNXWgOu+vDZBLLYE9V08XLVV+0dY/dJiPenPPYrP+WnbzIvndxJVJ17k9GAfT0dX18/dXuQVGIoKZ5esU/hYVGUNN98JSCzFUVDWf6B20ZOWwdqO+6NCdlc0iwJnscOI89HV79wxWvVXYepM7MpLlwnmzPmJf9UEP7TTpN6RtqwfhZsctICRolEwIBOGhdu/Plpzf+Ea8b9eMEa+Xs76ye84PEmCy8htTpDB7CBrOz7o+JTGrtrh0Y6kUnBrnRuh81ZVLUDLz46OE9vkFBbhhXpAD+Q0Q4XB0q/591PWeoc2bGitVzvk+2B0xLmt3R29jWbfuBFxz/+i09MxLWwnmNQgB2jdpEevXq1T179sCg/qioqPnz5y9YsCAuLs7FVTo8hA1yc3MjIyM7OzvxgqATg5SWlibbYZEaGuSGoUVKR9LTp0/Lu0XExMSsWLEifIJPj00K/ERJd+fOHTp1wakIhpInLdrlOVYBsqpuOf/htZ/h8E2d4aGR98165sGinyTHZoeGTBgRHsIG87IfxPaNHRXDI0PotAx3XG/5fHrM8tiIdBL4RM6rUJMhjYxb09j3kLZz1pau6v2VwmEUMRsXv+KBBhzISp53q/E8FTd3ei7Nit8UE2n7uB8tibogCqQRAqlru/pp2S9lQYYTrA2LX8lILKCmOyTH5uSnL2vpui2ve99qOzo9ZlWMOQW2Fs4zWoP0MPSJh12mNp3Wt1/7uuZfqTMlLnfj4p8HBXmVkLlpC2uaS3otHbCb+6/PiH0g2pys0R4fIZBIa2trP/74Y1mQpaam4riFioqa7hAfH5+ZmYmyrLfXtnsBlZWV2dnZOATCZpEaEaSH0UWKwS0Wy+eff04lFFi+fDnlpMegLEO2y29utrS0FBcX03UyjY6kFEhXb9ue0n/oHWyi/sSYLFQFuWmLqOkOaQn52akL7rTf7B+wfQptxDpU23lhVsLG8NAIF857GxIFgExCTXOh6ffUiZoGtSTZ3vBA0U8wFNnnG9/HFNiLYTrqUQWMhjGRQCdvv4UWdS7Of2KqV4nHBYNgKNEwWU/XvYOJ8FqpGwKBMbG777P0KN+yxAnWY0t/6UEseMrjS3+Jp1MTA35R/i8YXPXXn/EBWDJgXJECDEg6PVv3nugymRblPR4c5O2bjBgB44iGyYTxMYtGeY4xbSLt61O+ZYkj1qpVqyIipnwGiKfgifKAhwH37duHwVmkRgRLBowrUrqwhILsxIkT8iuTs2fPTkpKItsbMAiGIhuDnzp1SmuRYvz9N/5zW794+zU7pejJ+/6vpJgsaroPnoIn4unUxIBf3PwXFHwunFehJsPoCMCgNQ1lUl9/9412cc/JtPg89z9HOSkYCgOSfbPjc0xE/qsYAsBoGBYvzrFbr8vPw+EEy5vPwwE8PStpLtkY9mjl/4bk8HLhRaNOxhAgPQwtUkA67e5rvdkhfl0uM2nOjLTFZHsJxpFf2MT4mEWLJJciPXLkSHOzuAKdmpr68MMPk+0ZeDoGIRvDHj58mEVqRIwuUun/pUviNmlms7mgYArvz7iG7slH9uXLl6X/KoZAUBTnbv+5suMQ9cRHpT9Y9NPw0HF+ndMd8EQ8HYNQE8Oeqf4TpoBCxxWptzUZBkUMxq1p4DyK1pstX8ubIxflrCdDLeSAmOJG8yFMhxdNxUyiVwMvi3GvgjCaYnSRAtJpZdsR0TaZ5ud4Vco4oBwNs9CJrGirAb0aNpG2tJw7d446o6KiFi9WoazEIPLnnM+ePYspWKSGIwCOpBiwpqZGvpk+a9YsFd9bxFAYkGxMUVVVBZGq6D+B0RAICqYLjeJICtbN/9FEH+d3Ezwdg4gGjqQN79OJ07jOe/uSYVzj1jQYBENhwOrOsa/EZ6cuEJZKKAe81X5YRf8JmUZGf/uV0QhDixQodHqMeoKDQrJTislWBYwm3wbFLNqJ9Pjx46ILh8nCQg/esnQGg2Ao0TCZTp48ySI1HIFxJL1165boMpkyMjKEpRLKASsrK5HhmFS01QCjYRVQLZ2sfmfsa90zn0xPcPeeai7AIPLr4Rj89O13IVJM5/z6e1WTyZUwYk2DEQDWFQPe6TtLnTkpxRPdKsJjMKA8fmAiTDfuSngMZZKhr4Iw2oFlMq5IgT3RhE7re8UVJmUJpQrKIg+zYC51k5xEivP70tJS6klMTMzJySHbezAUBiS7rKwME7FIDQSWybgitWeZUOjt27epMy4uLjraq2tLzmBAeYczTITpoCmEQD3egygwIEqlKy1/o56I8NiFMzaR7T0LZ2zEgGRfbf1QnjgB6iQ8r8loLFoJg9Y0GARDoS7uGxa3tkuJyyVDXVJHh8VEVB2rmEkYDa+Jod9+ZTTCJlHjn3hgHJtOB/otI+JHWpLjsslQETkmZsFcKvoPhEhv3pTCz8/PJ0Mt5ICY4saNGyxSo4A1AgFwJMWhraPD9v1lID/jqC5yWEyk7k4GYDSswu32871D4uOeKMhCgj25rdq4YChZ4WGK6lbbEtjW/u4QvL1OhjAMWtPQa4Ghui1jN9GOMicIS1WUw/YMNKniP4EQMBSW1tBvvzLaQUlu3BMPm0rtIXT1K3QarsL78g4ox8RcmJGmFl1egEFIpFVVVaLLfqd+YamEcsDKykoWqYHAMhlXpDaR2P2n7/xSpypvyjsjh5XTqbKTAQhBiLRj7Eiao/aRVDngrfYjKAGd/ff2OhleFIPWNLQGoMsy9nMlqnwGyxnlsN0Dqu3uaRCjXwVhtIMyxLgiBfCfdHp3CBrUZEqRWhppUswuujzFvgJCpHV14r7eLu7U7zEYUJZlmIhFahQoQ4wrUjiPQTCU/BEkoHVNBrq6ush/OCC6PMW+AkKktT2nqDMpdrr8sqRaYEAMSzYmIpE6LIFXNRnGAsataQD8V2Uc9yHPgWh7B8bBq2H0t18ZjUB62DVqbJEChKDWUO6AuTCjaHgNRhMi7eujnoQETY64clhMxCI1CpRswNAixSA9PT2iYTL19/cLS1WUw/b29qrlPMA4eDWgms7BGurJSppHhrrIYTHRuCdOXr13CZBJar0obmJbBDui7QU0jjlIfDYW0O28VUc5LKZTxXlA/mNRjXsVhPEBhhYpoKHCg8YyUAudKsfEXDSpaHsBjQO9yBtpAnmnJXVRDtvd3c0iNRCBcCRVpJ8PrpNhOrXSm/yHXvoGOoatFurUuizGRLbpVLxOBigS49Y0RGTo2E+a9FrEh4jVRTlsRIgK9zUm8DpgOYHRr4Iw2kHLZHSRgsjQMeH0DqgfgnJM5VxegtdBiFRRk/ngiEU1mX3xWaR6h5bJ8EfSyEhh+eQ6mYoiwusAhUIvd31o1QdHUou4uqFcCG+vkwHj1jSAfvDLPHoK3tQ59iFcFWkeHRYTqf4jeg4r6gMwHSHajO4xtEgBVBNkCg4PEruzlk7x/oKKyDExC+ZSV6csUmZSjC7SsLAw+gl8oHVNFhwcjOnIVguIpWdQ/Nw46LOMfTxORZTD9g61OovU25rM0DUNhsLSIo2SQ8W3IWqaLw8Oi0uXaoEBq5svk50UUowZgVpR0IoGwFUQRjsMLVKg0Kn42TjoVN75RRUwGsYkG7NgLvVFqnhnxwdXETAdi9RAGFqkGApAMvLXV5uaxE93q4scFhPZjqPq/U6AEOnoWR+INIt7oamLclhMh7M10RjFq5BoGQxa09izSPifFr5U9CKEJvFzXWqhHDA1bIla/isx+gkWox0yyQ164mFT6ZhOl1CnsoRSBWWRh1lkTQao03vkzx8Bi0Xl159QDqt8I4nROTLDjXt1gEKQ9w/r7OxUfuRfFTCg/GpnSkoKOa+W/0REiG+vbgSPfUZW4nlNRi8HXhfj1jTkfFhY2LSIZUGjL0VJ9QEy1EIOiCmyopaHhoZiUnr1qN9LaBzjXgVhtMOeZcYWKSD/odOMiLEQrlQfFJYaKEfDLPQuDOYVXV5DL4W8VNbersmJkxwWE6n14jNaY5OokUUqnVfejQXcuSN+nkgtlANmZGRgRqBKCJKw4OiQICFSrWuyYFM4piNbiVc7HVoJg9Y0NAKGwoDhYZHpwfdTf2NHZVnd2F3jvARDYUCyM0LWYSJ1d/cIgVbBuCdYjKZQehj3xIMGIZ1GhMWlBa2i/rrW67caz5PtJRgHo5GN8TGLiv4DDEKrIK8iNDQ0DA0Nka0WGBDDkk1XEYAq/jNaQ+kRAEdSZHh4eDj1K3+1wnswFAYkG1NgIkynYoZTFBgwOjiTempbr5KhLnJYTGSTqFMl4HllQDHQShi0piH/scAg3/y0LVftnK/4TJUaGYNgKNEwBc2M2BIREaGu/wBDYUCjv/3KaAFliKFFCigEodNI8Tu+4ELl595/qgwjYBzRMJkwPk2EGTGv6PUC+woIkSqvIsj6SS2UA6alpdk1yiI1AJQhhhYp+U/Ckb/iarFYbty4Qbb3YCj51vyMGTPMZjNeLrX8JxAFRksJXUjN1q7bHb0qixQDYliyk0MWkEIB9RBexYOx5EoYrqahFwJDYUAscHxkZnbw4/RQV1/z1yXvkO0Nh0rewVBkZ5k2YQpMRP47LIPH4HWgEAz99iujHVgjLJZBRQooxyjJIZ/EiLyMoAfpoebOqq9L3iXbYzCCfF8eI2N8KVL0qJLhYyKdNk0OWFFRQYZayAExRVZWFovUQGCNsFgGFSnlGGU4/J81a5a8S0VpaWlrq7iZuTdgEPnj/ZAnpsBE5D+mpn5vwCAkUqhGfmgVVKt9dUM5YLp5KWYEmFoZhefrQaNgRLw0Bq1paCXI/+jo6FlR34qyit8hrm299uGx/0K2Z+Dpda3XyMawGByZSkpwWAOPwSAAr4ZxT7AYTaE0M7RIAcaROo2KipoZuTXcKr5lUn7n5LnyPWR7AJ6LEcjGmBgZ45P/WogUI6Mso/62trbq6mqyvQdDYUCyMzPHloBFqn8ozQwtUspwDIhSKTIycsaMGeIBk+nChQsDAwOi4RF4OgYRDZMpNzcXzmt3JE2JmBtuEh/Ovnhr3/DIINneg6EwINmYAhNhOucQvFIsxpL7SiPWNICWAcNiXxwdGVsY8pMQq/i+UntP/edn/82D0xQ8Ze/Zf8PTqYkB54T9DIMjWcl/2/qr5D/GQQi20ytjXgVhtAYZYnSRAtIpQoBOE6KmzQp+UTyAuqri02+uvCcaUwHPwnNFw2TCmBiZajLMhRnFA16jFClO8UUvznbKylS5KQYGwVCiYTIVFBSwSI1FAIgUQ5FCcZjLy8tLShJnTd3d3efOnRsc9LCywRPxdAxCzeTkZBR8WvivFGlWyKPU2T/QdfHWfrK9BwUZBiQ7O2yj3M84iDRkx44dwvQIRALojojDQyNh/VlNI6esQbaPr/YPdt9pv5mVPC8sdGr320UdcODi602d4toMapqisFeTYrLi4uJiY2PxkiESTEqPqgJ9FHF4eDjEGh02mNJsPU39OLe41Xg+PDQiOVa8Rz4pZXVHv77yu+ausTPggqBtWXGL4+PjY2JisMfHGgDxmHfQi0A3VkHujgyGWix9nVbbW/gDQ72tXbcLMsUHoj3my4uvt4zGkmV6bEb8OiwBFZcq6oHRFJtEjS9SAP/xFzoNG0m0Dka2m8T3Tlq6aurbSmMikmIjU6jHNXWt17+58m5V09jJd17QD3Jj1pHzyG34r1Z60yB2jdpFOjJisVg6OmznS2h2dnZmZ4ujr8ecPn2aBgQYDUdEFqnhwDKBADiSwv+hoSEc7JqamqgU6+npaWxsRJWGKoQ2cxOo49SpU/LdT6T0kiVLcCSF8xgfNZla/tMg5PzAwEDEYHbtwDfDJtuv02LHglce+xb7hp7T0F4uL3mGW5OWxP6S6gEEBZECegh4W5MRCAZ/DVfTAJsO7OBFoSUJH0kJ6U/rMF0lPaC4qWq6eLulJCwkIiYyJSQ4lJ7owOCwparx/OGr71+tOYSnUCc0UGD6WVb0SmgA/sN57CXhPKajDbwHQ8Fn/IUM4H/kcG6j5dxgkO0mLnjxKxrOzMt+iLb0AJxgST3jBKs4+uW42HjEQgct26vGu3vjYFyRAplspFN7qk8f6Td3BF+hDbr7W27UH+/obYgIj4mNHLtdnwP1bWVnbu46deNDbC+6TKac4e/mR29CYgP4r/qxCkMpRYrXp6GhgQ5Xvb29tbW1qKJoSw84ePCgvAVGdHT0woULKRAWqRFBeuCvcUUq8xwhIP1QlqEHD+E8BHkO8crrZ5NSXl5+4cIF+bP9cHXu3LmpqakkUvgPkSpLGS8h52GgJoP/gxZr68hFeqih/easaStCQ8T3ST3AMtjzxYVf4y81Z4R8a1pcEQJBQYY6FVEoRarOdTJg0JoGYDTKJPk3wpQWOzS3c6R8yF7cgB5Le2XjuYuVe5s7b2G/j3+9lnb8xS6+uunipaovcNqNDbAZbQ8iR6bPDvoPmbGL4DzV9chRlPaYAoiN1IAGpBff0FdBGI2gDAHGFSmgAfEX/tO+GOcJ4YOZ7aYrFAVo6669UXestPZwZ29je099V19Lbev1rr6m2y1XbtafPHrtD1dqDmIb2hjYnd+WE/0APJfOI7fVPVYB26svRWo/XDU2NsLGQzgGtLa20nf7aWM36e/vP336tCzI4POCBQtwzGORGhHKEGBQkcqhYMB/GDjYYSLkJ0ocNNGJEq2urg5piVpkIolBDtjm3Llzt2/fpnEAvC0qKsrIyID/YNxSxntIj1RQRgxntfVX9AfZ7oiGWgo7jZzU4pBgT37NCatwqORt+ZnsJNPiOVHPUSCIAjpFFMpAbDs4YXoBhdFjp6Ojo7Ozs6W3vGz4nb5g8bVPSU5KcUpcbpQ5gX6JE8d+FDdNnVXOd+VGTTMr6EdpsYXYv8gAgEMAqoAXAaCWB3AeIXR1dXV0td0e+awh9AAeF9u5S1Da4CO5YU9FR8YmJCRAAzh/BchCdWVAwHPkLs4nQFtbGzRQ03Xs2shvxMMmU2xkyuL8Jwoz14j2ZOAE63zFZzgzE22TqdD0cl7C/YiFFgKigt7EY4xBMLpIAaU66RQhkE6buytqrXvbQs+IjdwmcWhZVtBjKTH5cN5eksWT86rv64GzSKuqqq5cERf5AI5ehYWF8j4Ck1JdXV1WVtbbKw66YO7cufn5+SxSQ2N0kSLJ4T/SEv4jyZHqiOLatWvKH+An0tLSkKsotgCaOMEAeArOVWgDCdyGNFJSUuA56RR1DJUyYguVIOfheXd3N06TmtvunB/41z5THT2aGJP1UPHPkmKyqOkmrd21f7/8ljwPjLBOWxb5L0nxttgTExPHDUSdmgyDANpXGq6mIeA/9ACwJEgprArADrSjr67WtK815ITVJGp2FwSZgpOGV04PeizWnIGdLHxGPsXExJAGsK8HYlNVgfODg4M4w7AdpuxUdR6tDHp/OEhc+AVp8XlFOeuzUxeEhYz/pj5OsGqaLpVUH5AVPcAJ1kzTizjBQgIBRIS4tAuE0Q67Rg0vUvxFqkudIgSAvXlj/+X64H3dwW7dDylmpGDayKa0iGIcD6BQQGqVdYwW/sN5B5HeunXr5s2bOAyILbDfT0xEXZWeng5PRNfdIPCGhoaKigr5LUuAF7ygoCA7O5tFanTsGjWwSOE8KhskOfyH5wiBjqQ4A6mtrVWmujvAyczMzLy8POQzRIqaTPo/kUC8gV58qg5Rk4H6zpIr1v93xCS+NxoeGrkk/8mi3PXUnJSSqgPnKj4ZGBJH4WBT+DzTP05PXAiR2mtjcW9qelSiTk0GMI69pDFkTUMgBMonQMUy/UV69Vt62kwlHUEl3SGlQ8GOJX/oSGzM8OzY4XkpIQvDwyLheWRkJNwGZNsUoNmBisArb+gTLMYHBIBIgdQphAn/setHODDQ0zVQ3x50uTPkSn9wrfKEBODsImIkK254foK1ODZ8Gk5P4bPSefTAcx+LtLm5+fr161gLscUoKMtwEIVX8ioCgm1vb3e+0yyWoLCwENuzSAMDo4uU5Ik8h/MIAUkOYOMvyjIkPB4Vm04M3EtOTs7JyZGe4y+A83RhSaPchvM4cQIkT/y903mlzPq2JWjs6l1iTGZx7obc1IXmsHF+GQlYBnuqmi5ervqirVtcYwMR1rTC4J+lxcyFrgEWBYy7EKrVZEDuKwEWA5lEfw1R0wB6KWi/STtBZBLEQDYtFR4CA9b2wSDbF53CrPHm4EQ4hoIXIF2QNHAYYGeKv+ihHHJ+6dUFzgP4CSiZjHWCxfgGJImhRQoQAv7Scct2StvfD50CSn7SKWIcHOkbNLUPmDrDTXFhpoSwYNv3m8Ls2A9MtttqANt7J/bPkAEMq6n/do06ibSjo7q6ur5e3DpnSmRkZOTl5UGYLNJAAkliaJHCeYQA5+EwPIc26S/1oCxra2tD/kOn2Ew8xy49aBMnFYmJiampqbDhMLRJWQ2b/IdONfUfzuMQTz7T26+dvY2lw291h4zdboaYnjw/NX6G/eqG7X5mvZZ229WNjlu3W8Y+k0DEjhTOtP44Od72gWzoFMjCQGyhQOWaDH8NWtNIEAWAkwgEbgP4jygon+wHgiFsgJWjFxRZAt/gJHLIvnsXUA8e8qXn5B4JABoGhrsKwmgKkgR/kSTIcOOKFNhUOprwcF5COoX/6Kdt4Bg5D6nCc7hKCiUoKNpGDK0l0mdHkXZ01NTU4HCFDcSmEwNXU1JScnJyoE0WaeBBOYAkQRojpQ0qUipu4DDchv9IeIQAoFBAj5KNjelMCb6R/6RN5DYB/7EB+m0q1VinePHhG7yC58q3X2sG99UH73e4+j4pIdbIjOENuebHEQVEiprMXmG6evtVzZqMwIAALzdSClHRktBKwLbvjnRa00jIPfxF6sNb0gCBJkKjR7ElQoB79PoC8plAJ7CnkC/29QR5bs9zo14FYXwA8gQYWqSAPAQkTDhPIgUIDdijFDUZJbBdmjbgOQQLg5ynMH0DuW3XqKNIsQT0DQAcCRCReMIocNj23mRcHAoyHMBYpIENZa9xRUr+Q4zSf4IynxQK57ENbU/+w1Xkue3cwg78J7XSo77JbbgEx+AelZIQI4Dd2duMsqw15MRIkPjlTRcEW82JQyumBz0ebU6kUyb8BQgK4SCQiWJRvyYDFJJcD/tOUoCmciXgFl5ovNy2ikYHNY0DFAgBt8l5QP3kGJykECRoAr+4Ta8q+UknVUY8wWJ8AOUw/pIqKTcIw4mUoMRWQv3kHrmqhPqBGMhXwCX8dUek1MTGeKkhRrgql4BFei+AVDG6SOEegKvkP6ox+osmgP+AHCM/yWfKZxiIBXEBHztPLyz8hAZRllFxhr/U0zJysd10uSvk+lBQp/LdpyBTcKg1LnZ4ToKpOCVkEfwnhdK1MbteJ3/7VZOaTILB6UUHtCq2PY2OaxoH6MXBX3KYoCagbchV6TP9BfSoXyD36AVHAgFjnWAxvoQygaCcsWvUMCIFcBV/4a2MhQzqB/CTvJVu4y/10wa+B74BesFZpIxrKBMIyhm7Ro0hUnKSsh1I5wE6AW3m4DxVYzDgv79CoFebtEllGRRKIgX06ICpY9Bku0dg6Ei8OTgBPtuKYi/eftW8JqO/AAEQ1AS0DSUN/krD7rOf08gF5Ln0n1zVm8Nwj15qOqOynViNQpKgR7ElPMdrThoAtIsn7NLw81UQRmtkPgO7QG1QE9A2UpvSsCeFTrNCug1gK/3Ulc/wjV5qUiXJk2CRMkooDfAX2AVqg5qAtpHalIY9KfSVFeQwOY+/1EMPSYeV0EP+wu6skKf9vElANRkUqhQpgBIRBVQJkdreebWDygw90Cw9OmlQ2tZk40IzynnJRb+/+oEKXmebfO0ggWhfD6ifXnbKFduufRQ03ckeJlBhkfoSFinjAQYVKRwmyKZOAM+VIdBfPUDekjBRn6Eao79oApIteUvCtJ8ref72qx9qMsaX0Prak2psv09NQNtQusi8ob+AHmUYRlNIiSRJIVEWKcPoBsiQJEknSyjFyAB2jY6JlMoygqoxGFOSKtdk9yK06HLpKV3cTxqGYbSGRcowOgSSBFSi4S/10EPyTEkJPeQ+XJMxDMMwDMO4ha0os0M2dQJZhCn/ThWuyRiGYRiGYfwPf32aYRiGYRjG/3BNxjAMwzAM43+4JmMYhmEYhvE/vvs8mfIDcfwhNv/i/ecQmYCHBasfWLCMhIWpH7QQpo9qMsziAHXSo4wvQeo4Ix5jGDskUiXUSY8yvkRI9G7EY8w9BolRCXXSo4wvEVK8G/GYF/iiJsMUtnsgKm5R/etf//rPf/6zeJjxLZQ38u8LL7zwy1/+UpVkYgIDFqyuYMEyBAtTV2gkTM1rMowPkD3A/iNRtl8keOSRR65evSq2YPzKwoULz507F8w/YMzYYcHqHBbsvQkLU+eoJUxf1GSo6+n3oXp7e/v6+iwWy5YtW0pLS4PDI6OzZovtGJ/TU1s6MtCHTDpz5kxoaKjoZe5tWLC6hQV7L8PC1C3qClPzmsx2pXVkpN9OV1dXZ2cnkun555+/efNmbN6i5f/zvNiO8Tmn/nFxV+WFBQsWUCbxuyEMYMHqFhbsvQwLU7eoK0xfXACnAn9oaAh1PdIINT6a4jFGB9ByaF2dM0aBBatzWLD3JixMnaOKMDWvyeAfGLZ/JnFgYIAyCU3xMONvaIGAaDP3NpQMLFjdQgsERJu5N6BFZ2HqFlogINqe4qMPipKvqCIBp5He8D6NmACDBatnWLD3LCxMPaOKMH303qUyjYAqrjMMowUsWIbRISzMewEfXSdjGIZhGIZhXMA1GcMwDMMwjP/hmoxhGIZhGMb/cE3GMAzDMAzjf7gmYxiGYRiG8T9ckzEMwzAMw/gfrskYhmEYhmH8D9dkDMMwDMMw/odrMoZhGIZhGP/DNRnDMAzDMIz/4ZqMYRiGYRjG/3BNxjAMwzAM43+4JmMYhmEYhvE/XJMxDMMwDMP4H67JdM17623/Dmyx/fv/rDRtnSn6GYbRORAsKRf/oGI0GYbRGziqQqH6Obbe6zUZVoJ2nXordyhRsmJs/4jVGab/s5j37Mw9h25FOhEkXghWAhWjiU6GCRgMJ0xn4DmOqrriXq/JFqfetevUDzJRartNx+7Y/hHw1rgCYBgP0K1IJwIOS0i8UDHx3nphMIzRMZwwHdBhQQb4vUs9Ii+GYVf+4gHTv5yw/fvNZdGp3OMzDKM3zjfZlIt/63cL8ULFhLzszTCMf9mSJwxdEWS1WoWpDcPDw0NDQ912WlpampubYfzyl7+srq6OzVu0/H+eF9t5BGoXqtNRryhrdpyYYj+IKhgvutwJYhdZ1W3rl4z7VgI9V+IwCB7FDndXuWhqhHQM+3QlE/V7xql/XNxVeaG4uPjkyZNmsznIjniMuVdRXbAuRAopOZxqQ6S7K+/SlzsilVMAZ5nrBO/Fy4K9l2Fhqst76+86QcKL4PFhXV1hBsh1sv+z+K4EQkoBZJXyRYeNbab03gE2xsjKQTACetwZBOmIrJ3oHx6dCPnWJJLYAdnDb18yhsNZpNgJKnsAtIbN3E9vbAk1KQchmaPTnUGkHsf9pyIsWEa33IPClAWZ80HW7wTUe5co0umfsuCVnfTqYyVkPSQ7yaZ/VM8BbEbLBrAZPUqgX7udLEpJhglUpNBIpFJZ+CfFiL2/RNkvt5QiddhSubGu3piQzsBDhtEhJB/8C3hh4thNR/bfXLZdutMbAfLeJXDnHQEqsZEc8uMdcgTnS5eyHlc+hOWU2TbpjK7rNofpJNIlpZ+ErO69udAq4bdCGGe0e4sETCqZcfU4kUgnUoqUCY4Ert8r8UyhU2VKOw0XsGDvZViYEm+EKcVIPk8UwpTg9y7HAWs8LlgAvOgO1zwpLVyDZxHIKuVSwZZzuc4bgI1d/GOYe4pxReqgUHmQcOdqsdx4d6UwCHkYyJ1M6Q6SdPinFrIgw36fYfTGvSNMWZAhZG/G0ZQAqcnkJVMlqMqxADI/PAMFnMxLh+zUiHFjYRij45zYtIv0XlAYxEGk+gF7IcLh7I5hdMK9I0z4A6BEHX4HSBKw98JAjS+vh6Eopn9YDBVxvYdVnmQ4/5PX4Vzg4noe79wZoyPPWQktFDrph0UcVOnwz3sQo1Sxw+cQGEafBKow5dmR8jqLrDupfNQDAVuTydd6/egtgjwrjZGOGGHcfxrhot6i/bu68mAYvyDfBCGJkUId3uxwE6Uqlf88k7xaKI9t/K4lYxQCVZgurnHoioCtyQiH8sXFqji8TS4v56K2w77VA5B22BFP9M/1G5QQA6G8nCZtHX5VhGFUwfWnVRweleqWZ8BTxUGVDv8mBXsGqHKi/YPyu5Z8YZsxNAEgTMjQ+Z90lZp6IEC+d4l1ctjrIRvkVSUqYpTvjqNUJ+QIgJYETXpUjgDkauXaf4DSeTp1QTLJM2yamuYlpPNewl/jYpzR9NaUStU4S0+Z5OiRJ9MTiVQpEylzgEfR1Pq9QuXszjsEZ5+VeHadgAV7L8PCdBPXwnRgohdhSvD3Lt1CXmtFMuFFl6lDYCUI5c7RYTOkDhKIoIfwj1LT9UmD9yA55H5cOS9A6jBMAADpOehLJjlQfjNrIpFCJlIOUub0qHIojVDuBBx2CDgqSCeBdEz+YxjdEsDCNAQBW5NRWsjcAmiihKceZWI5bKa0UZY5P6o8UdAOTIGpZWUGMDX897iWZxi9oTztAch25Dz+Aey7UdlIJhIp5ECidh5Ha+ShC38ddgi6ul0tw0yVQBWmITD2e5eMN/BbIYwzLFjdwoK9l2Fh6hZ+75JhGIZhGCbQ4JqMYRiGYRjG/3BNxjAMwzAM43+4JmMYhmEYhvE/XJMxDMMwDMP4H67JGIZhGIZh/A/XZAzDMAzDMP6HazKGYRiGYRj/wzUZwzAMwzCM/+GajGEYhmEYxv9wTcYwDMMwDON/uCZjGIZhGIbxP1yTMQzDMAzD+B+uyRiGYRiGYfwP12QMwzAMwzD+h2syhmEYhmEY/8M1GcMwDMMwjP8JslqtwtSG4eHhoaGh7u7unp6e5ubmlpYW2L/4xS+qq6uDwyOjs2aL7Rif01NbOjLQV1xcfPLkSbPZHGRHPMbcq7BgdQsL9l6Ghalb1BWmj2oypBESCGlEmfQP//APyCSxBeNXkEmnTp0KDw/3MpOYwIAFq3NYsPcmLEydo5YwfVGTAWRSb29va2trW1sbMukvf/nL119/jUe1np1RQolCGRMyyg9/+MNf/vKXvItnCBasfiA9kjCFXFmw9yosTP1AuiMBClmqJ0zNa7KRkRFkEtIItNtBVgHKMGzAyeQzgoODkStIGhBvJ84OmmFhYV5mEhMYsGD1AwuWkbAw9YOmwvRFTQb6+/stFkuXnb6+PjSRRujnNPIllCtIGhBjJ9pOaGgoemgD2pK5Z2HB6gcWLCNhYeoHTYWpeU2G8ZExg4ODAwMDyCHU+DCQVfYEG6ENaEtGayiTkDcg0k6EHbr06k0aMQEDC1Y/sGAZCQtTP2gqTF/UZAC1/NDQEHIIIKtgo5MyifElSBckTXBwMF13RVGPv2gCsQVzb8OC1RUsWIZgYeoK7YSpeU0G7LlkyxvkE4ABqFNswfgEqt/xl/KJQA5RD23DMKRNFqzfIVWSPIVcWbD3MKRBFqbfIfWRDIUs1ROmL2oyQHlDCUR/qZMeZXwGZQyljq2k5/07Mx42ubJgdQBpk0TKgmVssmRh6gDSIIlRXWH6qCaTcA7pBMoeVXKICWBYsDqBBcsoYWHqBNWF6euaDHAa6QTevzPuwILVCSxYRgkLUyeoK0w/1GQMwzAMwzCMA/zlHYZhGIZhGP/DNRnDMAzDMIz/4ZqMYRiGYRjG/3BNxjAMwzAM43+4JmMYhmEYhvE3JtP/H48Iit6bgmOIAAAAAElFTkSuQmCC)\n",
        "\n",
        "Dropout is a technique for preventing overfitting. Dropout randomly selects a subset of neurons and turns them off, so that they do not participate in forward or backward propagation in that particular pass. This helps to make sure that the network is robust and redundant, and does not rely on any one area to come up with answers.    "
      ]
    },
    {
      "cell_type": "markdown",
      "metadata": {
        "id": "NRYPkQPA3ZZQ"
      },
      "source": [
        "### 3.3.5 [Flatten](https://pytorch.org/docs/stable/generated/torch.nn.Flatten.html)"
      ]
    },
    {
      "cell_type": "markdown",
      "metadata": {
        "id": "QuMt-DpZ3ZZQ"
      },
      "source": [
        "Flatten takes the output of one layer which is multidimensional, and flattens it into a one-dimensional array. The output is called a feature vector and will be connected to the final classification layer."
      ]
    },
    {
      "cell_type": "markdown",
      "metadata": {
        "id": "pSur4TGx3ZZQ"
      },
      "source": [
        "### 3.3.6 [Linear](https://pytorch.org/docs/stable/generated/torch.nn.Linear.html)"
      ]
    },
    {
      "cell_type": "markdown",
      "metadata": {
        "id": "PATqMedY3ZZQ"
      },
      "source": [
        "We have seen dense linear layers before in our earlier models. Our first dense layer (512 units) takes the feature vector as input and learns which features will contribute to a particular classification. The second dense layer (24 units) is the final classification layer that outputs our prediction."
      ]
    },
    {
      "cell_type": "markdown",
      "metadata": {
        "id": "_opXKGWj3ZZQ"
      },
      "source": [
        "## 3.4 Summarizing the Model"
      ]
    },
    {
      "cell_type": "markdown",
      "metadata": {
        "id": "Eo6eRrp23ZZQ"
      },
      "source": [
        "This may feel like a lot of information, but don't worry. It's not critical that to understand everything right now in order to effectively train convolutional models. Most importantly we know that they can help with extracting useful information from images, and can be used in classification tasks."
      ]
    },
    {
      "cell_type": "code",
      "execution_count": null,
      "metadata": {
        "id": "2IAS92gZwcP3"
      },
      "outputs": [],
      "source": [
        "model = torch.compile(model.to(device))\n",
        "model"
      ]
    },
    {
      "cell_type": "markdown",
      "metadata": {
        "id": "6RGyX0o1um3i"
      },
      "source": [
        "Since the problem we are trying to solve is still the same (classifying ASL images), we will continue to use the same `loss_function` and `accuracy` metric."
      ]
    },
    {
      "cell_type": "code",
      "execution_count": null,
      "metadata": {
        "id": "-BUIQ5COwsri"
      },
      "outputs": [],
      "source": [
        "loss_function = nn.CrossEntropyLoss()\n",
        "optimizer = Adam(model.parameters())"
      ]
    },
    {
      "cell_type": "code",
      "execution_count": null,
      "metadata": {
        "id": "SniWnvc5NSkA"
      },
      "outputs": [],
      "source": [
        "def get_batch_accuracy(output, y, N):\n",
        "    pred = output.argmax(dim=1, keepdim=True)\n",
        "    correct = pred.eq(y.view_as(pred)).sum().item()\n",
        "    return correct / N"
      ]
    },
    {
      "cell_type": "markdown",
      "metadata": {
        "id": "OBgbUNDH3ZZR"
      },
      "source": [
        "### 3.5 Training the Model"
      ]
    },
    {
      "cell_type": "markdown",
      "metadata": {
        "id": "tsS9zDKh3ZZR"
      },
      "source": [
        "Despite the very different model architecture, the training looks exactly the same."
      ]
    },
    {
      "cell_type": "markdown",
      "metadata": {
        "id": "FrBT-Gduum3j"
      },
      "source": [
        "#### Exercise"
      ]
    },
    {
      "cell_type": "markdown",
      "metadata": {
        "id": "FYxlOfp6um3j"
      },
      "source": [
        "These are the same `train` and `validate` functions as before, but they have been mixed up. Can you correctly name each function and replace the `FIXME`s?\n",
        "\n",
        "One of them should have `model.train` and the other should have `model.eval`."
      ]
    },
    {
      "cell_type": "code",
      "execution_count": null,
      "metadata": {
        "id": "e9R0vJA8NQUW"
      },
      "outputs": [],
      "source": [
        "def FIXME():\n",
        "    loss = 0\n",
        "    accuracy = 0\n",
        "\n",
        "    model.FIXME()\n",
        "    with torch.no_grad():\n",
        "        for x, y in FIXME:\n",
        "            output = model(x)\n",
        "\n",
        "            loss += loss_function(output, y).item()\n",
        "            accuracy += get_batch_accuracy(output, y, valid_N)\n",
        "    print('FIXME - Loss: {:.4f} Accuracy: {:.4f}'.format(loss, accuracy))"
      ]
    },
    {
      "cell_type": "code",
      "execution_count": null,
      "metadata": {
        "id": "wr-X8QkVv9I7"
      },
      "outputs": [],
      "source": [
        "def FIXME():\n",
        "    loss = 0\n",
        "    accuracy = 0\n",
        "\n",
        "    model.FIXME()\n",
        "    for x, y in FIXME:\n",
        "        output = model(x)\n",
        "        optimizer.zero_grad()\n",
        "        batch_loss = loss_function(output, y)\n",
        "        batch_loss.backward()\n",
        "        optimizer.step()\n",
        "\n",
        "        loss += batch_loss.item()\n",
        "        accuracy += get_batch_accuracy(output, y, train_N)\n",
        "    print('FIXME - Loss: {:.4f} Accuracy: {:.4f}'.format(loss, accuracy))"
      ]
    },
    {
      "cell_type": "code",
      "execution_count": null,
      "metadata": {
        "id": "qOYsrlmUwyyI"
      },
      "outputs": [],
      "source": [
        "epochs = 20\n",
        "\n",
        "for epoch in range(epochs):\n",
        "    print('Epoch: {}'.format(epoch))\n",
        "    train()\n",
        "    validate()"
      ]
    },
    {
      "cell_type": "markdown",
      "metadata": {
        "id": "pVytGlnl3ZZR"
      },
      "source": [
        "### 3.5.1 Discussion of Results"
      ]
    },
    {
      "cell_type": "markdown",
      "metadata": {
        "id": "Ukd8Kk8l3ZZR"
      },
      "source": [
        "It looks like this model is significantly improved! The training accuracy is very high, and the validation accuracy has improved as well. This is a great result, as all we had to do was swap in a new model.\n",
        "\n",
        "You may have noticed the validation accuracy jumping around. This is an indication that our model is still not generalizing perfectly. Fortunately, there's more that we can do. Let's talk about it in the next lecture."
      ]
    },
    {
      "cell_type": "markdown",
      "metadata": {
        "id": "zsOHIy5F3ZZR"
      },
      "source": [
        "## 3.6 Summary"
      ]
    },
    {
      "cell_type": "markdown",
      "metadata": {
        "id": "DcIRdSur3ZZR"
      },
      "source": [
        "In this section, we utilized several new kinds of layers to implement a CNN, which performed better than the more simple model used in the last section. Hopefully the overall process of creating and training a model with prepared data is starting to become even more familiar."
      ]
    },
    {
      "cell_type": "markdown",
      "metadata": {
        "id": "o0wFCmbK3ZZS"
      },
      "source": [
        "### 3.6.1 Clear the Memory\n",
        "Before moving on, please execute the following cell to clear up the GPU memory. This is required to move on to the next notebook."
      ]
    },
    {
      "cell_type": "code",
      "execution_count": null,
      "metadata": {
        "id": "0Ul7wgax3ZZS"
      },
      "outputs": [],
      "source": [
        "import IPython\n",
        "app = IPython.Application.instance()\n",
        "app.kernel.do_shutdown(True)"
      ]
    },
    {
      "cell_type": "markdown",
      "metadata": {
        "id": "4kMR2FOK3ZZS"
      },
      "source": [
        "### 3.6.2 Next"
      ]
    },
    {
      "cell_type": "markdown",
      "metadata": {
        "id": "13FglbMX3ZZS"
      },
      "source": [
        "In the last several sections you have focused on the creation and training of models. In order to further improve performance, you will now turn your attention to *data augmentation*, a collection of techniques that will allow your models to train on more and better data than what you might have originally at your disposal."
      ]
    },
    {
      "cell_type": "markdown",
      "metadata": {
        "id": "PEzcSC6x3ZZS"
      },
      "source": [
        "<center><a href=\"https://www.nvidia.com/dli\"> <img src=\"https://developer-blogs.nvidia.com/wp-content/uploads/2020/03/DLI_Feature_new.png\" alt=\"Header\" style=\"width: 400px;\"/> </a></center>"
      ]
    }
  ],
  "metadata": {
    "colab": {
      "provenance": [],
      "toc_visible": true,
      "gpuType": "T4"
    },
    "kernelspec": {
      "display_name": "Python 3",
      "name": "python3"
    },
    "language_info": {
      "codemirror_mode": {
        "name": "ipython",
        "version": 3
      },
      "file_extension": ".py",
      "mimetype": "text/x-python",
      "name": "python",
      "nbconvert_exporter": "python",
      "pygments_lexer": "ipython3",
      "version": "3.10.12"
    },
    "accelerator": "GPU"
  },
  "nbformat": 4,
  "nbformat_minor": 0
}